{
 "cells": [
  {
   "cell_type": "markdown",
   "metadata": {
    "colab_type": "text",
    "id": "view-in-github"
   },
   "source": [
    "<a href=\"https://colab.research.google.com/github/jugernaut/Induccion_MeIA/blob/angel/3_IntroduccionIA/03_MiPrimerRedNeuronal.ipynb\" target=\"_parent\"><img src=\"https://colab.research.google.com/assets/colab-badge.svg\" alt=\"Open In Colab\"/></a>"
   ]
  },
  {
   "cell_type": "markdown",
   "metadata": {
    "id": "XKcKm7OJbfaC"
   },
   "source": [
    "<font color=\"Teal\" face=\"Comic Sans MS,arial\">\n",
    "  <h2 align=\"center\"><i>Mi Primer Red Neuronal</i></h2>\n",
    "  </font>\n",
    "  <font color=\"Black\" face=\"Comic Sans MS,arial\">\n",
    "  <h5 align=\"center\"><i>Profesor: M. en C. Miguel Angel Pérez León.</i></h5>\n",
    "  <h5 align=\"center\"><i>correo: zeus@ciencias.unam.mx</i></h5>\n",
    "</font>"
   ]
  },
  {
   "cell_type": "markdown",
   "metadata": {
    "id": "pL3l51BpO_hL"
   },
   "source": [
    "## Introducción\n",
    "\n",
    "*TensorFlow* es una *API* desarrollada por *Google* y es el conjunto de herramientas libres que se utiliza más ampliamente en el desarrollo de inteligencia artificial. Se usa en los asistentes virtuales de *Google* e incluso en sus buscadores.\n",
    "\n",
    "Existen múltiples versiones de *TensorFlow*, sin embargo en esencia vamos a contar con la versión 1.x y la versión 2.x. La principal diferencia entre ambas es que la versión 1.x hace uso de **grafos** para representar el flujo de los datos y la versión 2.x se apoya en [Keras](https://enmilocalfunciona.io/deep-learning-basico-con-keras-parte-1/) para generar modelos más intuitivos.\n",
    "\n",
    "En este documento nos enfocaremos en la versión 2.x de *TensorFlow* con soporte para *GPU's* (unidad de procesamiento gráfico) y antes que otra cosa, vamos a validar el acceso a la *GPU*."
   ]
  },
  {
   "cell_type": "code",
   "execution_count": null,
   "metadata": {
    "colab": {
     "base_uri": "https://localhost:8080/"
    },
    "id": "oDroux0mPU9q",
    "outputId": "735b5510-5c21-483e-f815-e01d99a15013"
   },
   "outputs": [],
   "source": [
    "import tensorflow as tf\n",
    "\n",
    "print(tf.test.is_gpu_available())\n",
    "print(tf.config.list_physical_devices('GPU'))\n",
    "print(tf.__version__)"
   ]
  },
  {
   "cell_type": "markdown",
   "metadata": {
    "id": "gvWHgFw737PR"
   },
   "source": [
    "## Red Neuronal al instante\n",
    "\n",
    "Vamos a 'construir' una red neuronal en un par de celdas mediante *TensorFlow*, el código e imágenes mostradas a continuación se toman del [manual oficial](https://www.tensorflow.org/tutorials/keras/classification?hl=es-419) de *TensorFlow*.\n",
    "\n",
    "En este ejemplo vamos a mostrar y entrenar una red neuronal que pueda clasificar imágenes de prendas.\n",
    "\n",
    "<table>\n",
    "  <tr><td>\n",
    "    <img src=\"https://github.com/jugernaut/ProgramacionEnParalelo/blob/main/Imagenes/Envoltorios/fashion-mnist-sprite.png?raw=true\" width=\"600\">\n",
    "  </td></tr>\n",
    "  <tr><td align=\"center\">\n",
    "    <b>Figure 1.</b> <a href=\"https://github.com/zalandoresearch/fashion-mnist\">Fashion-MNIST samples</a> (by Zalando, MIT License).<br/>&nbsp;\n",
    "  </td></tr>\n",
    "</table>"
   ]
  },
  {
   "cell_type": "markdown",
   "metadata": {
    "id": "FijLghcNljSW"
   },
   "source": [
    "### *MNIST*\n",
    "\n",
    "Dado que esta red neuronal clasifica imágenes de ropa, necesitamos una **base de datos** grande de estas imágenes.\n",
    "\n",
    "*MNIST* es una base de datos accesible mediante la red y con una gran cantidad de datos para entrenar nuestras redes neuronales.\n",
    "\n",
    "Así que el primer paso es cargar esta base de datos en la sesión actual de MACTI, esto se realiza en la siguiente celda."
   ]
  },
  {
   "cell_type": "code",
   "execution_count": null,
   "metadata": {
    "colab": {
     "base_uri": "https://localhost:8080/"
    },
    "id": "iJHBg6gBmjbE",
    "outputId": "5e8d28fc-2b6e-4264-9a4e-5237463e8cd2"
   },
   "outputs": [],
   "source": [
    "# TensorFlow y tf.keras\n",
    "from tensorflow import keras\n",
    "\n",
    "# Librerias de ayuda\n",
    "import numpy as np\n",
    "import matplotlib.pyplot as plt\n",
    "\n",
    "fashion_mnist = keras.datasets.fashion_mnist\n",
    "(train_images, train_labels), (test_images, test_labels) = fashion_mnist.load_data()"
   ]
  },
  {
   "cell_type": "markdown",
   "metadata": {
    "id": "PxUYelrUm5ma"
   },
   "source": [
    "Al ejecutar la celda anterior vamos a tener en memoria cuatro arreglos en *NumPy* (biblioteca de cálculos numéricos):\n",
    "\n",
    "* Los arreglos *train_images* y *train_labels* conforman el *training set* y que usa el modelo de datos para aprender/entrenar.\n",
    "* El modelo es probado contra los arreglos *test_images*, y *test_labels* que conforman el *test set*.\n",
    "\n",
    "Las imágenes son arreglos de *NumPy* (matrices) de $28\\times28$, con valores en cada entrada (pixeles) que varian de 0 a 255. Los *labels* es un arreglo de enteros, que van del 0 al 9. Estos corresponden a la *class* de ropa que la imagen representa.\n",
    "\n",
    "<center>\n",
    "<table>\n",
    "  <tr>\n",
    "    <th>Etiqueta</th>\n",
    "    <th>Clase</th>\n",
    "  </tr>\n",
    "  <tr>\n",
    "    <td>0</td>\n",
    "    <td>Playera/blusa</td>\n",
    "  </tr>\n",
    "  <tr>\n",
    "    <td>1</td>\n",
    "    <td>Trusa</td>\n",
    "  </tr>\n",
    "    <tr>\n",
    "    <td>2</td>\n",
    "    <td>Pullover</td>\n",
    "  </tr>\n",
    "    <tr>\n",
    "    <td>3</td>\n",
    "    <td>Vestido</td>\n",
    "  </tr>\n",
    "    <tr>\n",
    "    <td>4</td>\n",
    "    <td>Abrigo</td>\n",
    "  </tr>\n",
    "    <tr>\n",
    "    <td>5</td>\n",
    "    <td>Sandalia</td>\n",
    "  </tr>\n",
    "    <tr>\n",
    "    <td>6</td>\n",
    "    <td>Camisa</td>\n",
    "  </tr>\n",
    "    <tr>\n",
    "    <td>7</td>\n",
    "    <td>Sneaker</td>\n",
    "  </tr>\n",
    "    <tr>\n",
    "    <td>8</td>\n",
    "    <td>Bolsa</td>\n",
    "  </tr>\n",
    "    <tr>\n",
    "    <td>9</td>\n",
    "    <td>Bota al tobillo</td>\n",
    "  </tr>\n",
    "</table>\n",
    "</center>\n",
    "\n",
    "Dado que los nombres de las clases (Class name) no vienen incluidos en la información que recién descargamos, es necesario almacenarlos en una variable de *Python*."
   ]
  },
  {
   "cell_type": "code",
   "execution_count": null,
   "metadata": {
    "id": "-lP9hwfAp_Fu"
   },
   "outputs": [],
   "source": [
    "class_names = ['Camiseta/Blusa', 'Trusa', 'Pullover', 'Vestido', 'Abrigo',\n",
    "               'Sandalia', 'Camisa', 'Sneaker', 'Bolsa', 'Bota al tobillo']"
   ]
  },
  {
   "cell_type": "markdown",
   "metadata": {
    "id": "qVnJfA_6qeqm"
   },
   "source": [
    "#### Contenido del *data set*\n",
    "\n",
    "El contenido del set de datos antes de entrenar el modelo es el siguiente, hay 60,000 imágenes en el set de entrenamiento, con cada imagen representada por mapas de bits (matrices) de $28\\times28$:"
   ]
  },
  {
   "cell_type": "code",
   "execution_count": null,
   "metadata": {
    "colab": {
     "base_uri": "https://localhost:8080/"
    },
    "id": "aFPXz_Aiq-pj",
    "outputId": "c4816418-18f9-467a-cc5b-ca39a7fb35ef"
   },
   "outputs": [],
   "source": [
    "train_images.shape"
   ]
  },
  {
   "cell_type": "markdown",
   "metadata": {
    "id": "ebocVnUsr1cf"
   },
   "source": [
    "Se cuenta con 60,000 etiquetas para el entrenamiento."
   ]
  },
  {
   "cell_type": "code",
   "execution_count": null,
   "metadata": {
    "colab": {
     "base_uri": "https://localhost:8080/"
    },
    "id": "22SU3xl0rDN1",
    "outputId": "bac75717-f9b9-4bc2-edc0-2b63c7b52a52"
   },
   "outputs": [],
   "source": [
    "len(train_labels)"
   ]
  },
  {
   "cell_type": "markdown",
   "metadata": {
    "id": "Ba0eVgKAr83I"
   },
   "source": [
    "Cada etiqueta es un entero entre $0-9$"
   ]
  },
  {
   "cell_type": "code",
   "execution_count": null,
   "metadata": {
    "colab": {
     "base_uri": "https://localhost:8080/"
    },
    "id": "ipXt0FNiroMG",
    "outputId": "bd65938c-8fad-4ae0-cd52-61739dfb3f18"
   },
   "outputs": [],
   "source": [
    "train_labels"
   ]
  },
  {
   "cell_type": "markdown",
   "metadata": {
    "id": "RuZrBSnWsHlE"
   },
   "source": [
    "Hay 10,000 imágenes en el set de pruebas. Otra vez, cada imagen es representada como arreglos de *numpy* (matrices) de $28\\times28$:"
   ]
  },
  {
   "cell_type": "code",
   "execution_count": null,
   "metadata": {
    "colab": {
     "base_uri": "https://localhost:8080/"
    },
    "id": "jGVfefESrrMr",
    "outputId": "c7793b1a-7a88-449f-8277-e03e7aec84e3"
   },
   "outputs": [],
   "source": [
    "test_images.shape"
   ]
  },
  {
   "cell_type": "markdown",
   "metadata": {
    "id": "cg7pcPFGsULr"
   },
   "source": [
    "Finalmente el conjunto de pruebas cuenta con 10,000 etiquetas para el momento de validar la efectividad del modelo."
   ]
  },
  {
   "cell_type": "code",
   "execution_count": null,
   "metadata": {
    "colab": {
     "base_uri": "https://localhost:8080/"
    },
    "id": "w5deznVXruXg",
    "outputId": "09df87f6-82be-4711-ac79-b43b77b31790"
   },
   "outputs": [
    {
     "data": {
      "text/plain": [
       "10000"
      ]
     },
     "execution_count": 7,
     "metadata": {},
     "output_type": "execute_result"
    }
   ],
   "source": [
    "len(test_labels)"
   ]
  },
  {
   "cell_type": "markdown",
   "metadata": {
    "id": "MZjncGY-sn73"
   },
   "source": [
    "### Pre-procesando los datos\n",
    "\n",
    "Es frecuente al hacer uso de imágenes, que estas requieran un \"pre-procesamiento\" antes de ser utilizadas por el modelo.\n",
    "\n",
    "Veamos la primer imagen del conjunto de imágenes y comprobemos que son imágenes de $28\\times28$ pixeles y cada pixel toma un valor en el rango entre $0-255$."
   ]
  },
  {
   "cell_type": "code",
   "execution_count": null,
   "metadata": {
    "colab": {
     "base_uri": "https://localhost:8080/",
     "height": 430
    },
    "id": "WGlEQuAPsrg1",
    "outputId": "3dc4a5e7-f49c-4549-b814-2293c08b3936"
   },
   "outputs": [
    {
     "data": {
      "image/png": "[encoded data removed]",
      "text/plain": [
       "<Figure size 640x480 with 2 Axes>"
      ]
     },
     "metadata": {},
     "output_type": "display_data"
    }
   ],
   "source": [
    "plt.figure()\n",
    "plt.imshow(train_images[0])\n",
    "plt.colorbar()\n",
    "plt.grid(False)\n",
    "plt.show()"
   ]
  },
  {
   "cell_type": "markdown",
   "metadata": {
    "id": "2R5cGaazt7g0"
   },
   "source": [
    "Es necesario escalar los valores de las imágenes en un rango de $0$ a $1$ antes de usarlos en el modelo de la red neuronal. Para hacerlo, es necesario dividir los valores por $255$, para **pasar las imágenes a escala de grises**. Es importante que el *training set* y el *testing set* se pre-procesen de la misma forma:"
   ]
  },
  {
   "cell_type": "code",
   "execution_count": null,
   "metadata": {
    "id": "2JRPByNjuNkO"
   },
   "outputs": [],
   "source": [
    "train_images = train_images / 255.0\n",
    "test_images = test_images / 255.0"
   ]
  },
  {
   "cell_type": "markdown",
   "metadata": {
    "id": "sMgO4P_JuSFN"
   },
   "source": [
    "Para verificar que el set de datos esta en el formato adecuado y que estan listos para construir y entrenar la red, vamos a desplegar las primeras 25 imágenes de el *training set* y despleguemos el nombre de cada clase debajo de cada imagen."
   ]
  },
  {
   "cell_type": "code",
   "execution_count": null,
   "metadata": {
    "colab": {
     "base_uri": "https://localhost:8080/",
     "height": 826
    },
    "id": "856-vc-juTOz",
    "outputId": "d32e38ac-2804-4e7a-ce09-a679c4ef1768"
   },
   "outputs": [
    {
     "data": {
      "image/png": "[encoded data removed]",
      "text/plain": [
       "<Figure size 1000x1000 with 25 Axes>"
      ]
     },
     "metadata": {},
     "output_type": "display_data"
    }
   ],
   "source": [
    "plt.figure(figsize=(10,10))\n",
    "for i in range(25):\n",
    "    plt.subplot(5,5,i+1)\n",
    "    plt.xticks([])\n",
    "    plt.yticks([])\n",
    "    plt.grid(False)\n",
    "    plt.imshow(train_images[i], cmap=plt.cm.binary)\n",
    "    plt.xlabel(class_names[train_labels[i]])\n",
    "plt.show()"
   ]
  },
  {
   "cell_type": "markdown",
   "metadata": {
    "id": "3LQv5RR4u3jf"
   },
   "source": [
    "### Construir el modelo\n",
    "\n",
    "El modelo de esta red neuronal es un modelo por capas como el que podemos ver en la siguiente imagen.\n",
    "\n",
    "<center>\n",
    "<img src=\"https://github.com/jugernaut/ProgramacionEnParalelo/blob/main/Imagenes/Envoltorios/reco_ropa.png?raw=true\" width=\"700\">\n",
    "</center>\n",
    "\n",
    "Existe todo un marco teórico detras de la construcción de este modelo y para mayor detalle se invita a revisar las referencias. En esta sección vamos a mostrar el código necesario y una breve explicación del mismo.\n",
    "\n",
    "En la siguiente celda se genera el modelo."
   ]
  },
  {
   "cell_type": "code",
   "execution_count": null,
   "metadata": {
    "id": "xU-ELd-KynTS"
   },
   "outputs": [],
   "source": [
    "model = keras.Sequential([\n",
    "    keras.layers.Flatten(input_shape=(28, 28)),\n",
    "    keras.layers.Dense(128, activation='relu'),\n",
    "    keras.layers.Dense(10, activation='softmax')\n",
    "])"
   ]
  },
  {
   "cell_type": "markdown",
   "metadata": {
    "id": "-h0Xtlagy2BF"
   },
   "source": [
    "La primera capa de esta red, `tf.keras.layers.Flatten`, \n",
    "transforma el formato de las imágenes de un arreglo bi-dimensional (de $28\\times28$ pixeles) a un arreglo uni dimensional (de 28 por 28 pixeles = 784 pixeles). Observe esta capa como una capa no apilada de filas de pixeles, pensemos que la imagen que \"aplana\" (*flatten*) en una sola fila. Esta capa no tiene parametros que aprender; solo reformatea el set de datos.\n",
    "\n",
    "Después de que los pixeles estan \"aplanados\", la secuencia consiste de dos capas`tf.keras.layers.Dense`. Ambas capas estan densamente conectadas, o completamente conectadas. La primera capa `Dense` tiene 128 nodos (o neuronas). La segunda (y última) capa es una capa de 10 nodos *softmax* que devuelve un arreglo de 10 probabilidades que suman 1. Cada nodo contiene una clasificación que indica la probabilidad que la actual imagen pertenezca a una de las 10 clases.\n",
    "\n",
    "Otro de los parámetros que reciben las capas son las **funciones de activación** (*relu* y *softmax*). Estas funciones de activación son elementos fundamentales en el diseño de una red neuronal. "
   ]
  },
  {
   "cell_type": "markdown",
   "metadata": {
    "id": "KQE4o7szz3Oj"
   },
   "source": [
    "### Compilando el modelo\n",
    "\n",
    "Antes de que el modelo este listo para entrenar , se necesitan algunas configuraciones más. Estas son agregadas durante el paso de compilación del modelo:\n",
    "\n",
    "* *Loss function*: También conocida como **función de costos**, mide que tan exacto es el modelo durante el entrenamiento. **La idea es minimizar esta funcion** para dirigir el modelo en la direccion adecuada.\n",
    "* *Optimizer*: Mediante el optimizador es como el modelo se actualiza basado en el set de datos que ve y la evaluación de la función de costos. Uno de los optimizadores que se usan de manera más frecuente es el **descenso del gradiente**.\n",
    "* *Metrics*: Se usan para monitorear los pasos de entrenamiento y de pruebas.\n",
    "\n",
    "El siguiente ejemplo usa *accuracy* (exactitud), es decir la fracción de la imágenes que son correctamente clasificadas."
   ]
  },
  {
   "cell_type": "code",
   "execution_count": null,
   "metadata": {
    "id": "cSk5xyYC5Oz3"
   },
   "outputs": [],
   "source": [
    "model.compile(optimizer='adam',\n",
    "              loss='sparse_categorical_crossentropy',\n",
    "              metrics=['accuracy'])"
   ]
  },
  {
   "cell_type": "markdown",
   "metadata": {
    "id": "B_YTb7Jb5m8I"
   },
   "source": [
    "### Entrenar el modelo\n",
    "\n",
    "Entrenar el modelo de red neuronal requiere de los siguientes pasos:\n",
    "\n",
    "1. Mostrar los datos de entrenamiento al modelo. En este ejemplo , el set de datos de entrenamiento esta en los arreglos `train_images` y `train_labels`.\n",
    "2. El modelo aprende a asociar imágenes a etiquetas.\n",
    "3. Se le pide al modelo que haga predicciones sobre un set de datos que se encuentran en el ejemplo, incluido en el arreglo `test_images`. Resta verificar que las predicciones sean iguales a las etiquetas de el arreglo`test_labels`.\n",
    "\n",
    "Para comenzar a entrenar, usamos el método `model.fit`, es llamado asi por que *fit* (ajusta) el modelo a el set de datos de entrenamiento:"
   ]
  },
  {
   "cell_type": "code",
   "execution_count": null,
   "metadata": {
    "colab": {
     "base_uri": "https://localhost:8080/"
    },
    "id": "GinjX0sK5tIx",
    "outputId": "cbcea80b-c1ad-4b9d-cfe5-67f270475d1a"
   },
   "outputs": [
    {
     "name": "stdout",
     "output_type": "stream",
     "text": [
      "Epoch 1/10\n",
      "1875/1875 [==============================] - 10s 2ms/step - loss: 0.4974 - accuracy: 0.8246\n",
      "Epoch 2/10\n",
      "1875/1875 [==============================] - 6s 3ms/step - loss: 0.3774 - accuracy: 0.8638\n",
      "Epoch 3/10\n",
      "1875/1875 [==============================] - 5s 3ms/step - loss: 0.3377 - accuracy: 0.8770\n",
      "Epoch 4/10\n",
      "1875/1875 [==============================] - 4s 2ms/step - loss: 0.3135 - accuracy: 0.8848\n",
      "Epoch 5/10\n",
      "1875/1875 [==============================] - 5s 3ms/step - loss: 0.2942 - accuracy: 0.8920\n",
      "Epoch 6/10\n",
      "1875/1875 [==============================] - 4s 2ms/step - loss: 0.2790 - accuracy: 0.8982\n",
      "Epoch 7/10\n",
      "1875/1875 [==============================] - 5s 3ms/step - loss: 0.2663 - accuracy: 0.9016\n",
      "Epoch 8/10\n",
      "1875/1875 [==============================] - 5s 3ms/step - loss: 0.2569 - accuracy: 0.9042\n",
      "Epoch 9/10\n",
      "1875/1875 [==============================] - 5s 2ms/step - loss: 0.2457 - accuracy: 0.9086\n",
      "Epoch 10/10\n",
      "1875/1875 [==============================] - 5s 3ms/step - loss: 0.2362 - accuracy: 0.9119\n"
     ]
    },
    {
     "data": {
      "text/plain": [
       "<keras.callbacks.History at 0x7f5261a477c0>"
      ]
     },
     "execution_count": 13,
     "metadata": {},
     "output_type": "execute_result"
    }
   ],
   "source": [
    "model.fit(train_images, train_labels, epochs=10)"
   ]
  },
  {
   "cell_type": "markdown",
   "metadata": {
    "id": "DGo1n7_n58jM"
   },
   "source": [
    "### Interpretando imágenes\n",
    "\n",
    "Se le muestra un conjunto de imágenes al modelo `test_images` y el modelo nos devuelve un una lista `predicción` que nos indica que es lo que interpreta el modelo de la imagen en cada una de sus entradas."
   ]
  },
  {
   "cell_type": "code",
   "execution_count": null,
   "metadata": {
    "colab": {
     "base_uri": "https://localhost:8080/"
    },
    "id": "rSX5fcmg6Rz_",
    "outputId": "5a0ea10f-844c-46ec-8bcb-de8f11b26e01"
   },
   "outputs": [
    {
     "name": "stdout",
     "output_type": "stream",
     "text": [
      "313/313 [==============================] - 1s 1ms/step\n"
     ]
    }
   ],
   "source": [
    "predicciones = model.predict(test_images)"
   ]
  },
  {
   "cell_type": "code",
   "execution_count": null,
   "metadata": {
    "id": "iQfOxejN5-nv"
   },
   "outputs": [],
   "source": [
    "# FUNCIONES AUXILIARES PARA GRAFICAR\n",
    "# Grafica una imagen y su respectiva prediccion por el modelo\n",
    "def plot_image(i, predictions_array, true_label, img):\n",
    "  predictions_array, true_label, img = predictions_array, true_label[i], img[i]\n",
    "  plt.grid(False)\n",
    "  plt.xticks([])\n",
    "  plt.yticks([])\n",
    "  plt.imshow(img, cmap=plt.cm.binary)\n",
    "  predicted_label = np.argmax(predictions_array)\n",
    "  if predicted_label == true_label:\n",
    "    color = 'blue'\n",
    "  else:\n",
    "    color = 'red'\n",
    "  plt.xlabel(\"{} {:2.0f}% ({})\".format(class_names[predicted_label],\n",
    "                                100*np.max(predictions_array),\n",
    "                                class_names[true_label]),\n",
    "                                color=color)\n",
    "\n",
    "# Muestra la probabilidad que indica el modelo de cada prenda de ropa\n",
    "def plot_value_array(i, predictions_array, true_label):\n",
    "  predictions_array, true_label = predictions_array, true_label[i]\n",
    "  plt.grid(False)\n",
    "  plt.xticks(range(10))\n",
    "  plt.yticks([])\n",
    "  thisplot = plt.bar(range(10), predictions_array, color=\"#777777\")\n",
    "  plt.ylim([0, 1])\n",
    "  predicted_label = np.argmax(predictions_array)\n",
    "\n",
    "  thisplot[predicted_label].set_color('red')\n",
    "  thisplot[true_label].set_color('blue')"
   ]
  },
  {
   "cell_type": "markdown",
   "metadata": {
    "id": "EXyWr2qCxx5O"
   },
   "source": [
    "Veamos que interpretación le da el modelo a la imagen 0"
   ]
  },
  {
   "cell_type": "code",
   "execution_count": null,
   "metadata": {
    "colab": {
     "base_uri": "https://localhost:8080/",
     "height": 291
    },
    "id": "Da2WeX_N6Lfo",
    "outputId": "b9db1742-bf79-40de-f5ef-46321cd6430f"
   },
   "outputs": [
    {
     "data": {
      "image/png": "[encoded data removed]",
      "text/plain": [
       "<Figure size 600x300 with 2 Axes>"
      ]
     },
     "metadata": {},
     "output_type": "display_data"
    }
   ],
   "source": [
    "i = 0\n",
    "plt.figure(figsize=(6,3))\n",
    "plt.subplot(1,2,1)\n",
    "plot_image(i, predicciones[i], test_labels, test_images)\n",
    "plt.subplot(1,2,2)\n",
    "plot_value_array(i, predicciones[i],  test_labels)\n",
    "plt.show()"
   ]
  },
  {
   "cell_type": "markdown",
   "metadata": {
    "id": "zIAc6Iocx_ie"
   },
   "source": [
    "Y veamos ahora que sucede con la imagen 17 (intentalo con diferentes prendas)"
   ]
  },
  {
   "cell_type": "code",
   "execution_count": null,
   "metadata": {
    "colab": {
     "base_uri": "https://localhost:8080/",
     "height": 291
    },
    "id": "M7ri9WE_6bYQ",
    "outputId": "ea065d4d-566c-4d06-ea0a-62bed2029d9e"
   },
   "outputs": [
    {
     "data": {
      "image/png": "[encoded data removed]",
      "text/plain": [
       "<Figure size 600x300 with 2 Axes>"
      ]
     },
     "metadata": {},
     "output_type": "display_data"
    }
   ],
   "source": [
    "i = 17\n",
    "plt.figure(figsize=(6,3))\n",
    "plt.subplot(1,2,1)\n",
    "plot_image(i, predicciones[i], test_labels, test_images)\n",
    "plt.subplot(1,2,2)\n",
    "plot_value_array(i, predicciones[i],  test_labels)\n",
    "plt.show()"
   ]
  },
  {
   "cell_type": "markdown",
   "metadata": {
    "id": "6LZ3f4f1MoY7"
   },
   "source": [
    "# Conclusiones\n",
    "\n",
    "Podemos decir muchas cosas al respecto, una de ellas es, ¿en qué más (además de identificar prendas) puedo usar esta magia oscura? y la respuesta es muy sencilla, **todo aquello que pueda ser mapeado (asociado) a un vector o matriz** puede ser procesado por una red neuronal artificial:\n",
    "- Predicción en la bolsa de valores.\n",
    "- Diagnósticos médicos.\n",
    "- Estimación de seguros.\n",
    "- Modelos de lenguaje natural (ChatGPT)\n",
    "- Creación de imágenes o audio (*midjourney, Dall-e*)\n",
    "\n",
    "Lo siguiente sería preguntarse: **¿cómo diablos funciona esta cosa maravillosa?**, ya que hasta el momento solo la usamos pero en realidad no sabes cómo es que logra hacer lo que hace.\n",
    "\n",
    "Bueno, la respuesta corta es **MATEMÁTICAS, ESTADÍSTICA, PROGRAMACIÓN** y muchas otras cosillas que podemos englobar con el término **Inteligencia Artificial**.\n",
    "\n",
    "Para conocer estas respuestas, es necesario ver la siguiente temporada de este apasionante curso de aprendizaje de máquina."
   ]
  },
  {
   "cell_type": "markdown",
   "metadata": {
    "id": "dAh_UjLcaKr7"
   },
   "source": [
    "## Referencias\n",
    "\n",
    "*   https://www.tensorflow.org/tutorials/keras/classification?hl=es-419\n",
    "*   http://www.saedsayad.com/clustering_som.htm\n",
    "*   https://www.tensorflow.org/install\n",
    "*   https://codesachin.wordpress.com/2015/11/28/self-organizing-maps-with-googles-tensorflow/\n",
    "\n"
   ]
  }
 ],
 "metadata": {
  "colab": {
   "include_colab_link": true,
   "provenance": [],
   "toc_visible": true
  },
  "kernelspec": {
   "display_name": "Python 3 (ipykernel)",
   "language": "python",
   "name": "python3"
  },
  "language_info": {
   "codemirror_mode": {
    "name": "ipython",
    "version": 3
   },
   "file_extension": ".py",
   "mimetype": "text/x-python",
   "name": "python",
   "nbconvert_exporter": "python",
   "pygments_lexer": "ipython3",
   "version": "3.11.6"
  }
 },
 "nbformat": 4,
 "nbformat_minor": 4
}
