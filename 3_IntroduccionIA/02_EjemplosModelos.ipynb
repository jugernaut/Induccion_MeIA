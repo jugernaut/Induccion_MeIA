{
 "cells": [
  {
   "cell_type": "markdown",
   "metadata": {
    "colab_type": "text",
    "id": "view-in-github"
   },
   "source": [
    "<a href=\"https://colab.research.google.com/github/jugernaut/Induccion_MeIA/blob/angel/3_IntroduccionIA/02_EjemplosModelos.ipynb\" target=\"_parent\"><img src=\"https://colab.research.google.com/assets/colab-badge.svg\" alt=\"Open In Colab\"/></a>"
   ]
  },
  {
   "cell_type": "markdown",
   "metadata": {
    "id": "4c1ULJt43NVg"
   },
   "source": [
    "# Ejemplos de modelos recientes\n",
    "\n",
    "Ejemplos de modelos recientes</a> by <span property=\"cc:attributionName\">Miguel Angel Pérez León</span> is licensed under <a href=\"http://creativecommons.org/licenses/by-nc-sa/4.0/?ref=chooser-v1\" target=\"_blank\" rel=\"license noopener noreferrer\" style=\"display:inline-block;\">CC BY-NC-SA 4.0<img style=\"height:22px!important;margin-left:3px;vertical-align:text-bottom;\" src=\"https://mirrors.creativecommons.org/presskit/icons/cc.svg?ref=chooser-v1\"><img style=\"height:22px!important;margin-left:3px;vertical-align:text-bottom;\" src=\"https://mirrors.creativecommons.org/presskit/icons/by.svg?ref=chooser-v1\"><img style=\"height:22px!important;margin-left:3px;vertical-align:text-bottom;\" src=\"https://mirrors.creativecommons.org/presskit/icons/nc.svg?ref=chooser-v1\"><img style=\"height:22px!important;margin-left:3px;vertical-align:text-bottom;\" src=\"https://mirrors.creativecommons.org/presskit/icons/sa.svg?ref=chooser-v1\"></a></p>"
   ]
  },
  {
   "cell_type": "markdown",
   "metadata": {
    "id": "_wq9ZDG-O5FH"
   },
   "source": [
    "# Herramientas estilo ChatGPT\n",
    "\n",
    "Las herramientas estilo GPT son modelos de inteligencia artificial que utilizan una arquitectura llamada **Transformer, que es una red neuronal profunda** que procesa los datos secuenciales mediante la atención. La atención es un mecanismo que le permite al modelo enfocarse en las partes más relevantes de los datos para generar una salida. Estos modelos se entrenan con una gran cantidad de textos conversacionales extraídos de internet, y aprenden a generar respuestas coherentes y naturales a partir de palabras clave. ChatGPT o Bing Chat puede adaptarse a diferentes contextos y personalidades, y puede generar textos en diferentes idiomas.\n",
    "\n",
    "Estas son algunas de las aplicaciones de las herramientas estilo GPT son la generación de contenido creativo, la escritura de resúmenes, la traducción automática y la asistencia en la búsqueda de información.\n",
    "\n",
    "Algunos ejemplos de herramientas de estilo GPT son:\n",
    "\n",
    "- **OpenAI GPT-3**: Es el modelo de lenguaje más avanzado y potente hasta la fecha, capaz de generar textos coherentes y relevantes sobre cualquier tema, con diferentes estilos y formatos. Se puede acceder a él a través de una API o de plataformas como Playground o Codex.\n",
    "- **Bing chat**: es un chatbot de búsqueda de Microsoft Bing que ayuda a los usuarios a encontrar información y responder preguntas. Como Bing chat, puedo ayudarte a encontrar información en la web y proporcionarte respuestas precisas y detalladas a tus preguntas.\n",
    "- **Bard**: es un chatbot de inteligencia artificial (IA) desarrollado por Google que permite a los usuarios colaborar con IA generativa1. A diferencia de su competidor ChatGPT, Bard puede acceder a información actualizada de internet y tiene un botón “Google it” que da acceso directo al buscador. Como un colaborador creativo y útil, Bard puede mejorar tu creatividad y ayudarte a generar contenido.\n",
    "- **Hugging Face Transformers**: es una biblioteca de código abierto que ofrece una colección de modelos de lenguaje pre-entrenados y personalizables, basados en arquitecturas como GPT, BERT o T5. Se puede usar para tareas como la clasificación de textos, el análisis de sentimientos, la generación de resúmenes o la extracción de entidades.\n",
    "- **InferKit**: Es una herramienta en línea que permite generar textos a partir de palabras clave o frases iniciales, usando un modelo de lenguaje similar a GPT-3. Se puede ajustar el tono, la longitud y el formato del texto generado, así como elegir entre diferentes temas o categorías.\n",
    "\n"
   ]
  },
  {
   "cell_type": "markdown",
   "metadata": {
    "id": "MgQo-GblUdOR"
   },
   "source": [
    "## GitHub Copilot\n",
    "\n",
    "GitHub Copilot es un nuevo asistente de codificación impulsado por la inteligencia artificial que fue desarrollado por GitHub en colaboración con OpenAI. Este asistente utiliza un modelo de lenguaje de última generación para sugerir y autocompletar el código de manera eficiente. Es un programador de pares de IA que puedes usar para obtener sugerencias para líneas o funciones completas directamente en el editor.\n",
    "\n",
    "\n",
    "<center>\n",
    "<img src=\"https://github.com/jugernaut/MexSIAM/blob/main/utils/fig/MexSIAM.gif?raw=1\" width=\"750\">\n",
    "</center>\n",
    "\n"
   ]
  },
  {
   "cell_type": "markdown",
   "metadata": {
    "id": "yQixh9UnbpvO"
   },
   "source": [
    "## Otras IA's\n",
    "\n",
    "- **Midjourney**: es un laboratorio independiente de investigación que explora nuevos medios de pensamiento y expande los poderes imaginativos de la especie humana. Está enfocado en diseño, infraestructura humana y IA. El equipo está dirigido por David Holz, cofundador de LeapMotion y cuenta con un increíble conjunto de asesores. También es el nombre que le han dado a su IA, que sirve para crear imágenes a partir de texto, lo que se conoce como text to image. Actualmente, solo se puede utilizar mediante un bot en el Discord oficial del proyecto.\n",
    "\n",
    "- **DALL·E**: es un sistema de IA desarrollado por OpenAI que puede crear imágenes y arte realistas a partir de una descripción en lenguaje natural. Puede combinar conceptos, atributos y estilos para generar imágenes originales y realistas a partir de una descripción de texto. En enero de 2021, OpenAI presentó DALL·E y un año después, su nuevo sistema, DALL·E 2, genera imágenes más realistas y precisas con una resolución 4 veces mayor.\n",
    "\n",
    "<center>\n",
    "<img src=\"https://github.com/jugernaut/MexSIAM/blob/main/utils/fig/thor.png?raw=1\" width=\"450\">\n",
    "</center>\n"
   ]
  },
  {
   "cell_type": "markdown",
   "metadata": {
    "id": "YkH0p54n4g47"
   },
   "source": [
    "# ¿Qué necesitamos?\n",
    "\n",
    "En este curso, vamos a aprender sobre inteligencia Artificial, cómo funciona el aprendizaje de máquina y las aplicaciones que se le han dado. Para ello vamos a necesitar 3 herramientas fundamentales:\n",
    "\n",
    "- Matemáticas: Las matemáticas son el estudio de las propiedades y relaciones de los números, las formas, las cantidades y los patrones. Las matemáticas son fundamentales para la inteligencia artificial, ya que permiten modelar y resolver problemas complejos con precisión y eficiencia. Algunas ramas de las matemáticas que se aplican a la **inteligencia artificial son el álgebra lineal, el cálculo, la estadística, la probabilidad, la optimización**, etc. Estas ramas nos ayudan a entender y **manipular los datos, las funciones, las matrices, los vectores, las derivadas, las integrales, las distribuciones, las variables aleatorias, los algoritmos**, etc.\n",
    "\n",
    "- Programación: La programación es el proceso de crear instrucciones que le dicen a una computadora qué hacer. Para programar, se utiliza un lenguaje de programación, que es un conjunto de reglas y símbolos que permiten expresar las instrucciones de forma comprensible para la computadora. Algunos ejemplos de lenguajes de programación son **Python**, Java, C++, etc. La programación es una habilidad esencial para crear y modificar modelos de inteligencia artificial como ChatGPT o Bing chat.\n",
    "\n",
    "- Los chats estilo GPT: son modelos de inteligencia artificial que utilizan una arquitectura llamada **Transformer, que es una red neuronal profunda** que procesa los datos secuenciales mediante la atención. La atención es un mecanismo que le permite al modelo enfocarse en las partes más relevantes de los datos para generar una salida. Estos modelos se entrenan con una gran cantidad de textos conversacionales extraídos de internet, y aprenden a generar respuestas coherentes y naturales a partir de palabras clave. ChatGPT o Bing Chat puede adaptarse a diferentes contextos y personalidades, y puede generar textos en diferentes idiomas.\n",
    "\n",
    "Como pueden ver, este tipo de tecnologías son modelos muy avanzados y potentes que requieren de conocimientos previos de programación y matemáticas para comprender su funcionamiento y sus posibilidades. En este curso, vamos a explorar de manera superficial estos conceptos y a ver cómo podemos utilizar estas herramientas a nuestro favor para comprender lo que hay detrás del aprendizaje de máquina.\n",
    "\n",
    "Después de lo mostrado hasta el momento, te planteo la siguiente pregunta, **¿podrías distinguir si este notebook fue creado por una IA o por un humano?**.\n",
    "\n",
    "¿La siguiente imagen fue creada por un ser humano?\n",
    "\n",
    "<center>\n",
    "<img src=\"https://github.com/jugernaut/Induccion_MeIA/blob/angel/utils/fig/AleynWeiss.jpg?raw=1\" width=\"650\">\n",
    "</center>\n",
    "\n",
    "¿La siguiente imagen es real o falsa?\n",
    "\n",
    "<center>\n",
    "<img src=\"https://github.com/jugernaut/MexSIAM/blob/main/utils/fig/Papa.png?raw=1\" width=\"650\">\n",
    "</center>\n",
    "\n",
    "Desde hace mucho tiempo las IA's han estado presentes en nuestras vidas, solo que no lo habíamos notado, **¿alguna vez te has preguntado cómo sabe Facebook o YouTube qué anuncios mostrarte?**\n",
    "\n",
    "Después de lo visto en este notebook lo mejor que podemos hacer es adaptarnos a esta revolución digital (sin mencionar la computación cuántica) y aprovechar la tecnología a nuestro favor, ya que de no hacerlo así la selección natural hará su trabajo."
   ]
  },
  {
   "cell_type": "markdown",
   "metadata": {
    "id": "8jDqfTViMSkU"
   },
   "source": [
    "## Referencias\n",
    "\n",
    "*   Prueba de Turing - Wikipedia, la enciclopedia libre. https://es.wikipedia.org/wiki/Prueba_de_Turing\n",
    "*   Test de Turing: qué es, cómo funciona, ventajas y limitaciones. https://psicologiaymente.com/cultura/test-turing\n",
    "*    Medir la inteligencia artificial: el test de Turing | OpenMind. https://www.bbvaopenmind.com/tecnologia/inteligencia-artificial/medir-la-inteligencia-artificial-el-test-de-turing/"
   ]
  }
 ],
 "metadata": {
  "colab": {
   "authorship_tag": "ABX9TyN08o7E6z0ZK736C7h8PBqL",
   "include_colab_link": true,
   "provenance": [],
   "toc_visible": true
  },
  "kernelspec": {
   "display_name": "Python 3 (ipykernel)",
   "language": "python",
   "name": "python3"
  },
  "language_info": {
   "codemirror_mode": {
    "name": "ipython",
    "version": 3
   },
   "file_extension": ".py",
   "mimetype": "text/x-python",
   "name": "python",
   "nbconvert_exporter": "python",
   "pygments_lexer": "ipython3",
   "version": "3.11.6"
  }
 },
 "nbformat": 4,
 "nbformat_minor": 4
}
