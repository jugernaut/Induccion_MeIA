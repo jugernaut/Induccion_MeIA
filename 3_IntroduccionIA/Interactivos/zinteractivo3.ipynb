{
  "cells": [
    {
      "cell_type": "markdown",
      "metadata": {
        "id": "view-in-github",
        "colab_type": "text"
      },
      "source": [
        "<a href=\"https://colab.research.google.com/github/jugernaut/Induccion_MeIA/blob/angel/3_IntroduccionIA/Interactivos/zinteractivo3.ipynb\" target=\"_parent\"><img src=\"https://colab.research.google.com/assets/colab-badge.svg\" alt=\"Open In Colab\"/></a>"
      ]
    },
    {
      "cell_type": "markdown",
      "metadata": {
        "id": "7tk9OKenCXiO"
      },
      "source": [
        "# Cálculo de derivadas numéricas y errores\n",
        "## Proyecto PAPIME PE101019\n",
        "- Autor: Luis M. de la Cruz Salas\n",
        "- Rev: lun jul  6 19:29:17 CDT 2020"
      ]
    },
    {
      "cell_type": "code",
      "execution_count": null,
      "metadata": {
        "id": "iDUqff21CXiQ"
      },
      "outputs": [],
      "source": [
        "import numpy as np\n",
        "import pandas as pd\n",
        "from sympy import Symbol, cos, sin, exp, tan\n",
        "import FD\n",
        "import matplotlib.pyplot as plt\n",
        "import macti.vis as mvis"
      ]
    },
    {
      "cell_type": "code",
      "execution_count": null,
      "metadata": {
        "id": "TaNNDUwjCXiR"
      },
      "outputs": [],
      "source": [
        "from ipywidgets import interact, interactive, fixed\n",
        "import ipywidgets as wd"
      ]
    },
    {
      "cell_type": "code",
      "execution_count": null,
      "metadata": {
        "colab": {
          "referenced_widgets": [
            "7f8dce8dcb5a4310a935476334e05afa",
            "4d0ba29d8fcc49248ca6bbef60baec61"
          ]
        },
        "id": "KSyFYVbqCXiR",
        "outputId": "ac9f2b2f-04d3-4548-a3d8-8b654966591e"
      },
      "outputs": [
        {
          "data": {
            "application/vnd.jupyter.widget-view+json": {
              "model_id": "7f8dce8dcb5a4310a935476334e05afa",
              "version_major": 2,
              "version_minor": 0
            },
            "text/plain": [
              "VBox(children=(HBox(children=(Dropdown(description='Función', layout=Layout(width='250px'), options=(cos(x), s…"
            ]
          },
          "metadata": {},
          "output_type": "display_data"
        },
        {
          "data": {
            "application/vnd.jupyter.widget-view+json": {
              "model_id": "4d0ba29d8fcc49248ca6bbef60baec61",
              "version_major": 2,
              "version_minor": 0
            },
            "text/plain": [
              "Output()"
            ]
          },
          "metadata": {},
          "output_type": "display_data"
        }
      ],
      "source": [
        "t = Symbol('x')\n",
        "lista_funciones = [cos(t), sin(t), exp(t), exp(t)*cos(t), tan(t), sin(t)*t**2]\n",
        "opciones_aprox = ['Forward', 'Backward', 'Centered', 'All']\n",
        "\n",
        "w_f = wd.Dropdown(\n",
        "    options=lista_funciones,\n",
        "    value=cos(t),\n",
        "    description='Función',\n",
        "    layout=wd.Layout(width='250px')\n",
        ")\n",
        "\n",
        "w_a = wd.Dropdown(\n",
        "    options=opciones_aprox,\n",
        "    value='Forward',\n",
        "    description='Aproximación',\n",
        "    layout=wd.Layout(width='250px')\n",
        ")\n",
        "\n",
        "w_x0 = wd.FloatSlider(\n",
        "    min=-2.0, max=2.0, step=0.5, value=0.0,\n",
        "    description='x0',\n",
        "    layout=wd.Layout(width='250px')\n",
        ")\n",
        "\n",
        "w_h = wd.FloatSlider(\n",
        "    min=0.01, max=1.0, step=0.1, value=1.0,\n",
        "    description='h',\n",
        "    layout=wd.Layout(width='250px')\n",
        ")\n",
        "\n",
        "button = wd.Button(\n",
        "    description=\"\", icon='play',\n",
        "    layout=wd.Layout(width='50px')\n",
        ")\n",
        "\n",
        "ui = wd.VBox([wd.HBox([w_f, w_a],\n",
        "                      layout=wd.Layout(padding='0px',\n",
        "                                       border='1px solid gray',\n",
        "                                       width='510px')),\n",
        "              wd.HBox([w_x0, w_h],\n",
        "                      layout=wd.Layout(padding='0px',\n",
        "                                       border='1px solid gray',\n",
        "                                       width='510px')),\n",
        "              wd.HBox([button])])\n",
        "\n",
        "ui.layout = wd.Layout(border='solid 0px black')\n",
        "\n",
        "output = wd.Output()\n",
        "\n",
        "display(ui, output)\n",
        "\n",
        "def on_button_clicked(b):\n",
        "    output.clear_output(wait=True)\n",
        "    with output:\n",
        "        FD.numericalDer(w_f.value, w_x0.value, w_h.value, w_a.value)\n",
        "\n",
        "button.on_click(on_button_clicked)\n"
      ]
    },
    {
      "cell_type": "code",
      "execution_count": null,
      "metadata": {
        "id": "Au9YYMnxCXiS"
      },
      "outputs": [],
      "source": []
    }
  ],
  "metadata": {
    "kernelspec": {
      "display_name": "Python 3 (ipykernel)",
      "language": "python",
      "name": "python3"
    },
    "language_info": {
      "codemirror_mode": {
        "name": "ipython",
        "version": 3
      },
      "file_extension": ".py",
      "mimetype": "text/x-python",
      "name": "python",
      "nbconvert_exporter": "python",
      "pygments_lexer": "ipython3",
      "version": "3.11.6"
    },
    "colab": {
      "provenance": [],
      "include_colab_link": true
    }
  },
  "nbformat": 4,
  "nbformat_minor": 0
}