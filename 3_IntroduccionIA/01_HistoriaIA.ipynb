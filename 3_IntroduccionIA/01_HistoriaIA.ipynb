{
  "nbformat": 4,
  "nbformat_minor": 0,
  "metadata": {
    "colab": {
      "provenance": [],
      "toc_visible": true,
      "authorship_tag": "ABX9TyPHQHhF10uWS0hiNWHgX+X9",
      "include_colab_link": true
    },
    "kernelspec": {
      "name": "python3",
      "display_name": "Python 3"
    },
    "language_info": {
      "name": "python"
    }
  },
  "cells": [
    {
      "cell_type": "markdown",
      "metadata": {
        "id": "view-in-github",
        "colab_type": "text"
      },
      "source": [
        "<a href=\"https://colab.research.google.com/github/jugernaut/Induccion_MeIA/blob/angel/3_IntroduccionIA/01_HistoriaIA.ipynb\" target=\"_parent\"><img src=\"https://colab.research.google.com/assets/colab-badge.svg\" alt=\"Open In Colab\"/></a>"
      ]
    },
    {
      "cell_type": "markdown",
      "source": [
        "# Historia de la Inteligencia Artificial\n",
        "\n",
        "Historia de la Inteligencia Artificial</a> by <span property=\"cc:attributionName\">Miguel Angel Pérez León</span> is licensed under <a href=\"http://creativecommons.org/licenses/by-nc-sa/4.0/?ref=chooser-v1\" target=\"_blank\" rel=\"license noopener noreferrer\" style=\"display:inline-block;\">CC BY-NC-SA 4.0<img style=\"height:22px!important;margin-left:3px;vertical-align:text-bottom;\" src=\"https://mirrors.creativecommons.org/presskit/icons/cc.svg?ref=chooser-v1\"><img style=\"height:22px!important;margin-left:3px;vertical-align:text-bottom;\" src=\"https://mirrors.creativecommons.org/presskit/icons/by.svg?ref=chooser-v1\"><img style=\"height:22px!important;margin-left:3px;vertical-align:text-bottom;\" src=\"https://mirrors.creativecommons.org/presskit/icons/nc.svg?ref=chooser-v1\"><img style=\"height:22px!important;margin-left:3px;vertical-align:text-bottom;\" src=\"https://mirrors.creativecommons.org/presskit/icons/sa.svg?ref=chooser-v1\"></a></p>"
      ],
      "metadata": {
        "id": "4c1ULJt43NVg"
      }
    },
    {
      "cell_type": "markdown",
      "source": [
        "# Historia\n",
        "\n",
        "La inteligencia artificial es la disciplina que se ocupa de crear máquinas o sistemas capaces de realizar tareas que normalmente requieren inteligencia humana. El término fue acuñado por el informático John **McCarthy en 1956**, durante la Conferencia de Darmouth, considerada el origen de la IA como campo de estudio, Ssn embargo desde los años 1950 el matemático **Alan Turing** ya se había planteado la pregunta \"¿Pueden pensar las máquinas?\". La idea de construir artefactos inteligentes se remonta a la antigüedad, desde la mitología griega hasta los autómatas medievales. Algunos hitos importantes en la historia de la IA son:\n",
        "\n",
        "- En 1936, **Alan Turing** publica su artículo sobre los números computables, donde introduce el concepto de algoritmo y sienta las bases de la informática moderna.\n",
        "- En 1950, **Turing** propone el Test de Turing, una prueba para evaluar la capacidad de las máquinas de imitar el lenguaje humano, recientemente fue estrenada la pelicula llama \"El código enigma (The Imitation Game)\", la cual muestra un breve vistazo a la vida de este gran matemático\n",
        "- En 1956, se celebra la Conferencia de Darmouth, donde se reúnen los principales investigadores en IA y se establecen las metas y los métodos de la disciplina.\n",
        "- En 1969, **Marvin Minsky** publica el libro Perceptrones, donde analiza las redes neuronales artificiales y sus aplicaciones al aprendizaje automático.\n",
        "- En 1979, se crea el coche Stanford, uno de los primeros vehículos autónomos capaces de navegar por un entorno con obstáculos.\n",
        "- En 1996, la supercomputadora **Deep Blue** de IBM derrota al campeón mundial de ajedrez Garry Kasparov.\n",
        "- En 2014, **Eugene**, un programa de ordenador, supera el Test de Turing haciéndose pasar por un niño de 13 años.\n",
        "- En 2023, **ChatGPT** se convierte en el chatbot más popular y avanzado del mundo, capaz de generar respuestas coherentes y creativas a cualquier tema.\n",
        "\n",
        "La inteligencia artificial ha evolucionado desde sus inicios hasta convertirse en una tecnología omnipresente y con un enorme potencial para transformar diversos ámbitos de la sociedad, como la educación, la salud, la economía o el entretenimiento. Sin embargo, también plantea importantes desafíos éticos, sociales y legales que requieren una reflexión crítica y una regulación adecuada."
      ],
      "metadata": {
        "id": "84LmSBdM_xtU"
      }
    },
    {
      "cell_type": "markdown",
      "source": [
        "## Test de Turing\n",
        "\n",
        "El **test de Turing** es un examen de la capacidad de una máquina para exhibir un comportamiento inteligente similar al de un ser humano o indistinguible de este. Fue propuesto por **Alan Turing** en 1950 en su ensayo “*Computing Machinery and Intelligence*” mientras trabajaba en la Universidad de Mánchester.\n",
        "\n",
        "<center>\n",
        "<img src=\"https://static.nationalgeographic.es/files/styles/image_3200/public/d1kenr.webp?w=1600&h=900\" width=\"550\">\n",
        "</center>\n",
        "\n",
        "En el test, un humano evalúa conversaciones en lenguaje natural entre un humano y una máquina diseñada para generar respuestas similares a las de un humano. El evaluador sabe que uno de los participantes de la conversación es una máquina y los intervinientes serían separados unos de otros. La conversación estaría limitada a un medio únicamente textual como un teclado de computadora y un monitor por lo que sería irrelevante la capacidad de la máquina de transformar texto en habla.\n",
        "\n",
        "En el caso de que el evaluador no pueda distinguir entre el humano y la máquina acertadamente (Turing originalmente sugirió que la máquina debía convencer a un evaluador, después de 5 minutos de conversación, el 70 % del tiempo), la máquina habría pasado la prueba. Esta prueba no evalúa el conocimiento de la máquina en cuanto a su capacidad de responder preguntas correctamente, solo se toma en cuenta la capacidad de esta de generar respuestas similares a las que daría un humano.\n",
        "\n",
        "<center>\n",
        "<img src=\"https://d29jy8ovkd5kcx.cloudfront.net/wp-content/uploads/2021/11/29093356/53.jpg.webp\"\n",
        "width=\"550\">\n",
        "</center>\n",
        "\n",
        "¿Alguna vez has interactuado con \"algo\" (chat, llamada de voz, etc.) sin saber realmente si \"eso\" era una persona?"
      ],
      "metadata": {
        "id": "wbikAdn65jGW"
      }
    },
    {
      "cell_type": "markdown",
      "source": [
        "## Inteligencia Artificial y Sociedad\n",
        "\n",
        "La inteligencia artificial (IA) es una de las tecnologías más importantes y revolucionarias del siglo XXI. Su impacto en la sociedad es cada vez mayor, ya que se aplica en diversos ámbitos como la ciencia, la industria, la educación, la salud y el entretenimiento. La IA consiste en crear artefactos capaces de detectar y responder a contextos complejos de forma autónoma, imitando o superando las capacidades humanas. Algunos ejemplos de IA son los asistentes virtuales, los sistemas de reconocimiento facial, los vehículos autónomos y los juegos de estrategia.\n",
        "\n",
        "La IA ofrece grandes beneficios para el desarrollo humano, como mejorar la productividad, optimizar los recursos, facilitar el acceso al conocimiento y potenciar la creatividad. Sin embargo, también plantea desafíos éticos, sociales y legales que deben ser abordados con responsabilidad y precaución. Algunos de estos desafíos son **el respeto a la privacidad, la seguridad, la equidad, la transparencia y la rendición de cuentas**. Asimismo, es necesario garantizar que la IA se utilice para fines positivos y no para causar daño o discriminación.\n",
        "\n",
        "El uso de la IA es una realidad que nos afecta a todos y que requiere de una participación activa y crítica de la sociedad. Es importante estar informados sobre sus avances, sus riesgos y sus oportunidades, así como fomentar el diálogo entre los diferentes actores involucrados: científicos, empresarios, políticos, educadores y ciudadanos. Solo así podremos aprovechar el potencial de la IA para mejorar nuestra calidad de vida y construir un futuro más justo y sostenible.\n",
        "\n",
        "Existen muchas obras literarias y peliculas, documentales etc. que nos dan un vistazo desde diferentes perspectivas de lo que es la IA, aquí algunas de las más famosas:\n",
        "\n",
        "<center>\n",
        "<img src=\"https://www.soy502.com/sites/default/files/styles/full_node/public/2017/Nov/22/matrix.jpg\"\n",
        "width=\"550\">\n",
        "</center>\n",
        "\n",
        "<center>\n",
        "<img src=\"https://media.tenor.com/NOHR6Zg97GYAAAAd/terminator-terminator-robot.gif\"\n",
        "width=\"550\">\n",
        "</center>\n",
        "\n",
        "<center>\n",
        "<img src=\"https://64.media.tumblr.com/30e6fa3a7ce614414234f278e94a5def/50539e9aca2728e4-01/s1280x1920/832b49dbece515e2d5828ef6c78b1ec10437249c.png\"\n",
        "width=\"550\">\n",
        "</center>\n",
        "\n",
        "<center>\n",
        "<img src=\"https://static.wikia.nocookie.net/bladerunner/images/e/e0/Blade-runner-directors-cut-poster--large-msg-119325148375.jpg\"\n",
        "width=\"550\">\n",
        "</center>"
      ],
      "metadata": {
        "id": "OqEtlv9JO9BN"
      }
    },
    {
      "cell_type": "markdown",
      "source": [
        "# Campos de la IA\n",
        "\n",
        "La inteligencia artificial es una disciplina que se ocupa de crear sistemas capaces de realizar tareas que normalmente requieren inteligencia humana. Existen diferentes campos en los que se puede clasificar la inteligencia artificial, según el tipo de problema que resuelven, el grado de autonomía que poseen o el nivel de similitud con la mente humana. Algunos ejemplos de estos campos son:\n",
        "\n",
        "- El **aprendizaje automático**, que se basa en algoritmos que aprenden de los datos y mejoran su rendimiento con la experiencia.\n",
        "- El **aprendizaje profundo** es una técnica de aprendizaje de máquina que utiliza redes neuronales artificiales con múltiples capas ocultas para extraer características complejas y abstractas de los datos y resolver problemas difíciles como la generación de texto, la traducción automática o la síntesis de voz.\n",
        "- El **procesamiento del lenguaje natural**, que se encarga de analizar y generar texto o habla en lenguas naturales.\n",
        "- La **visión artificial**, que se dedica a extraer información útil de las imágenes o los vídeos.\n",
        "- La **robótica**, que combina la inteligencia artificial con la mecánica y la electrónica para crear máquinas que interactúan con el entorno físico.\n",
        "- Los sistemas expertos, que son programas que imitan el razonamiento de un experto humano en un dominio específico."
      ],
      "metadata": {
        "id": "wxI1tsIqlgeA"
      }
    },
    {
      "cell_type": "markdown",
      "source": [
        "# Inteligencia Artificial en el contexto Latinoamericano\n",
        "\n",
        "La inteligencia artificial (IA) es una de las tecnologías más innovadoras y disruptivas del siglo XXI. Su potencial para transformar diversos sectores y ámbitos de la sociedad es enorme, desde la educación y la salud hasta la industria y el comercio. Sin embargo, su desarrollo y adopción no son homogéneos ni exentos de desafíos y riesgos, especialmente en el contexto latinoamericano.\n",
        "\n",
        "América Latina es una región con una gran diversidad cultural, social y económica, pero también con grandes brechas de desigualdad, pobreza y exclusión. Estas condiciones plantean oportunidades y amenazas para el aprovechamiento de la IA en beneficio del desarrollo sostenible y la inclusión social. Por un lado, la IA puede contribuir a mejorar la calidad de vida de millones de personas, ofreciendo soluciones innovadoras a problemas complejos como el cambio climático, la educación, la salud o la seguridad. Por otro lado, la IA puede generar nuevos desafíos éticos, legales y sociales, como la pérdida de empleos, la discriminación, la vigilancia o la manipulación de la información.\n",
        "\n",
        "Para enfrentar estos desafíos y aprovechar las oportunidades de la IA, es necesario contar con una estrategia regional que impulse el desarrollo y la adopción de esta tecnología en América Latina, con una visión ética, responsable y humanista. Esta estrategia debe basarse en el fortalecimiento de las capacidades científicas, tecnológicas y educativas de los países latinoamericanos, así como en el fomento de la colaboración entre los actores públicos, privados y académicos. Asimismo, debe promover el diseño y la implementación de marcos normativos y regulatorios que garanticen el respeto a los derechos humanos, la protección de los datos personales y la transparencia en el uso de la IA.\n",
        "\n",
        "La inteligencia artificial es una oportunidad para el desarrollo sostenible en América Latina, pero también una responsabilidad compartida. Es imprescindible que los países latinoamericanos se involucren activamente en el debate global sobre la gobernabilidad y el futuro de esta tecnología, aportando sus perspectivas y experiencias. Solo así podrán asegurar que la IA se convierta en una herramienta para el bien común y no en una fuente de nuevos problemas o conflictos."
      ],
      "metadata": {
        "id": "Jk5Fp9hinow2"
      }
    },
    {
      "cell_type": "markdown",
      "source": [
        "# Referencias\n",
        "\n",
        "*   Prueba de Turing - Wikipedia, la enciclopedia libre. https://es.wikipedia.org/wiki/Prueba_de_Turing\n",
        "*   Test de Turing: qué es, cómo funciona, ventajas y limitaciones. https://psicologiaymente.com/cultura/test-turing\n",
        "*    Medir la inteligencia artificial: el test de Turing | OpenMind. https://www.bbvaopenmind.com/tecnologia/inteligencia-artificial/medir-la-inteligencia-artificial-el-test-de-turing/"
      ],
      "metadata": {
        "id": "8jDqfTViMSkU"
      }
    }
  ]
}