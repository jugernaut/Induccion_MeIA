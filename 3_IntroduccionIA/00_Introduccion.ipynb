{
  "nbformat": 4,
  "nbformat_minor": 0,
  "metadata": {
    "colab": {
      "provenance": [],
      "toc_visible": true,
      "authorship_tag": "ABX9TyPtRQToCxOBCRuF3ywaWFFD",
      "include_colab_link": true
    },
    "kernelspec": {
      "name": "python3",
      "display_name": "Python 3"
    },
    "language_info": {
      "name": "python"
    }
  },
  "cells": [
    {
      "cell_type": "markdown",
      "metadata": {
        "id": "view-in-github",
        "colab_type": "text"
      },
      "source": [
        "<a href=\"https://colab.research.google.com/github/jugernaut/Induccion_MeIA/blob/angel/3_IntroduccionIA/00_Introduccion.ipynb\" target=\"_parent\"><img src=\"https://colab.research.google.com/assets/colab-badge.svg\" alt=\"Open In Colab\"/></a>"
      ]
    },
    {
      "cell_type": "markdown",
      "source": [
        "# Introducción\n",
        "\n",
        "Introducción</a> by <span property=\"cc:attributionName\">Miguel Angel Pérez León</span> is licensed under <a href=\"http://creativecommons.org/licenses/by-nc-sa/4.0/?ref=chooser-v1\" target=\"_blank\" rel=\"license noopener noreferrer\" style=\"display:inline-block;\">CC BY-NC-SA 4.0<img style=\"height:22px!important;margin-left:3px;vertical-align:text-bottom;\" src=\"https://mirrors.creativecommons.org/presskit/icons/cc.svg?ref=chooser-v1\"><img style=\"height:22px!important;margin-left:3px;vertical-align:text-bottom;\" src=\"https://mirrors.creativecommons.org/presskit/icons/by.svg?ref=chooser-v1\"><img style=\"height:22px!important;margin-left:3px;vertical-align:text-bottom;\" src=\"https://mirrors.creativecommons.org/presskit/icons/nc.svg?ref=chooser-v1\"><img style=\"height:22px!important;margin-left:3px;vertical-align:text-bottom;\" src=\"https://mirrors.creativecommons.org/presskit/icons/sa.svg?ref=chooser-v1\"></a></p>"
      ],
      "metadata": {
        "id": "vPiaoBDijw3t"
      }
    },
    {
      "cell_type": "markdown",
      "source": [
        "# Introducción\n",
        "\n",
        "**Licenciatura** (2010): Ciencias de la Computación Facultad de Ciencias.\n",
        "\n",
        "**Becario**: Fundación Telmex (CTINT).\n",
        "\n",
        "**Profesor** (antigüedad 14 años):\n",
        "\n",
        "*   Sistemas Operativos.\n",
        "*   Manejo de Datos (programación 1 y 2).\n",
        "*   Ingeniería de Software.\n",
        "*   Bases de Datos.\n",
        "*   Análisis Numérico.\n",
        "*   Programación en Paralelo.\n",
        "\n",
        "**Maestría** (2017): Instituto de Investigaciones en Matemáticas Aplicadas y en Sistemas (I.I.M.A.S), especialidad en cómputo científico.\n",
        "\n",
        "**Laboratorio de cómputo de alto rendimiento**: Actualmente me encuentro encargado del laboratorio de cómpunto de alto rendimiento de la Facultad de Ciencias.\n",
        "\n",
        "Hoy en día la forma de interactuar entre nosotros ha cambiado mucho, en particular la forma de aprender (y enseñar). Actualmente se tienen múltiples plataformas para facilitar estas tareas, por mencionar algunas:\n",
        "\n",
        "*   *Meet (Google).*\n",
        "*   *Zoom.*\n",
        "*   *Youtube.*\n",
        "*   *Moodle.*\n",
        "\n",
        "Y en particular en este curso vamos a aprender a utilizar MACTI, en conjunto con [GitHub](https://github.com/) y aplicado a temas sobre inteligencia artificial como los son:\n",
        "\n",
        "*   Historia de la inteligencia artificial.\n",
        "*   Herramientas estilo chatGPT.\n",
        "*   Tipos de aprendizaje.\n",
        "*   Regresión lineal y logística.\n",
        "*   Perceptrón.\n",
        "*   Backpropagation y descenso del gradiente.\n",
        "*   Programación en paralelo."
      ],
      "metadata": {
        "id": "YJIXPApNj2GM"
      }
    },
    {
      "cell_type": "code",
      "source": [
        "# ¿Qué es MACTI?\n",
        "\n",
        "La respuesta a esta pregunta, es algo complicada ya que MACTI es un **conjunto de herramientas** que facilitan llevar a cabo la tarea de aprender-enseñar. Fue desarrollado en la U.N.A.M. por un equipo conformado por colaboradores del Instituto de Geofísica, Instituto de Ciencias Nucleares y su servidor. MACTI une 2 herramientas fundamentales *moodle* y *jupyter notebooks*.\n",
        "\n",
        "Desde el punto de vista de un usuario avanzado, podemos pensar que MACTI es un **contenedor** que nos facilita desarrollar el material que nosotros necesitemos.\n",
        "\n",
        "Desde el punto de vista de un estudiante, MACTI es la herramienta que usa el profesor para **exponer sus ideas y conocimiento**, sin embargo al mismo tiempo esta herramienta puede ser usada por el estudiante para llevar a cabo la misma tarea, **exponer, compartir y reafirmar** su conocimiento.\n",
        "\n",
        "En pocas palabras MACTI es muy similar al resto de los documentos y aplicaciones que nos proporciona *Google* y el medio perfecto para aprender-enseñar y colaborar, dadas las circunstancias actuales."
      ],
      "metadata": {
        "id": "FtTP026vj5VR"
      },
      "execution_count": null,
      "outputs": []
    },
    {
      "cell_type": "markdown",
      "source": [
        "## ¿En qué nos ayuda MACTI?\n",
        "\n",
        "La principal ventaja que nos brinda MACTI, es el echo de proporcionarnos un **laboratorio de cómputo virtual** en el cual podemos plasmar texto, algoritmos, acceder a bases de datos o repositorios, descargar materiales o realizar la labor que necesitemos para fines del curso.\n",
        "\n",
        "Además podemos hacer uso de esta herramienta  **sin la necesidad de realizar instalación alguna**, basta con tener un dispositivo con acceso a internet y una cuenta de MACTI.\n",
        "\n",
        "Estas son los pricipales motivos para hacer uso de MACTI. Como alternativa se tiene una heramienta conocida como *Google Colab* aunque no es tan completa."
      ],
      "metadata": {
        "id": "tkkfvolkj7so"
      }
    },
    {
      "cell_type": "markdown",
      "source": [
        "## Usuario Intermedio\n",
        "\n",
        "Para el usuario intermedio, es más que suficiente que piense en MACTI como un medio virtual para poder redactar documentos tipo [*jupyter notebooks*](https://es.wikipedia.org/wiki/Proyecto_Jupyter).\n",
        "\n",
        "Un *jupyter notebook*, es un documento que permite mezclar *HTML* (hyper text media languaje), $\\LaTeX{}$ y código de programación (*Python, Julia o R*) para que finalmente sea interpretado por algún navegador.\n",
        "\n",
        "Lo principal que debe entender un usuario principiante/medio, es que las 2 acciones principales que puedes llevar a cabo en *jupyter* o *colab*, es redactar 2 tipos de celdas:\n",
        "\n",
        "*   **Texto**: en este tipo de celdas puedes incorporar todo tipo de contenido mencionado previamente,  texto plano, *HTML*, $\\LaTeX{}$ o incluso imágenes o videos.\n",
        "*   **Código**: este tipo de celdas permite introducir código de programación en lenguaje *Python* (incluso algunos otros).\n"
      ],
      "metadata": {
        "id": "55YLzHIpj-I7"
      }
    },
    {
      "cell_type": "markdown",
      "source": [
        "### Celdas de texto\n",
        "\n",
        "Como su nombre lo indica, este tipo de celdas tienen el propósito de permitir al usuario agregar contenido al documento, principalmente en forma de texto plano, aunque también puede ser etiquetas *HTML* o incluso $\\LaTeX{}$.\n",
        "\n",
        "Se puede agregar una celda de texto desde la sección \"Insertar\" y seleccionando posteriormente \"Celda de texto\".\n",
        "\n",
        "Idealmente cada celda de texto debe comenzar con el símbolo '#' en el encabezado, este símbolo nos ayuda a definir si se trata de una sección, subsección, etc, la cantidad de símbolos '#', nos indica la cantidad de subseeciones a las que pertenece la cela en cuestión.\n",
        "\n",
        "Por otro lado, en la parte superior de la celda de texto, se muestra un menú corto de edición de texto, con los elementos típicos como:\n",
        "\n",
        "*   Tamaño de la fuente.\n",
        "*   Tipo/Forma de la fuente.\n",
        "*   Hipervinculos.\n",
        "*   Imágenes.\n",
        "\n",
        "Estas opciones son suficientes comúnmente, sin embargo en caso de no ser así, existen alternativas."
      ],
      "metadata": {
        "id": "F1PlY9LlkCEl"
      }
    },
    {
      "cell_type": "markdown",
      "source": [
        "#### *HTML*\n",
        "\n",
        "El lenguaje *HTML*, se basa en **etiquetas** y brinda una gran flexibilidad al momento de mostrar elementos en un navegador web.\n",
        "\n",
        "Los detalles finos del funcionamiento del lenguaje *HTML* escapan del alcance de este curso y para mayor detalle se puede revisar sitios como [W3Schools](https://www.w3schools.com/) y en particular el tutorial de [HTML](https://https://www.w3schools.com/html/).\n",
        "\n",
        "A continuación se muestra un ejemplo sencillo de como agregar *HTML* a una celda.\n",
        "\n",
        "<font color=\"Teal\" face=\"Comic Sans MS,arial\">\n",
        "  <h1 align=\"center\"><i>Redes Neuronales</i></h1>\n",
        "  </font>\n",
        "  <font color=\"Black\" face=\"Comic Sans MS,arial\">\n",
        "  <h5 align=\"center\"><i>Profesor: M. en C. Miguel Angel Pérez León.</i></h5>\n",
        "  </font>"
      ],
      "metadata": {
        "id": "YJ3JXCarkFET"
      }
    },
    {
      "cell_type": "markdown",
      "source": [
        "#### $\\LaTeX$\n",
        "\n",
        "De igual manera que con el código *HTML*, el lenguaje $\\LaTeX{}$, es una herramienta de gran utilidad sobretodo en el contexto de las ciencias, ya que nos permite expresar ideas complejas mediante símbolos y expresiones bien formadas.\n",
        "\n",
        "Existe una gran cantidad de documentación que nos puede ayudar a conocer más a detalle el funcionamiento y uso del lenguaje $\\LaTeX$, aquí se muestran 2 sugerencias, [overleaf](https://www.overleaf.com/learn/latex/Learn_LaTeX_in_30_minutes) y [latex fácil](https://nokyotsu.com/latex/curso.html).\n",
        "\n",
        "Por el momento es suficiente saber que para poder incrustar lenguaje $\\LaTeX$ dentro de una celda es necesario usar el símbolo de pesos y cerrar la expresión con el mismo símbolo, por ejemplo $f(x)$.\n",
        "\n",
        "Si necesitamos darle un poco más de formato a la expresión se usan 2 símbolos de pesos, por ejemplo.\n",
        "\n",
        "$$f'\\left(x\\right)=\\lim_{\\triangle x\\rightarrow0}\\frac{f\\left(x+\\triangle x\\right)-f\\left(x\\right)}{\\triangle x}$$\n",
        "\n",
        "La versatilidad de $\\LaTeX$ nos permite expresar ideas tan complejas como sean necesarias, por ejemplo la aproximación de una integral triple definida entre $[0,1]$, como se muestra en (1).\n",
        "\n",
        "$$\\int_{0}^{1}\\int_{0}^{1}\\int_{0}^{1}f\\left(x,y,z\\right)dxdydz\\approx\\frac{1}{n}\\sum_{i=1}^{n}f\\left(x_{i},y_{i},z_{i}\\right) \\tag{1}$$\n",
        "\n",
        "O las operaciones que se realizan en una capa de una red neuronal artificial (2).\n",
        "\n",
        "$$\\begin{array}{cccccc}\n",
        "F(\\vec{X})=\\left(\\begin{array}{cc}\n",
        "w_{0,0} & w_{0,1}\\\\\n",
        "w_{1,0} & w_{1,1}\\\\\n",
        "\\vdots & \\vdots\\\\\n",
        "w_{n,0} & w_{n,1}\n",
        "\\end{array}\\right) & \\left(\\begin{array}{c}\n",
        "a_{0}^{c-1}\\\\\n",
        "a_{1}^{c-1}\n",
        "\\end{array}\\right) & + & \\left(\\begin{array}{c}\n",
        "b_{0}^{c}\\\\\n",
        "b_{1}^{c}\\\\\n",
        "\\vdots\\\\\n",
        "b_{n}^{c}\n",
        "\\end{array}\\right) & = & \\left(\\begin{array}{c}\n",
        "a_{0}^{c-1}*w_{0,0}+a_{1}^{c-1}*w_{0,1}+b_{0}^{c}\\\\\n",
        "a_{0}^{c-1}*w_{1,0}+a_{1}^{c-1}*w_{1,1}+b_{1}^{c}\\\\\n",
        "\\vdots\\\\\n",
        "a_{0}^{c-1}*w_{n,0}+a_{1}^{c-1}*w_{n,1}+b_{n}^{c}\n",
        "\\end{array}\\right)\\end{array} \\tag{2}$$"
      ],
      "metadata": {
        "id": "4ffIDqJxkHZU"
      }
    },
    {
      "cell_type": "markdown",
      "source": [
        "#### Imágenes\n",
        "\n",
        "Un elemento al que se recurre frecuente en todo documento de texto, son las imágenes y tanto *Jupyter* como *Google Colab* nos permite incorporarlas de múltiples formas.\n",
        "\n",
        "**Desde el menú de la celda**, podemos hacer uso de la opción para agregar imágenes, esta es la forma más sencilla para agregar imágenes al documento, pero también la menos usada ya que agrega gran cantidad de codificación a la celda.\n",
        "\n",
        "**Desde una URL** (dirección web), podemos agregar una imagen y darle formato con *HTML*. Esta es una forma útil y sencilla, pero depende del funcionamiento del sitio web para que la imagen sea mostrada, por ejemplo.\n",
        "\n",
        "<center>\n",
        "<img src=\"https://github.com/jugernaut/Numerico2021/blob/desarrollo/Figuras/Normas/p1.png?raw=1\" width=\"150\">\n",
        "</center>\n",
        "\n",
        "**Desde *Google Drive***, esta forma es la que más frecuentemente se usa, aunque es algo \"engañosa\" ya que es necesario generar una **carpeta pública** dentro de nuestro *Google Drive*, subir la imagen y ubicar el **id de la imagen**, por ejemplo.\n",
        "\n",
        "\n",
        "![dinero](https://docs.google.com/uc?export=download&id=1GZSQIY8y164zXGFvQM1u9DBMopKKPYnj)\n",
        "\n",
        "En este ejemplo, la imagen se ubica en mi drive, en una carpeta compartida (pública) y el id que google le asigno a esta imagen es *1GZSQIY8y164zXGFvQM1u9DBMopKKPYnj*."
      ],
      "metadata": {
        "id": "Kdek-zi8kKWI"
      }
    },
    {
      "cell_type": "markdown",
      "source": [
        "###### Animaciones\n",
        "\n",
        "De igual manera que se agregan imágenes, es posible agregar animaciones, ya sea desde un sitio en internet o nuestro drive.\n",
        "\n",
        "![anim1](https://docs.google.com/uc?export=download&id=1gmcY1mUeQ5AmAunk9wtJXhMk9Ihw9_DQ)\n",
        "\n",
        "<center>\n",
        "<img src=\"https://github.com/jugernaut/Numerico2021/blob/master/Figuras/derivacion/DiFini2D.gif?raw=1\" width=\"850\">\n",
        "</center>"
      ],
      "metadata": {
        "id": "jKtLEcQZkM4O"
      }
    },
    {
      "cell_type": "markdown",
      "source": [
        "### Celdas de código\n",
        "\n",
        "Este tipo de celda nos permite agregar código en lenguaje *Python* (inicialmente) ejecutarlo y mostrar el resultado mediante el navegador.\n",
        "\n",
        "Las celdas de tipo código tienen 4 elementos principales:\n",
        "\n",
        "*   **Código en *Python***: aquí podemos escribir todas las instrucciones que compongan el **algoritmo** de programación.\n",
        "*   **Comentarios**: con el símbolo '#' (o también con ''' ''') se indica que que lo que se encuentre después de este símbolo no se debe interpretar como código, simplemente como un comentario.\n",
        "*   **Ejecución**: del lado izquierdo superior de esta cela se ve el símbolo de un triangulo $\\blacktriangleright$, al momento de presionarlo se interpreta y ejecuta el código de esta celda.\n",
        "*   **Resultados ó Errores**: después de ejecutar el código de la celda y debajo de la misma, se mostrará el resultado de la ejecución de este código (en caso de que se muestre algún resultado).\n",
        "\n",
        "Veamos un ejemplo muy sencillo.\n"
      ],
      "metadata": {
        "id": "5cXexxvtkd1O"
      }
    },
    {
      "cell_type": "code",
      "source": [
        "# esto es un comentario solo es para fines documentales\n",
        "import numpy as np\n",
        "import matplotlib.pyplot as plt\n",
        "\n",
        "print(\"Hola MACTI\")"
      ],
      "metadata": {
        "id": "b9G9GbhokiJ4"
      },
      "execution_count": null,
      "outputs": []
    },
    {
      "cell_type": "code",
      "source": [
        "# este ejemplo muestra un error de programacion\n",
        "pront(Hola MACTI)"
      ],
      "metadata": {
        "id": "lcl8f5gYkkeX"
      },
      "execution_count": null,
      "outputs": []
    },
    {
      "cell_type": "markdown",
      "source": [
        "#### *Debbuger*\n",
        "\n",
        "El debbuger es una herramienta fundamental para todo programador, es una herramienta que nos ayuda a encontrar bichos/errores (*bugs*) en el código que vayamos escribiendo.\n",
        "\n",
        "La forma tradicional para encontrar estos *bugs* (tal como se hacía en Mesopotamia), era imprimir las variables involucradas para saber el contenido de las mismas y poder ver el por que el resultado de nuestro algoritmo no es el esperado. Además de poder acceder al contenido de las variables, se pueden ver la **pila de ejecución y más elementos involucrados en la ejecución del algoritmo**.\n",
        "\n",
        "La gran mayoría de IDE's (entornos de desarrollo), tales como *eclipse, vscode, netbeans*, etc. ya cuentan con alguna herramienta de este tipo. En nuestro caso, *jupyterlab* cuenta con su propio *debbuger*.\n",
        "\n",
        "<center>\n",
        "<img src=\"https://github.com/jugernaut/Induccion_MeIA/blob/angel/utils/fig/debbugLab.gif?raw=1\" width=\"850\">\n",
        "</center>"
      ],
      "metadata": {
        "id": "pt8MGz4PkPcI"
      }
    },
    {
      "cell_type": "markdown",
      "source": [
        "## Usuario avanzado\n",
        "\n",
        "Normalmente en cualquier curso (que tenga que ver con el uso de una computadora), uno de los problemas principales es el proceso de instalación y ajuste de las herramientas que se van a ocupar.\n",
        "\n",
        "*MACTI* facilita esta tarea proporcionado un entorno (contenedor) con todo lo necesario para ejecutar programas en *Python*, redactar contenido empleando $\\LaTeX{}$ y compartir contenidos como imágenes o video.\n",
        "\n",
        "En esencia un usuario avanzado puede pensar en *MACTI*, como un entrono de desarrollo virtual que ofrece la U.N.A.M. y que se encuentra en la nube.\n",
        "\n",
        "Al acceder a un documento tipo *jupyter* desde nuestra cuenta de *MACTI* podemos ver secciones tan variadas como:\n",
        "\n",
        "*   Indice.\n",
        "*   Archivos.\n",
        "*   Bases de datos.\n",
        "*   Entorno de ejecución.\n",
        "*   RAM y Disco.\n",
        "\n",
        "Entre muchas otras secciones y herramientas, para fines de este curso basta con conocer y manejar las antes mencionadas.\n"
      ],
      "metadata": {
        "id": "QqytVA-MkpBW"
      }
    },
    {
      "cell_type": "markdown",
      "source": [
        "### Contenedor\n",
        "\n",
        "La tecnología de virtualización y en particular los [contenedores](https://www.redhat.com/es/topics/containers/whats-a-linux-container) ayudan a repartir los recursos de cómputo entre varios usuarios, MACTI hace uso de esta tecnología para prestarnos una pequeña parte de un servidor en el cual se aloja nuestra sesión mediante la que se accede al documento de MACTI.\n",
        "\n",
        "<center>\n",
        "<img src=\"https://github.com/jugernaut/Induccion_MeIA/blob/angel/utils/fig/contenedor.png?raw=1\" width=\"450\">\n",
        "</center>\n",
        "\n",
        "En la menú izquierdo podemos ver un par de opciones, la primera nos muestra el indice, la segunda nos permite buscar y reemplazar, sin embargo la cuarta opción nos muestra los *Archivos* que se encuentra en nuestro contenedor.\n",
        "\n",
        "Al mismo tiempo este menú (*Archivos*), permite subir archivos que se ubiquen en nuestro **equipo local** al contenedor y también acceder a nuestros documentos en el drive de google."
      ],
      "metadata": {
        "id": "gGqj4E97knpl"
      }
    },
    {
      "cell_type": "markdown",
      "source": [
        "##### *Linux*\n",
        "\n",
        "Vale la pena mencionar que el contenedor donde se ejecuta MACTI y *Google Colab*, esta configurado con una versión del sistema operativo [*Linux*](https://es.wikipedia.org/wiki/GNU/Linux), y es por esta razón que mediante una celda de código y mediante el uso del símbolo '!' podemos ejecutar comandos nativos del sistema operativo *Linux*, por ejemplo:\n",
        "\n",
        "*   *ls*: listar los documentos que se encuentran en el directorio actual\n",
        "*   *cd*: cambiar de directorio\n",
        "*   *rm*: eliminar archivos\n",
        "\n"
      ],
      "metadata": {
        "id": "ayW3C2OMkvz2"
      }
    },
    {
      "cell_type": "code",
      "source": [
        "# se listan los documentos actuales\n",
        "!ls"
      ],
      "metadata": {
        "id": "RiD6Igp2kzRA"
      },
      "execution_count": null,
      "outputs": []
    },
    {
      "cell_type": "code",
      "source": [
        "# cambiamos de directorio y mostramos los archivos\n",
        "!cd sample_data/ && ls"
      ],
      "metadata": {
        "id": "3CuTnhSZk11o"
      },
      "execution_count": null,
      "outputs": []
    },
    {
      "cell_type": "code",
      "source": [
        "# eliminamos el archivo README.md\n",
        "! rm sample_data/README.md\n",
        "\n",
        "# comprobamos que se elimino el documento\n",
        "! cd sample_data/ && ls"
      ],
      "metadata": {
        "id": "1WSHOeFgk4VW"
      },
      "execution_count": null,
      "outputs": []
    },
    {
      "cell_type": "markdown",
      "source": [
        "## Compartir el conocimiento\n",
        "\n",
        "Cualquiera de las 2 visiones anteriores (usuario avanzado o intermedio) tiene el factor común de **compartir el material desarrollado**, basta con seleccionar el o los usuarios de *Gmail* que pueden tener acceso al material, para que todos aquellos pueda ver o incluso editar en tiempo real el documento.\n",
        "\n",
        "Esta característica es ideal para la \"nueva forma\" de interactuar a distancia."
      ],
      "metadata": {
        "id": "k9suJ1Myk7GO"
      }
    },
    {
      "cell_type": "markdown",
      "source": [
        "# ¿Qué es *Github*?\n",
        "\n",
        "*GitHub* es otra herramienta en linea que nos permite almacenar y sobretodo **VERSIONAR** el código y documentación de nuestros proyectos. A este tipo de herramientas se les conoce como **repositorio de código**.\n",
        "\n",
        "Normalmente cuando se desarrolla un proyecto extenso, es muy útil almacenar las versiones de cada cambio realizado al proyecto, esto con la intención de poder ramificar el proyecto o volver a una versión previa del mismo.\n",
        "\n",
        "Además de estas ventajas, [*GitHub*](https://github.com/) se lleva muy bien con *Google Colab*, de tal manera que todo documento desarrollado mediante *colab*, puede ser almacenado, versionado e incluso compartido mediante *GitHub*.\n",
        "\n",
        "Dado que *GitHub* es una herramienta que funciona en la nube, y ya cuenta con toda la infraestructura para mantenerse en linea, es muy útil para compartir proyectos como el que veremos en este curso."
      ],
      "metadata": {
        "id": "kiskdyytk9SG"
      }
    },
    {
      "cell_type": "markdown",
      "source": [
        "## Usuario intermedio\n",
        "\n",
        "El usuario intermedio de este tipo de herramientas, simplemente hará uso de *GitHub* para acceder mediante el navegador al código o conocimiento que necesite.\n",
        "\n",
        "Por ejemplo si un usuario necesita saber como programar una suma de matrices, lo más seguro es que el código relacionado a este algoritmo se encuentre en internet y en particular en algún repositorio como *GitHub*.\n",
        "\n",
        "En este [repositorio](https://colab.research.google.com/github/jugernaut/Prometeo/blob/desarrollo/02_AlgebraLineal/02_Matrices/02_Matrices.ipynb), se encuentra la explicación y el código relacionado a la suma de matrices.\n",
        "\n",
        "Incluso, muchas \"aplicaciones\" pueden ser descargadas desde un repositorio de código."
      ],
      "metadata": {
        "id": "K2ST3rUtk_Si"
      }
    },
    {
      "cell_type": "markdown",
      "source": [
        "## Usuario avanzado\n",
        "\n",
        "Un usuario avanzado con conocimiento en este tipo de herramientas se convierte en un **lider de proyecto** o incluso **arquitecto de software**.\n",
        "\n",
        "De tal manera que un usuario avanzado se limita a **orquestar el desarrollo del proyecto**, sin embargo para llegar a este nivel es necesario dominar el uso de esta herramienta y ademas tener toda la experiencia necesaria."
      ],
      "metadata": {
        "id": "JdYnjz-FlDWw"
      }
    },
    {
      "cell_type": "markdown",
      "source": [
        "# ¿Qué sucede si combinamos ambas herramientas?\n",
        "\n",
        "Si combinamos ambas herramientas podemos desarrollar, organizar, enseñar, compartir y sobretodo aprender a interactuar mediante una forma que se adapta por completo a las circunstancias actuales.\n",
        "\n",
        "En suma ambas herramientas combinadas (*MACTI* y *GitHub*) se convierten en la combinación ideal para poder aprender/enseñar hoy en día.\n",
        "\n",
        "De tal forma que, como ya conocemos el funcionamiento de estas herramientas vamos a comenzar con los primeros temas del semestre."
      ],
      "metadata": {
        "id": "JcHoejh2lFuY"
      }
    }
  ]
}