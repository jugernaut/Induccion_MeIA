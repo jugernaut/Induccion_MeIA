{
 "cells": [
  {
   "cell_type": "markdown",
   "metadata": {
    "colab_type": "text",
    "id": "view-in-github"
   },
   "source": [
    "<a href=\"https://colab.research.google.com/github/jugernaut/Induccion_MeIA/blob/angel/4_IntroduccionAA/01_TiposDeAprendizaje.ipynb\" target=\"_parent\"><img src=\"https://colab.research.google.com/assets/colab-badge.svg\" alt=\"Open In Colab\"/></a>"
   ]
  },
  {
   "cell_type": "markdown",
   "metadata": {
    "id": "XKcKm7OJbfaC"
   },
   "source": [
    "# Tipos de Aprendizaje\n",
    "\n",
    "Tipos de Aprendizaje</a> by <span property=\"cc:attributionName\">Miguel Angel Pérez León</span> is licensed under <a href=\"http://creativecommons.org/licenses/by-nc-sa/4.0/?ref=chooser-v1\" target=\"_blank\" rel=\"license noopener noreferrer\" style=\"display:inline-block;\">CC BY-NC-SA 4.0<img style=\"height:22px!important;margin-left:3px;vertical-align:text-bottom;\" src=\"https://mirrors.creativecommons.org/presskit/icons/cc.svg?ref=chooser-v1\"><img style=\"height:22px!important;margin-left:3px;vertical-align:text-bottom;\" src=\"https://mirrors.creativecommons.org/presskit/icons/by.svg?ref=chooser-v1\"><img style=\"height:22px!important;margin-left:3px;vertical-align:text-bottom;\" src=\"https://mirrors.creativecommons.org/presskit/icons/nc.svg?ref=chooser-v1\"><img style=\"height:22px!important;margin-left:3px;vertical-align:text-bottom;\" src=\"https://mirrors.creativecommons.org/presskit/icons/sa.svg?ref=chooser-v1\"></a></p> "
   ]
  },
  {
   "cell_type": "markdown",
   "metadata": {
    "id": "yVOYjselDwTj"
   },
   "source": [
    "## Tipos de aprendizaje\n",
    "\n",
    "El aprendizaje automatizado es una rama de la inteligencia artificial que se ocupa de crear sistemas capaces de aprender de los datos y mejorar su rendimiento sin intervención humana. Existen diferentes tipos de aprendizaje automatizado según el tipo de datos, el tipo de tarea y el tipo de retroalimentación que se utiliza. Los principales tipos son:\n",
    "\n",
    "- **Aprendizaje supervisado**: se basa en utilizar datos etiquetados, es decir, que tienen una respuesta o salida deseada asociada a cada entrada. El objetivo es aprender una función que pueda predecir la salida a partir de la entrada para nuevos datos. Ejemplos de aprendizaje supervisado son la clasificación, la regresión y el reconocimiento de patrones.\n",
    "\n",
    "- **Aprendizaje no supervisado**: se basa en utilizar datos no etiquetados, es decir, que no tienen una respuesta o salida deseada asociada a cada entrada. El objetivo es encontrar patrones, estructuras o regularidades en los datos sin tener una guía previa. Ejemplos de aprendizaje no supervisado son el agrupamiento, la reducción de dimensionalidad y el análisis de componentes principales.\n",
    "\n",
    "- **Aprendizaje por refuerzo**: se basa en utilizar un agente que interactúa con un entorno y recibe una recompensa o castigo por sus acciones. El objetivo es aprender una política que maximice la recompensa acumulada a largo plazo. Ejemplos de aprendizaje por refuerzo son el control óptimo, los juegos y la robótica."
   ]
  },
  {
   "cell_type": "markdown",
   "metadata": {
    "id": "pL3l51BpO_hL"
   },
   "source": [
    "## Agrupamiento\n",
    "\n",
    "El concepto de **norma** es de gran importancia en el contexto de los espacios vectoriales, tiene múltiples aplicaciones y una de ellas es para definir métricas en dichos espacios para poder medir distancias entre los elementos que pertenecen a estos espacios vectoriales.\n",
    "\n",
    "La distancia entre un vector y el origen o entre una matriz y otra puede tener múltiples interpretaciones, en este documento veremos cómo el concepto de norma se aplica al campo de la inteligencia artificial y en particular en las redes neuronales.\n",
    "\n",
    "Las redes neuronales y el aprendizaje de máquina son de las áreas de las ciencias que han tenido más desarrollo en las últimas épocas.\n",
    "\n",
    "Y una de las áreas en las que mayor aplicación han tenido estas disciplinas es en la **clasificación automatizada**.\n",
    "\n",
    "Supongamos que nos interesa clasificar colores y dado que los colores se pueden ver como vectores con 3 componentes entonces podemos establecer distancias entre estos vectores para determinar que tan \"similares\" o \"distintos\" son unos de otros.\n",
    "\n",
    "A partir de este concepto de \"distancia\" (norma en un espacio vectorial) podemos comenzar a clasificar cualquier cosa que pueda ser caracterizada por un vector.\n",
    "\n",
    "Para una idea más clara de lo antes mencionado puedes ver este [video](https://youtu.be/h5cXKVf0ogQ)."
   ]
  },
  {
   "cell_type": "markdown",
   "metadata": {
    "id": "pNIkW1DWyWEH"
   },
   "source": [
    "# Definición de Norma Vectorial\n",
    "\n",
    "A continuación se muestran algunas de las normas vectoriales más comunes\n",
    "\n",
    "Sea $p\\geq1.$ Las normas de *Hölder*, o *p-normas* están definidas por:\n",
    "\n",
    "$$\\left\\Vert \\vec{x}\\right\\Vert _{p}:=\\left[\\sum_{i=1}^{n}\\left|x_{i}\\right|^{p}\\right]^{1/p}\\quad para\\,1\\leq p<\\infty$$\n",
    "\n",
    "De ellas, las mas importantes son:\n",
    "\n",
    "La $1-norma$\n",
    "\n",
    "$$\\left\\Vert \\vec{x}\\right\\Vert _{1}:=\\sum_{i=1}^{n}\\left|x_{i}\\right|$$\n",
    "\n",
    "La $2-norma$ (norma euclidiana)\n",
    "\n",
    "$$\\left\\Vert \\vec{x}\\right\\Vert _{2}:=\\left[\\sum_{i=1}^{n}\\left|x_{i}\\right|^{2}\\right]^{1/2}$$\n",
    "\n",
    "y la $\\infty-norma$ (norma del supremo)\n",
    "\n",
    "$$\\left\\Vert \\vec{x}\\right\\Vert _{\\infty}:= max_{1\\leq i\\leq n}\\left|x_{i}\\right|$$"
   ]
  },
  {
   "cell_type": "markdown",
   "metadata": {
    "id": "55yMt38gzYpa"
   },
   "source": [
    "# Definición de Distancia\n",
    "\n",
    "Sean $\\vec{x}$, $\\vec{y}$ $\\in \\mathbb{R}^{n}$ la distancia entre $\\vec{x}$, $\\vec{y}$ se define de la siguiente manera.\n",
    "\n",
    "$$d\\left(\\vec{x},\\vec{y}\\right):=\\left\\Vert \\vec{x}-\\vec{y}\\right\\Vert$$\n",
    "\n",
    "La importancia de una norma es que una vez definida la norma\n",
    "en $\\mathbb{R}^{n}$ es sencillo establecer una métrica    (distancia entre vectores).\n",
    "\n",
    "Dependiendo de la elección de la norma la definición de distancia se verá modificada.\n",
    "\n",
    "Si consideramos un espacio bidimensional y la 1-norma tenemos que. \n",
    "\n",
    "$$d_{1}\\left(\\vec{x},\\vec{y}\\right)=\\left\\Vert \\vec{x}-\\vec{y}\\right\\Vert _{1}=\\sum_{i=1}^{2}\\left|x_{i}-y_{i}\\right|$$\n",
    "\n",
    "A esta distancia se le conoce como distancia *Manhattan*.\n",
    "\n",
    "Si consideramos un espacio n-dimensional y la 2-norma (norma euclidiana) tenemos que. \n",
    "\n",
    "$$d_{2}\\left(\\vec{x},\\vec{y}\\right)=\\left\\Vert \\vec{x}-\\vec{y}\\right\\Vert _{2}=\\left[\\sum_{i=1}^{n}\\left|x_{i}-y_{i}\\right|^{2}\\right]^{1/2}$$"
   ]
  },
  {
   "cell_type": "markdown",
   "metadata": {
    "id": "YUR6fBxlqMgC"
   },
   "source": [
    "## Agrupamiento y clasificación mapa auto organizado (*SOM*)\n",
    "\n",
    "Un mapa auto organizado o *SOM* por sus siglas en inglés (*self-organized map*) es una de las redes neuronales más sencillas y fáciles de implementar pero no por eso es un algoritmo que no tenga aplicación actualmente.\n",
    "\n",
    "Este tipo de red neuronal fue creado en la década de los 80's por el finlandés **Teuvo Kohonen** y se basa en modelos matemáticos de **Alan Turing**.\n",
    "\n",
    "La idea detrás de este algoritmo es muy sencilla y se describe de manera breve a continuación:\n",
    "\n",
    "*   Comenzamos con una red o mapa (matriz) de vectores o incluso de matrices en la cual todas las neuronas o entradas del mapa contienen valores aleatorios.\n",
    "*   Por cada elemento en la lista de entrenamiento, se evalua la norma (distancia) de este elemento contra cada neurona en la red.\n",
    "*   Tomamos aquella neurona cuya norma haya sido la menor y modificamos los valores de las neuronas vecinas para que se parezcan un poco al vector evaluado en esa iteración.\n",
    "*   Se repite este proceso hasta terminar las iteraciones ó en caso de que la norma de la red actual y la red anterior no difiere mucho."
   ]
  },
  {
   "cell_type": "markdown",
   "metadata": {
    "id": "FQdgCiNDrBRg"
   },
   "source": [
    "### Formalización del algoritmo\n",
    "\n",
    "Para dar un formalización de este algoritmo es necesario definir un conjunto de variables que son usadas durante el proceso de entrenamiento y clasificación de la red neuronal.\n"
   ]
  },
  {
   "cell_type": "markdown",
   "metadata": {
    "id": "JGzJ_yoeEYGI"
   },
   "source": [
    "#### Variables\n",
    "\n",
    "*   $s$ es la iteración actual.\n",
    "*   $\\lambda$ cantidad de ciclos de entrenamiento o épocas.\n",
    "*   $t$ es el índice del vector de entrada en el conjunto de datos de entrada $D$.\n",
    "*   $D(t)$ es un vector de entrada de índice $t$ del conjunto de datos de entrada $D$.\n",
    "*   $v$ es el índice de una neurona en el mapa.\n",
    "*   $W_v$ es el vector de pesos de la neurona v.\n",
    "*   $u$ es el índice de la neurona cuya norma es la menor con respecto de $W_v$\n",
    "*   $\\Theta (u,v,s)$ es la función de vecindad que determina cuáles neuronas serán modificadas.\n",
    "*   $\\alpha (s)$ es una función que restringe el aprendizaje conforme avanzan las iteraciones."
   ]
  },
  {
   "cell_type": "markdown",
   "metadata": {
    "id": "iNvm0iYHEaVH"
   },
   "source": [
    "#### Algoritmo\n",
    "\n",
    "1.   Hacer un mapa (red) de neuronas con vectores de pesos aleatorios.\n",
    "2.   Tomar un vector de entrada $D(t)$.\n",
    "\n",
    ">1.   Iterar por cada neurona del mapa.\n",
    "\n",
    ">>1.   Calcular la distancia entre el vector de entrada y los vectores de pesos de las neuronas del mapa.\n",
    "2.   Mantener la neurona que ha tenido la menor distancia (norma), esta neurona será el best matching unit (BMU).\n",
    "\n",
    ">2.   Actualizar las neuronas en la vecindad del BMU.\n",
    "\n",
    ">> 1.   $W_{v}\\left(s+1\\right)=W_{v}\\left(s\\right)+\\Theta\\left(u,v,s\\right)\\alpha\\left(s\\right)\\left(D\\left(t\\right)-W_{v}\\left(s\\right)\\right)$\n",
    "\n",
    "3.   Incrementar $s$ y volver al paso 2, mientras $s<\\lambda$.\n",
    "\n",
    "\n"
   ]
  },
  {
   "cell_type": "markdown",
   "metadata": {
    "id": "2t_BRrcZMhm1"
   },
   "source": [
    "## *Tensor Flow*\n",
    "\n",
    "*Tensor Flow* es un *API* desarrollado por Google que tiene la finalidad de facilitar la implementación de redes neuronales.\n",
    "\n",
    "Se usa en múltiples aplicaciones de Google como su **reconocimiento automatizado de imagenes** en el buscador o en el **reconocimiento de patrones de voz** para su asistente virtual.\n",
    "\n",
    "Existen versiones de *Tensor Flow* optimizadas para hacer uso de *GPU's* (unidades de procesamiento gráfico) o incluso de *TPU's* (unidades de procesamiento tensorial).\n",
    "\n",
    "Actualmente *Tensor Flow* se encuentra en su versión 2.12.\n",
    "\n",
    "Su funcionamiento es muy intuitivo y se recomienda revisar su [documentación](https://www.tensorflow.org/api_docs) para una mayor comprensión del código mostrado a continuación."
   ]
  },
  {
   "cell_type": "markdown",
   "metadata": {
    "id": "pdVDqeHfJZW1"
   },
   "source": [
    "## Implementación\n",
    "\n",
    "Para tener una mejor organización del algoritmo y mediante el paradigma orientado a objetos, se crea la **clase SOM** que encapsula las acciones que podemos llevar a cabo con un *SOM*.\n",
    "\n",
    "El código ha sido comentado para su mejor comprensión pero de manera general implementa el algoritmo descrito previamente."
   ]
  },
  {
   "cell_type": "code",
   "execution_count": null,
   "metadata": {
    "colab": {
     "base_uri": "https://localhost:8080/"
    },
    "id": "85Aws8yJGKXm",
    "outputId": "81837153-f099-4a7f-89e5-fe1dd1c61f60"
   },
   "outputs": [],
   "source": [
    "import tensorflow.compat.v1 as tf\n",
    "tf.disable_v2_behavior()\n",
    "import numpy as np\n",
    "from matplotlib import pyplot as plt\n",
    " \n",
    "class SOM(object):\n",
    "    \"\"\"\n",
    "    Clase que representa una red neuronal tipo SOM.\n",
    "    \"\"\"\n",
    " \n",
    "    #Para revisar si la red ya ha sido entrenada\n",
    "    _trained = False\n",
    " \n",
    "    def __init__(self, m, n, dim, n_iterations=100, alpha=None, sigma=None):\n",
    "        \"\"\"\n",
    "        Constructor que toma como parámetros los valores descritos en el\n",
    "        algoritmo SOM. Genera un mapa de m renglones por n columnas y se entrenara\n",
    "        con n_iterations\n",
    "        \"\"\"\n",
    " \n",
    "        #Se inicializan variables que seran usadas a lo largo del coidgo\n",
    "        self._m = m\n",
    "        self._n = n\n",
    "        if alpha is None:\n",
    "            alpha = 0.3\n",
    "        else:\n",
    "            alpha = float(alpha)\n",
    "        if sigma is None:\n",
    "            sigma = max(m, n) / 2.0\n",
    "        else:\n",
    "            sigma = float(sigma)\n",
    "        self._n_iterations = abs(int(n_iterations))\n",
    " \n",
    "        '''SE NECESITA UNA GRAFICA (PLANO), hay una grafica\n",
    "        por default pero la guardamos en _graph'''\n",
    "        self._graph = tf.Graph()\n",
    " \n",
    "        '''SE CREAN LOS ELEMENTOS NECESARIOS EN LA GRAFICA'''\n",
    "        with self._graph.as_default():\n",
    "            '''SE CREAN TODAS LAS NEURONAS CON tf.Variable, son m*n\n",
    "            neuronas con dim pesos, que seran comparados con los pesos\n",
    "            de la entrada y la que tenga la menor distancia sera la\n",
    "            neurona ganadora. Antes de iniciar el entrenamiento, hay\n",
    "            hay que inicializar TODAS las variables'''\n",
    "            \n",
    "            '''Lista de pesos de los vectores de la red neuronal'''\n",
    "            self._weightage_vects = tf.Variable(tf.random.normal(\n",
    "                [m*n, dim]))\n",
    " \n",
    "            '''Lista de 600 entradas, y cada entrada representa una\n",
    "            coordenada en la cual se encuentra cada neurona'''\n",
    "            self._location_vects = tf.constant(np.array(\n",
    "                list(self._neuron_locations(m, n))))\n",
    " \n",
    "            '''self._vect_input es un placeholder de tamano dim, ya que\n",
    "            es el objeto que sera alimentado con el vector de entrada y\n",
    "            a su vez este sera comparado con los pesos de cada neurona.\n",
    "            Esto es asi por el framework que da tensorflow'''\n",
    "            self._vect_input = tf.placeholder(\"float\", [dim])\n",
    "            \n",
    "            '''Lo mismo sucede con esta variable, la diferencia es que en\n",
    "            este punto aun no se sabe cuantas iteraciones (épocas) seran\n",
    "            necesarias, asi que se deja en cero.'''\n",
    "            self._iter_input = tf.placeholder(\"float\")\n",
    " \n",
    "            '''Devuelve el indice con el menor valor, es decir la neurona más cercana.'''\n",
    "            bmu_index = tf.argmin(tf.sqrt(tf.reduce_sum(\n",
    "                tf.pow(tf.subtract(self._weightage_vects, tf.stack(\n",
    "                    [self._vect_input for i in range(m*n)])), 2), 1)),\n",
    "                                  0)\n",
    " \n",
    "            '''Variable que guarda el indice y un espacio para el sus\n",
    "            coordenada'''\n",
    "            slice_input = tf.pad(tf.reshape(bmu_index, [1]),\n",
    "                                 np.array([[0, 1]]))\n",
    "            bmu_loc = tf.reshape(tf.slice(self._location_vects, slice_input,\n",
    "                                          tf.constant(np.array([1, 2]))),\n",
    "                                 [2])\n",
    " \n",
    "            '''Valores necesario para actualizar los pesos de las neuronas\n",
    "            de acuerdo a la iteracion (epoca)'''\n",
    "            learning_rate_op = tf.subtract(1.0, tf.div(self._iter_input,\n",
    "                                                  self._n_iterations))\n",
    "            _alpha_op = tf.multiply(alpha, learning_rate_op)\n",
    "            _sigma_op = tf.multiply(sigma, learning_rate_op)\n",
    " \n",
    "            '''Calcula las distancias al cuadrado por cada neurona con respecto\n",
    "            a la neurona GANADORA (BMU). De tal manera que estos valores\n",
    "            puedan ser empleados para actualizar los pesos de los vecinos'''\n",
    "            bmu_distance_squares = tf.reduce_sum(tf.pow(tf.subtract(\n",
    "                self._location_vects, tf.stack(\n",
    "                    [bmu_loc for i in range(m*n)])), 2), 1)\n",
    "            neighbourhood_func = tf.exp(tf.negative(tf.div(tf.cast(\n",
    "                bmu_distance_squares, \"float32\"), tf.pow(_sigma_op, 2))))\n",
    "            learning_rate_op = tf.multiply(_alpha_op, neighbourhood_func)\n",
    " \n",
    "            '''Tasa de aprendizaje para actualizar los pesos de las neuronas'''\n",
    "            learning_rate_multiplier = tf.stack([tf.tile(tf.slice(\n",
    "                learning_rate_op, np.array([i]), np.array([1])), [dim])\n",
    "                                               for i in range(m*n)])\n",
    "            weightage_delta = tf.multiply(\n",
    "                learning_rate_multiplier,\n",
    "                tf.subtract(tf.stack([self._vect_input for i in range(m*n)]),\n",
    "                       self._weightage_vects)) \n",
    "            \n",
    "            '''Actualiza todos los pesos de las neuronas de acuerdo a los\n",
    "            parámetros calculados previamente'''                                        \n",
    "            new_weightages_op = tf.add(self._weightage_vects,\n",
    "                                       weightage_delta)\n",
    "            \n",
    "            '''Se guarda la ultima operacion realizada en la SOM, ya que\n",
    "            esta operacion sera la que se ejecute y a su vez ejecuta todas\n",
    "            las operaciones previar al llamar a sess.run()'''\n",
    "            self._training_op = tf.assign(self._weightage_vects,\n",
    "                                          new_weightages_op)                                       \n",
    " \n",
    "            '''En tensorflow todo debe ocurrir dentro de una sesion, es por\n",
    "            este motivo que se guarda la sesion'''\n",
    "            self._sess = tf.Session()\n",
    " \n",
    "            '''Forma en el tensorflow inicializa sus variables antes de ser\n",
    "            utilizadas'''\n",
    "\n",
    "            init_op = tf.global_variables_initializer()\n",
    "            # init_op = tf.initialize_all_variables()\n",
    "            self._sess.run(init_op)\n",
    "            \n",
    "            '''centroid_grid es un mapa de bits en el cual se guardan los\n",
    "            valores de las neuronas. Es de tamano m, por que para cada renglon\n",
    "            se tienen n neuronas y sus respectivos valores. '''\n",
    "            centroid_grid = [[] for i in range(self._m)]\n",
    "            self._weightages = list(self._sess.run(self._weightage_vects))\n",
    "            self._locations = list(self._sess.run(self._location_vects))\n",
    "    \n",
    "            '''Con este for, se accede a cada neurona por posicion y se guarda\n",
    "            en centroid_grid sus pesos. El resultado es un mapa de bits que puede\n",
    "            ser facilmente graficado por matplotlib. Es el mapa incial (SIN ENTRENAR)'''\n",
    "            for i, loc in enumerate(self._locations):\n",
    "                centroid_grid[loc[0]].append(self._weightages[i])\n",
    "            self._mapa_inicial = centroid_grid\n",
    " \n",
    "    def _neuron_locations(self, m, n):\n",
    "        '''Yield regresa un generador flojo, y hasta que es necesario\n",
    "        se evalua. Esto se hace para que no haya informacion no necesaria\n",
    "        en memoria. En el constructor el resultado de esta función se\n",
    "        mete en una lista para que sea accesible de inmediato'''\n",
    "        for i in range(m):\n",
    "            for j in range(n):\n",
    "                yield np.array([i, j])\n",
    " \n",
    "    def train(self, input_vects, debbug=False):\n",
    "        if not debbug:\n",
    "            #centroid_grid = [[] for i in range(self._m)]\n",
    "            '''Para cada iteracion (epoca) se realiza el entrenamiento'''\n",
    "            for iter_no in range(self._n_iterations):\n",
    "                actual = self._sess.run(tf.norm(self._weightage_vects))\n",
    "                #Se entrena con cada vector uno por uno\n",
    "                for input_vect in input_vects:\n",
    "                    self._sess.run(self._training_op,\n",
    "                                  feed_dict={self._vect_input: input_vect,\n",
    "                                              self._iter_input: iter_no})\n",
    "                siguiente = self._sess.run(tf.norm(self._weightage_vects))\n",
    "                '''Si la norma del mapa actual no varia mucho con respecto\n",
    "                al siguiente, se rompe el ciclo de las épocas'''\n",
    "                if abs(siguiente - actual) <= 0.000001:\n",
    "                    break\n",
    "            '''centroid_grid es un mapa de bits en el cual se guardan los\n",
    "                valores de las neuronas. Es de tamano m, por que para cada renglon\n",
    "                se tienen n neuronas y sus respectivos valores. '''\n",
    "            centroid_grid = [[] for i in range(self._m)]\n",
    "            self._weightages = list(self._sess.run(self._weightage_vects))\n",
    "            self._locations = list(self._sess.run(self._location_vects))\n",
    "            \n",
    "            '''Con este for, se accede a cada neurona por posicion y se guarda\n",
    "                en centroid_grid sus pesos. El resultado es un mapa de bits que puede\n",
    "                ser facilmente graficado por matplotlib. En este punto la red ya esta entrenada.'''\n",
    "            for i, loc in enumerate(self._locations):\n",
    "                centroid_grid[loc[0]].append(self._weightages[i])\n",
    "            self._centroid_grid = centroid_grid\n",
    "    \n",
    "            '''En este punto la red ya esta entrenada.'''\n",
    "            self._trained = True\n",
    "            '''Esta seccion muestra como se entrena el SOM y es basicamente el mismo\n",
    "            codigo de la seccion del if y al final solo se agrega la grafica del mapa.'''\n",
    "        else:\n",
    "            centroid_grid = [[] for i in range(self._m)]\n",
    "\n",
    "            for iter_no in range(self._n_iterations):\n",
    "                actual = self._sess.run(tf.norm(self._weightage_vects))\n",
    "                #Se entrena con cada vector uno por uno\n",
    "                for input_vect in input_vects:\n",
    "                    self._sess.run(self._training_op,\n",
    "                                  feed_dict={self._vect_input: input_vect,\n",
    "                                              self._iter_input: iter_no})\n",
    "                siguiente = self._sess.run(tf.norm(self._weightage_vects))\n",
    "\n",
    "                if abs(siguiente - actual) <= 0.000001:\n",
    "                    break\n",
    "                if iter_no % 10 == 0:    \n",
    "                    centroid_grid = [[] for i in range(self._m)]\n",
    "                    self._weightages = list(self._sess.run(self._weightage_vects))\n",
    "                    self._locations = list(self._sess.run(self._location_vects))\n",
    "                    \n",
    "                    for i, loc in enumerate(self._locations):\n",
    "                        centroid_grid[loc[0]].append(self._weightages[i])\n",
    "                    self._centroid_grid = centroid_grid\n",
    "\n",
    "                    red_entrenada = som.get_centroids()\n",
    "                    # SECCION PARA GRAFICAR\n",
    "                    bmu = self.map_vect(input_vect)\n",
    "                    plt.text(bmu[1], bmu[0], \"bmu\", ha='center', va='center',\n",
    "                        bbox=dict(facecolor='white', alpha=0.5, lw=0))\n",
    "                    plt.imshow(red_entrenada)\n",
    "                    plt.show()\n",
    "                    input(\"Continuar?\")\n",
    "    \n",
    "            '''En este punto la red ya esta entrenada.'''\n",
    "            self._trained = True\n",
    " \n",
    "    def get_centroids(self):\n",
    "        # Solo devuelve los centroides para que puendan ser graficados\n",
    "        #if not self._trained:\n",
    "            #raise ValueError(\"La red aun no ha sido entrenada\")\n",
    "        return self._centroid_grid\n",
    " \n",
    "    def map_vects(self, input_vects):\n",
    "        '''to_return es la lista que contiene las coordenadas (x,y) de la\n",
    "        neurona que mas se parece a cada una de las entradas de input_vects\n",
    "        en el mismo orden'''\n",
    " \n",
    "        if not self._trained:\n",
    "            raise ValueError(\"SOM not trained yet\")\n",
    " \n",
    "        to_return = []\n",
    "        for vect in input_vects:\n",
    "            min_index = min([i for i in range(len(self._weightages))],\n",
    "                            key=lambda x: np.linalg.norm(vect-\n",
    "                                                         self._weightages[x]))\n",
    "            to_return.append(self._locations[min_index])\n",
    " \n",
    "        return to_return\n",
    "    \n",
    "    def map_vect(self, vect):\n",
    "        '''\n",
    "        Mapea un solo vector y devuelve la clasificacion vista como\n",
    "        un indice relacionado a la coordenada (x,y) de la neurona\n",
    "        '''\n",
    "\n",
    "        min_index = min([i for i in range(len(self._weightages))],\n",
    "                        key=lambda x: np.linalg.norm(\n",
    "                            vect - self._weightages[x]))\n",
    "        pos2D = self._locations[min_index]\n",
    "        # polinomio de direccionamiento de la neurona\n",
    "        #return pos2D[0]*self._m + pos2D[1], pos2D\n",
    "        return (pos2D[1], pos2D[0])"
   ]
  },
  {
   "cell_type": "markdown",
   "metadata": {
    "id": "ZABpYxgBKIpq"
   },
   "source": [
    "### Métodos relevantes\n",
    "\n",
    "Todo el código escrito para la clase *SOM* tiene un objetivo en específico sin embargo para fines prácticos nos enfocaremos en un par de métodos que tienen relación directa con el concepto de norma."
   ]
  },
  {
   "cell_type": "markdown",
   "metadata": {
    "id": "TYXbD2XBKhTb"
   },
   "source": [
    "#### Método *train*\n",
    "\n",
    "Este método se encarga de realizar el ciclo de entrenamiento de la red neuronal, en este método se compara cada uno de los vectores de entrada contra todas las neuronas de la red.\n",
    "\n",
    "Una vez que se localiza la *BMU* se actualizan los pesos de las neuronas vecinas empleando la función de vecindad y la función de aprendizaje.\n",
    "\n",
    "El entrenamiento concluye una vez que han terminado las iteraciones o épocas, aunque también se concluye el entrenamiento si las redes en la iteración actual y en la siguiente no difieren demasiado y eso lo sabemos **calculando la norma a ambas redes**."
   ]
  },
  {
   "cell_type": "markdown",
   "metadata": {
    "id": "xHbfmowIXru0"
   },
   "source": [
    "#### Método *map_vect*\n",
    "\n",
    "Este método es el encargado de recibir un vector y devolvernos la neurona (en forma de coordenada dentro del mapa) cuya distancia (empleando la norma) sea la menor, eso significa que esa neurona es la más parecida al vector de entrada, en otras palabras obtenemos la clasificación del vector que le mostramos a la red.\n",
    "\n",
    "Si conocemos el nombre o identificador de la neurona que se parece al vector de entrada podemos asignarle esa clasificación al vector de entrada.\n",
    "\n",
    "En esta implementación se usan colores, de manera que al mostrar un color en forma de vector (*R, G, B*) esta red nos indica a que color se parece más un vector."
   ]
  },
  {
   "cell_type": "markdown",
   "metadata": {
    "id": "C_Ym3FtKRP1t"
   },
   "source": [
    "## Ejecución\n",
    "\n",
    "Se define una lista de colores en formato *RGB (red blue green)* para entrenar a la red neuronal. De igual manera se crea una lista con los nombres de los colores en la lista de colores.\n",
    "\n",
    "Se genera un objeto de tipo *SOM* con sus respectivos parámetros.\n",
    "\n",
    "Mostramos la red inicial con colores aleatorios.\n",
    "\n",
    "Se entrena la red de acuerdo a la descripción del algoritmo y a las restricciones del mismo.\n",
    "\n",
    "Posteriormente se muestra la red entrenada.\n",
    "\n",
    "Finalmente se le muestra un color en forma de vector a la red neuronal ya entrenada y esta devuelve un par de coordenadas, lo que en otras palabras significa que nos devuelve las coordenadas de la neurona que se parece más al color mostrado. Es decir, nos devuelve una clasificación del color mostrado."
   ]
  },
  {
   "cell_type": "code",
   "execution_count": 1,
   "metadata": {
    "colab": {
     "base_uri": "https://localhost:8080/",
     "height": 1000
    },
    "id": "oYjY41_oGwmq",
    "outputId": "78837539-9ce3-46b1-b841-bb1fe6ce8891"
   },
   "outputs": [
    {
     "ename": "NameError",
     "evalue": "name 'np' is not defined",
     "output_type": "error",
     "traceback": [
      "\u001b[0;31m---------------------------------------------------------------------------\u001b[0m",
      "\u001b[0;31mNameError\u001b[0m                                 Traceback (most recent call last)",
      "Cell \u001b[0;32mIn[1], line 3\u001b[0m\n\u001b[1;32m      1\u001b[0m \u001b[38;5;28;01mfrom\u001b[39;00m \u001b[38;5;21;01mmatplotlib\u001b[39;00m \u001b[38;5;28;01mimport\u001b[39;00m pyplot \u001b[38;5;28;01mas\u001b[39;00m plt\n\u001b[1;32m      2\u001b[0m \u001b[38;5;66;03m# Vectores de entrenamiento RGBcolors\u001b[39;00m\n\u001b[0;32m----> 3\u001b[0m colores \u001b[38;5;241m=\u001b[39m \u001b[43mnp\u001b[49m\u001b[38;5;241m.\u001b[39marray(\n\u001b[1;32m      4\u001b[0m      [[\u001b[38;5;241m0.\u001b[39m, \u001b[38;5;241m0.\u001b[39m, \u001b[38;5;241m0.\u001b[39m],\n\u001b[1;32m      5\u001b[0m       [\u001b[38;5;241m0.\u001b[39m, \u001b[38;5;241m0.\u001b[39m, \u001b[38;5;241m1.\u001b[39m],\n\u001b[1;32m      6\u001b[0m       [\u001b[38;5;241m0.\u001b[39m, \u001b[38;5;241m0.\u001b[39m, \u001b[38;5;241m0.5\u001b[39m],\n\u001b[1;32m      7\u001b[0m       [\u001b[38;5;241m0.125\u001b[39m, \u001b[38;5;241m0.529\u001b[39m, \u001b[38;5;241m1.0\u001b[39m],\n\u001b[1;32m      8\u001b[0m       [\u001b[38;5;241m0.33\u001b[39m, \u001b[38;5;241m0.4\u001b[39m, \u001b[38;5;241m0.67\u001b[39m],\n\u001b[1;32m      9\u001b[0m       [\u001b[38;5;241m0.6\u001b[39m, \u001b[38;5;241m0.5\u001b[39m, \u001b[38;5;241m1.0\u001b[39m],\n\u001b[1;32m     10\u001b[0m       [\u001b[38;5;241m0.\u001b[39m, \u001b[38;5;241m1.\u001b[39m, \u001b[38;5;241m0.\u001b[39m],\n\u001b[1;32m     11\u001b[0m       [\u001b[38;5;241m1.\u001b[39m, \u001b[38;5;241m0.\u001b[39m, \u001b[38;5;241m0.\u001b[39m],\n\u001b[1;32m     12\u001b[0m       [\u001b[38;5;241m0.\u001b[39m, \u001b[38;5;241m1.\u001b[39m, \u001b[38;5;241m1.\u001b[39m],\n\u001b[1;32m     13\u001b[0m       [\u001b[38;5;241m1.\u001b[39m, \u001b[38;5;241m0.\u001b[39m, \u001b[38;5;241m1.\u001b[39m],\n\u001b[1;32m     14\u001b[0m       [\u001b[38;5;241m1.\u001b[39m, \u001b[38;5;241m1.\u001b[39m, \u001b[38;5;241m0.\u001b[39m],\n\u001b[1;32m     15\u001b[0m       [\u001b[38;5;241m1.\u001b[39m, \u001b[38;5;241m1.\u001b[39m, \u001b[38;5;241m1.\u001b[39m],\n\u001b[1;32m     16\u001b[0m       [\u001b[38;5;241m.33\u001b[39m, \u001b[38;5;241m.33\u001b[39m, \u001b[38;5;241m.33\u001b[39m],\n\u001b[1;32m     17\u001b[0m       [\u001b[38;5;241m.5\u001b[39m, \u001b[38;5;241m.5\u001b[39m, \u001b[38;5;241m.5\u001b[39m],\n\u001b[1;32m     18\u001b[0m       [\u001b[38;5;241m.66\u001b[39m, \u001b[38;5;241m.66\u001b[39m, \u001b[38;5;241m.66\u001b[39m]])\n\u001b[1;32m     19\u001b[0m nombres_colores \u001b[38;5;241m=\u001b[39m \\\n\u001b[1;32m     20\u001b[0m     [\u001b[38;5;124m'\u001b[39m\u001b[38;5;124mnegro\u001b[39m\u001b[38;5;124m'\u001b[39m, \u001b[38;5;124m'\u001b[39m\u001b[38;5;124mazul\u001b[39m\u001b[38;5;124m'\u001b[39m, \u001b[38;5;124m'\u001b[39m\u001b[38;5;124mazul marino\u001b[39m\u001b[38;5;124m'\u001b[39m, \u001b[38;5;124m'\u001b[39m\u001b[38;5;124mazul cielo\u001b[39m\u001b[38;5;124m'\u001b[39m,\n\u001b[1;32m     21\u001b[0m      \u001b[38;5;124m'\u001b[39m\u001b[38;5;124mgris azulado\u001b[39m\u001b[38;5;124m'\u001b[39m, \u001b[38;5;124m'\u001b[39m\u001b[38;5;124mlila\u001b[39m\u001b[38;5;124m'\u001b[39m, \u001b[38;5;124m'\u001b[39m\u001b[38;5;124mverde\u001b[39m\u001b[38;5;124m'\u001b[39m, \u001b[38;5;124m'\u001b[39m\u001b[38;5;124mrojo\u001b[39m\u001b[38;5;124m'\u001b[39m,\n\u001b[1;32m     22\u001b[0m      \u001b[38;5;124m'\u001b[39m\u001b[38;5;124mcyan\u001b[39m\u001b[38;5;124m'\u001b[39m, \u001b[38;5;124m'\u001b[39m\u001b[38;5;124mvioleta\u001b[39m\u001b[38;5;124m'\u001b[39m, \u001b[38;5;124m'\u001b[39m\u001b[38;5;124mamarillo\u001b[39m\u001b[38;5;124m'\u001b[39m, \u001b[38;5;124m'\u001b[39m\u001b[38;5;124mblanco\u001b[39m\u001b[38;5;124m'\u001b[39m,\n\u001b[1;32m     23\u001b[0m      \u001b[38;5;124m'\u001b[39m\u001b[38;5;124mgris obscuro\u001b[39m\u001b[38;5;124m'\u001b[39m, \u001b[38;5;124m'\u001b[39m\u001b[38;5;124mgris medio\u001b[39m\u001b[38;5;124m'\u001b[39m, \u001b[38;5;124m'\u001b[39m\u001b[38;5;124mgris claro\u001b[39m\u001b[38;5;124m'\u001b[39m]\n\u001b[1;32m     25\u001b[0m \u001b[38;5;66;03m# Creamos un SOM de 20x30, cada entrada de la red\u001b[39;00m\n\u001b[1;32m     26\u001b[0m \u001b[38;5;66;03m# es un vector de tamano 3 (R,G,B) y se entrena 400 veces\u001b[39;00m\n",
      "\u001b[0;31mNameError\u001b[0m: name 'np' is not defined"
     ]
    }
   ],
   "source": [
    "from matplotlib import pyplot as plt\n",
    "# Vectores de entrenamiento RGBcolors\n",
    "colores = np.array(\n",
    "     [[0., 0., 0.],\n",
    "      [0., 0., 1.],\n",
    "      [0., 0., 0.5],\n",
    "      [0.125, 0.529, 1.0],\n",
    "      [0.33, 0.4, 0.67],\n",
    "      [0.6, 0.5, 1.0],\n",
    "      [0., 1., 0.],\n",
    "      [1., 0., 0.],\n",
    "      [0., 1., 1.],\n",
    "      [1., 0., 1.],\n",
    "      [1., 1., 0.],\n",
    "      [1., 1., 1.],\n",
    "      [.33, .33, .33],\n",
    "      [.5, .5, .5],\n",
    "      [.66, .66, .66]])\n",
    "nombres_colores = \\\n",
    "    ['negro', 'azul', 'azul marino', 'azul cielo',\n",
    "     'gris azulado', 'lila', 'verde', 'rojo',\n",
    "     'cyan', 'violeta', 'amarillo', 'blanco',\n",
    "     'gris obscuro', 'gris medio', 'gris claro']\n",
    " \n",
    "# Creamos un SOM de 20x30, cada entrada de la red\n",
    "# es un vector de tamano 3 (R,G,B) y se entrena 400 veces\n",
    "som = SOM(20, 30, 3, 100)\n",
    "\n",
    "# Se muestra el mapa inicial\n",
    "mapa_inicial = som._mapa_inicial\n",
    "plt.imshow(mapa_inicial)\n",
    "plt.title('Red Neuronal Inicial')\n",
    "plt.show()\n",
    "\n",
    "# Se entrena la red con un conjunto de colores\n",
    "som.train(colores, debbug=True)\n",
    " \n",
    "# Obtenemos el SOM ya entrenado\n",
    "red_entrenada = som.get_centroids()\n",
    " \n",
    "# Contiene la lista de coordenadas de los correspondientes colores\n",
    "mapped = som.map_vects(colores)\n",
    " \n",
    "# Grafica\n",
    "plt.imshow(red_entrenada)\n",
    "plt.title('Red Neuronal Entrenada')\n",
    "for i, m in enumerate(mapped):\n",
    "    plt.text(m[1], m[0], nombres_colores[i], ha='center', va='center',\n",
    "             bbox=dict(facecolor='white', alpha=0.5, lw=0))\n",
    "plt.show()\n",
    "\n",
    "# Se le muestra un color en forma de vector, en este caso azul cielo\n",
    "# para que indique a que neurona se parece mas\n",
    "print(\"El color azul cielo se encuentra en la neurona \"+str(som.map_vect([0.125, 0.529, 1.0])))\n"
   ]
  },
  {
   "cell_type": "markdown",
   "metadata": {
    "id": "7nKaftH_QgXy"
   },
   "source": [
    "### Mostrando más colores\n",
    "\n",
    "Una vez que la red (mapa) ya fue entrenada, es posible mostrarle cualquier color en forma de vector (*R,G,B*) y la red nos mostrará que clasificación le corresponde, por ejemplo."
   ]
  },
  {
   "cell_type": "code",
   "execution_count": 2,
   "metadata": {
    "colab": {
     "base_uri": "https://localhost:8080/"
    },
    "id": "MCR8gKF2Q70u",
    "outputId": "ce4e637b-3eb7-401d-bbfc-ead27653163f"
   },
   "outputs": [
    {
     "ename": "NameError",
     "evalue": "name 'som' is not defined",
     "output_type": "error",
     "traceback": [
      "\u001b[0;31m---------------------------------------------------------------------------\u001b[0m",
      "\u001b[0;31mNameError\u001b[0m                                 Traceback (most recent call last)",
      "Cell \u001b[0;32mIn[2], line 1\u001b[0m\n\u001b[0;32m----> 1\u001b[0m \u001b[38;5;28mprint\u001b[39m(\u001b[38;5;124m\"\u001b[39m\u001b[38;5;124mEl color amarillo se encuentra en la neurona \u001b[39m\u001b[38;5;124m\"\u001b[39m\u001b[38;5;241m+\u001b[39m\u001b[38;5;28mstr\u001b[39m(\u001b[43msom\u001b[49m\u001b[38;5;241m.\u001b[39mmap_vect([\u001b[38;5;241m1.\u001b[39m, \u001b[38;5;241m1.\u001b[39m, \u001b[38;5;241m0.\u001b[39m])))\n",
      "\u001b[0;31mNameError\u001b[0m: name 'som' is not defined"
     ]
    }
   ],
   "source": [
    "print(\"El color amarillo se encuentra en la neurona \"+str(som.map_vect([1., 1., 0.])))"
   ]
  },
  {
   "cell_type": "markdown",
   "metadata": {
    "id": "Jd-B7cS3caHl"
   },
   "source": [
    "## Extendiendo este modelo\n",
    "\n",
    "La implementación en este documento se realizó con colores, ya que facilitan la comprensión del funcionamiento del algoritmo en general.\n",
    "\n",
    "Sin embargo, esta red neuronal puede ser aplicada a cualquier espacio vectorial, en otras palabras, este algoritmo puede ser aplicado a cualquier objeto que podamos representar en forma de vector o matriz."
   ]
  },
  {
   "cell_type": "markdown",
   "metadata": {
    "id": "DOr5r_Zfdzg4"
   },
   "source": [
    "### Clasificación de Documentos o Imágenes\n",
    "\n",
    "Para clasificar documentos el algoritmo es exactamente el mismo, lo único que cambia es que tenemos que obtener un **vector característico** para los documentos que nos interes clasificar. Este vector característico se puede obtener de formas muy variadas y una de ellas es **contando la frecuencia de las palabras** que aparecen en dicho documento.\n",
    "\n",
    "Respecto a la clasificación de imágenes, una imagen finalmente es un **mapa de píxeles**, mismo que puede ser representado por un vector de vectores, es decir un **vector de colores**, lo que een sí ya un vector característico de dicha imagen."
   ]
  },
  {
   "cell_type": "markdown",
   "metadata": {
    "id": "bHnY039muTNs"
   },
   "source": [
    "# Otros algoritmos de clasificación\n",
    "\n",
    "*SOM* es solo uno de muchos algoritmos de clasificación, sin embargo existen otros algoritmos de clasificación como lo son los siguientes."
   ]
  },
  {
   "cell_type": "markdown",
   "metadata": {
    "id": "MJpDgQvBulFo"
   },
   "source": [
    "## K-medias\n",
    "\n",
    "El algoritmo K-medias es un **algoritmo de aprendizaje no supervisado** que agrupa los datos en K grupos distintos según su similitud. El algoritmo funciona de la siguiente manera:\n",
    "\n",
    "1. Se eligen K puntos al azar como centros iniciales de los grupos.\n",
    "2. Se asigna cada dato al grupo cuyo centro es el más cercano según una medida de distancia, como la distancia euclidiana.\n",
    "3. Se recalcula el centro de cada grupo como el promedio de los datos asignados a ese grupo.\n",
    "4. Se repiten los pasos 2 y 3 hasta que no haya cambios en las asignaciones o se alcance un número máximo de iteraciones.\n",
    "\n",
    "El algoritmo K-medias es simple y eficiente, pero tiene algunas limitaciones, como la sensibilidad a la elección inicial de los centros, la necesidad de especificar el número de grupos y la dificultad para manejar datos con formas irregulares o ruido."
   ]
  },
  {
   "cell_type": "code",
   "execution_count": 3,
   "metadata": {
    "colab": {
     "base_uri": "https://localhost:8080/",
     "height": 430
    },
    "id": "a4aJuwoZvmwH",
    "outputId": "458e6a03-1b00-42cd-c83d-e367ba39cdf3"
   },
   "outputs": [
    {
     "data": {
      "image/png": "[encoded data removed]",
      "text/plain": [
       "<Figure size 640x480 with 1 Axes>"
      ]
     },
     "metadata": {},
     "output_type": "display_data"
    }
   ],
   "source": [
    "%matplotlib inline\n",
    "import numpy as np\n",
    "import matplotlib.pyplot as plt\n",
    "\n",
    "# Se generan datos aleatorios en 3 grupos\n",
    "np.random.seed(5)\n",
    "\n",
    "x1 = np.random.standard_normal((100,2))*0.6+np.ones((100,2))\n",
    "x2 = np.random.standard_normal((100,2))*0.5-np.ones((100,2))\n",
    "x3 = np.random.standard_normal((100,2))*0.4-2*np.ones((100,2))+5\n",
    "X = np.concatenate((x1,x2,x3),axis=0)\n",
    "\n",
    "plt.plot(X[:,0],X[:,1],'k.')\n",
    "plt.show()"
   ]
  },
  {
   "cell_type": "markdown",
   "metadata": {
    "id": "Y6KTj79Ev5h2"
   },
   "source": [
    "Veamos como funciona este algoritmo"
   ]
  },
  {
   "cell_type": "code",
   "execution_count": 4,
   "metadata": {
    "colab": {
     "base_uri": "https://localhost:8080/",
     "height": 485
    },
    "id": "mfvoSOBOv7vz",
    "outputId": "5e2daef3-31c5-4710-a1a3-3d4d557a01f3"
   },
   "outputs": [
    {
     "data": {
      "image/png": "[encoded data removed]",
      "text/plain": [
       "<Figure size 640x480 with 1 Axes>"
      ]
     },
     "metadata": {},
     "output_type": "display_data"
    }
   ],
   "source": [
    "from sklearn.cluster import KMeans\n",
    "\n",
    "# Se agrupan los puntos con k-medias usando  k=3\n",
    "n = 3\n",
    "k_means = KMeans(n_clusters=n)\n",
    "k_means.fit(X)\n",
    "\n",
    "# Como resultado se obtienen 3 grupos y cada uno de los datos\n",
    "# pertenece a al menos uno de estos 3 grupos\n",
    "centroides = k_means.cluster_centers_\n",
    "etiquetas = k_means.labels_\n",
    "\n",
    "# Se grafican los datos y los clusters (grupos)\n",
    "plt.plot(X[etiquetas==0,0],X[etiquetas==0,1],'r.', label='cluster 1')\n",
    "plt.plot(X[etiquetas==1,0],X[etiquetas==1,1],'b.', label='cluster 2')\n",
    "plt.plot(X[etiquetas==2,0],X[etiquetas==2,1],'g.', label='cluster 3')\n",
    "\n",
    "plt.plot(centroides[:,0],centroides[:,1],'mo',markersize=8, label='centroides')\n",
    "\n",
    "plt.legend(loc='best')\n",
    "plt.show()"
   ]
  },
  {
   "cell_type": "markdown",
   "metadata": {
    "id": "G99w7oTJu42w"
   },
   "source": [
    "## k-NN\n",
    "\n",
    "El algoritmo KNN (K Nearest Neighbors) es un algoritmo de aprendizaje supervisado que se basa en la distancia entre los puntos de datos para clasificarlos o predecir su valor. El algoritmo recibe un conjunto de datos etiquetados con la clase o el valor de salida correspondiente, y luego utiliza una medida de distancia (como la euclidiana o la manhattan) para encontrar los k puntos más cercanos a un nuevo punto no etiquetado. La clase o el valor del nuevo punto se determina por el voto mayoritario o el promedio de sus k vecinos más cercanos, respectivamente. El algoritmo KNN es simple, fácil de implementar y eficaz para problemas con pocas dimensiones y clases, pero puede ser lento e ineficiente para conjuntos de datos grandes o con muchas características."
   ]
  },
  {
   "cell_type": "markdown",
   "metadata": {
    "id": "dAh_UjLcaKr7"
   },
   "source": [
    "# Referencias\n",
    "\n",
    "*   https://codesachin.wordpress.com/2015/11/28/self-organizing-maps-with-googles-tensorflow/\n",
    "*   http://www.saedsayad.com/clustering_som.htm\n",
    "*   https://www.tensorflow.org/install\n",
    "*   https://relopezbriega.github.io/blog/2016/06/05/tensorflow-y-redes-neuronales/\n",
    "* https://www.unioviedo.es/compnum/laboratorios_py/kmeans/kmeans.html\n",
    "\n"
   ]
  }
 ],
 "metadata": {
  "colab": {
   "include_colab_link": true,
   "name": "04_SOM_SCP.ipynb",
   "provenance": [],
   "toc_visible": true
  },
  "kernelspec": {
   "display_name": "Python 3 (ipykernel)",
   "language": "python",
   "name": "python3"
  },
  "language_info": {
   "codemirror_mode": {
    "name": "ipython",
    "version": 3
   },
   "file_extension": ".py",
   "mimetype": "text/x-python",
   "name": "python",
   "nbconvert_exporter": "python",
   "pygments_lexer": "ipython3",
   "version": "3.11.6"
  }
 },
 "nbformat": 4,
 "nbformat_minor": 4
}
