{
  "nbformat": 4,
  "nbformat_minor": 0,
  "metadata": {
    "colab": {
      "provenance": [],
      "include_colab_link": true
    },
    "kernelspec": {
      "name": "python3",
      "display_name": "Python 3"
    },
    "language_info": {
      "name": "python"
    }
  },
  "cells": [
    {
      "cell_type": "markdown",
      "metadata": {
        "id": "view-in-github",
        "colab_type": "text"
      },
      "source": [
        "<a href=\"https://colab.research.google.com/github/jugernaut/Induccion_MeIA/blob/angel/4_IntroduccionAA/02_RepresentacionDeDatos.ipynb\" target=\"_parent\"><img src=\"https://colab.research.google.com/assets/colab-badge.svg\" alt=\"Open In Colab\"/></a>"
      ]
    },
    {
      "cell_type": "markdown",
      "metadata": {
        "id": "3HIOuyhzps7A"
      },
      "source": [
        "# Representación de Datos\n",
        "\n",
        "Representación de Datos</a> by <span property=\"cc:attributionName\">Miguel Angel Pérez León</span> is licensed under <a href=\"http://creativecommons.org/licenses/by-nc-sa/4.0/?ref=chooser-v1\" target=\"_blank\" rel=\"license noopener noreferrer\" style=\"display:inline-block;\">CC BY-NC-SA 4.0<img style=\"height:22px!important;margin-left:3px;vertical-align:text-bottom;\" src=\"https://mirrors.creativecommons.org/presskit/icons/cc.svg?ref=chooser-v1\"><img style=\"height:22px!important;margin-left:3px;vertical-align:text-bottom;\" src=\"https://mirrors.creativecommons.org/presskit/icons/by.svg?ref=chooser-v1\"><img style=\"height:22px!important;margin-left:3px;vertical-align:text-bottom;\" src=\"https://mirrors.creativecommons.org/presskit/icons/nc.svg?ref=chooser-v1\"><img style=\"height:22px!important;margin-left:3px;vertical-align:text-bottom;\" src=\"https://mirrors.creativecommons.org/presskit/icons/sa.svg?ref=chooser-v1\"></a></p>"
      ]
    },
    {
      "cell_type": "markdown",
      "metadata": {
        "id": "ElKDaY9AqDnp"
      },
      "source": [
        "# Introducción\n",
        "\n",
        "Una de las aplicaciones más comúnes que se le da al aprendizaje automaizado, es la clasificación de documentos (facturas, demandas, notas, etc.) y para ellos es necesario encontrar una forma de \"mapear\" un documento de texto en \"algo\" que pueda ser procesado y clasificado por una red neuroal.\n",
        "\n",
        "Ese algo toma el nombre de **vector característico** y simplemente consiste en encontrar una forma de representar a cada elemento de este espacio multidimensional mediante un vector."
      ]
    },
    {
      "cell_type": "markdown",
      "metadata": {
        "id": "XRGwWQkOqKWG"
      },
      "source": [
        "## Plantemaniento del problema\n",
        "\n",
        "Supongamos que se tiene una empresa (caso real) que se dedica a la digitalización de documentos y como servicio agregado desea clasificar cada uno de los documentos que digitaliza.\n",
        "\n",
        "La idea es usar algún mecanismo de clasificación automatizada para poder llevar a cabo la labor."
      ]
    },
    {
      "cell_type": "markdown",
      "metadata": {
        "id": "pGoRyhoqqKR8"
      },
      "source": [
        "# Diccionario\n",
        "\n",
        "El primer paso consiste en identificar cada una de las palabras que puede aparecer en los documentos a clasificar (espacio vectorial), a este conjunto de palabras se le conoce como **diccionario**.\n",
        "\n",
        "Esta labora es relativamente sencilla de realizar gracias a una estructura de datos conocida como *tablas hash* y una de sus implementaciones en *python* se conoce como diccionarios y se representa mediante el símbolo \"{}\".\n",
        "\n",
        "A continuación se listan algunos características impor tantes de las *tablas hash\"."
      ]
    },
    {
      "cell_type": "markdown",
      "metadata": {
        "id": "FQpzxO_8qKOu"
      },
      "source": [
        "## Características\n",
        "\n",
        "La función *hash* depende en gran medida del **conjunto de llaves (dominio)** sobre el cual sera definida y también depende del **uso que se le vaya a dar** al la tabla *hash*.\n",
        "\n",
        "Sin embargo existen 3 propiedades que siempre debe cumplir una función *hash*:\n",
        "\n",
        "*   **Debe ser inyectiva** o dicho de otra manera, debe evitar colisiones en la medida de lo posible, es decir. Sea $f$ la función hash, $X$ el conjunto de llaves (dominio) y $Y$ el conjunto de valores (codominio). $$f:X\\rightarrow Y\\,\\,\\,\\,\\forall a,b\\in X\\,\\mid f(a)=f(b)\\Rightarrow a=b$$.\n",
        "*   **No debe involucrar demasiados cálculos**, ya que de otra manera las operaciones sobre la tabla hash incrementan su costo (recursos).\n",
        "*   **No debe ser posible su reconstrucción** tomando como base la salida de esta.\n"
      ]
    },
    {
      "cell_type": "markdown",
      "metadata": {
        "id": "Rvh4azTzqKJr"
      },
      "source": [
        "## Ejemplo función *hash*\n",
        "\n",
        "El siguiente ejemplo muestra una de muchas formas en como se puede definir la función *hash*, en este ejemplo a la función *hash* le vamos a decir \"polinomio de direccionamiento\" y se emplea de manera frecuente en las ciencias de la computación.\n",
        "\n",
        "Supongamos que contamos con la siguiente matriz.\n",
        "\n",
        "$$Sea\\,A\\in M_{2x2}=\\left(\\begin{array}{cc}\n",
        "3_{(0,0)} & 6_{(0,1)}\\\\\n",
        "7_{(1,0)} & 9_{(1,1)}\n",
        "\\end{array}\\right)$$\n",
        "\n",
        "Por razones de espacio en memoria, necesitamos almacenar los elementos de $A$ en un objeto lineal, digamos una lista. De tal manera que los elementos de $A$ se vean así.\n",
        "\n",
        "$$\\left[\\begin{array}{cccc}\n",
        "3_{0} & 6_{1} & 7_{2} & 9_{3}\\end{array}\\right]$$\n",
        "\n",
        "Dicho en otras palabras, **necesitamos mapear las tuplas que representan las posiciones de los valores de $A$ en posiciones dentro de la lista**.\n",
        "\n",
        "Para llevar a cabo este mapeo necesitamos una función *hash*, que en este caso dicha función debe tomar una tupla que representa la entrada de $A$ y debe devolver una localidad de la lista. Es decir.\n",
        "\n",
        "$$X=\\{(0,0),(0,1),(1,0),(1,1)\\},Y=\\{0,1,2,3\\},f:X\\rightarrow Y$$\n",
        "\n",
        "Nos gustaría que la entrada (0,0) de A fuera mapeada a la localidad 0 de la lista y así sucesivamente hasta llegar a que la entrada (1,1) se mapeara a la localidad 3 del arreglo, es decir\n",
        "\n",
        "\\begin{array}{cc}\n",
        "f((0,0))=0 & f((0,1))=1\\\\\n",
        "f((1,0))=2 & f((1,1))=3\n",
        "\\end{array}\n",
        "\n",
        "Podríamos pensar que una buena forma de definir a $f$, seria $f((x,y))=x+y$, pero veamos que sucede al probarla.\n",
        "\n",
        "\\begin{array}{c}\n",
        "f((0,0))=0+0=0.......\\color{green}{¡bien!}\\\\\n",
        "f((0,1))=0+1=1.......\\color{green}{¡bien!}\n",
        "\\end{array}\n",
        "\n",
        "\\begin{array}{c}\n",
        "f((1,0))=1+0=1.......\\color{red}{¡colisi\\acute{o}n!}\\\\\n",
        "f((0,1))=1=f((1,0))\n",
        "\\end{array}\n",
        "\n",
        "Dado que se tuvo una colisión, es necesario re-definirla de otra manera menos ingenua. Veamos que sucede si definimos a $f$ de la siguiente manera.\n",
        "\n",
        "$$f((x,y))=2x+y$$\n",
        "\n",
        "Al probarla, lo que obtenemos es.\\begin{array}{c}\n",
        "f((0,0))=2*0+0=0\\\\\n",
        "f((0,1))=2*0+1=1\\\\\n",
        "f((1,0))=2*1+0=2\\\\\n",
        "f((1,1))=2*1+1=3\n",
        "\\end{array}\n",
        "\n",
        "Esta función, no muestra colisiones (al menos en el dominio y codominio definidos), incluso se podría probar que no presentará colisiones para ningún par de tuplas de naturales. Ademas cumple con el resto de las propiedades."
      ]
    },
    {
      "cell_type": "markdown",
      "metadata": {
        "id": "4ebSFWQRqJ22"
      },
      "source": [
        "### Forma general del polinomio de direccionamiento\n",
        "\n",
        "Así que podemos pensar, que para el caso particular de matrices bidimensionales $A_{(i,j)}\\in M_{ren\\,x\\,col}$ podemos definir la función hash que mapea localidades de dicha matriz en una lista (arreglo) unidimensional de la siguiente forma.\n",
        "\n",
        "$$f((i,j))=col*i+j$$\n",
        "\n",
        "<center>\n",
        "<img src=\"https://github.com/jugernaut/ManejoDatos/blob/desarrollo/Imagenes/AlgoritmosBusqueda/poli.png?raw=1\" width=\"400\">\n",
        "</center>\n",
        "\n",
        "En la imagen podemos ver como se almacena una matriz en localidades de memoria en una computadora, los valores $\\{100, 101, ... , 105\\}$ representan las localidades de la memoria y los valores $\\{X[1,1],X[2,1],...,X[3,2]\\}$ representan los valores de la matriz $X$.\n"
      ]
    },
    {
      "cell_type": "markdown",
      "metadata": {
        "id": "tuZlv_y-qJw-"
      },
      "source": [
        "# Ventajas y desventajas de una tabla *hash*\n",
        "\n",
        "Ya que vimos como es que se construye y se utiliza una tabla de dispersión, vamos a analizar sus ventajas y desventajas:\n",
        "\n",
        "* La principal ventaja es que **el orden de complejidad para insertar, buscar o eliminar en una tabla *hash* es constante**, es decir $O(1)$.\n",
        "\n",
        "* Si la función *hash* fue definida siguiendo las características que se piden para este tipo de funciones, utilizar una tabla *hash* se vuelve un procedimiento muy **eficiente y seguro**.\n",
        "\n",
        "* La principal desventaja de una tabla *hash* es el hecho de que **ni las llaves, ni los valores están obligados a conservar un orden**, así que es difícil ordenar por algún criterio una tabla *hash*.\n",
        "\n",
        "* Otra desventaja es que **a veces es complicado evitar las colisiones**, así que se tiene que hacer uso de alguna técnica adicional para poder resolver las colisiones."
      ]
    },
    {
      "cell_type": "markdown",
      "metadata": {
        "id": "ZA5kaSJNqJqE"
      },
      "source": [
        "# Diccionarios en *Python*\n",
        "\n",
        "Los diccionarios de *Python*, son una de muchas formas de poner en práctica el concepto de tablas *hash*, son muy útiles y fáciles de usar.\n",
        "\n",
        "Además como ya vienen incluidos dentro de las paqueterias de *Python* no hace falta instalar, ni si quiera importar algun paquete para poder hacer uso de los diccionarios."
      ]
    },
    {
      "cell_type": "markdown",
      "metadata": {
        "id": "2Rbh3uLhqJiM"
      },
      "source": [
        "## Diccionarios\n",
        "\n",
        "Dado que las tablas *hash* son muy útiles, la gran mayoría de los lenguajes ya cuenta con alguna implementación de estas, sin embargo a veces es necesario revisar la documentación para poder hacer uso de estas implementaciones.\n",
        "\n",
        "Por el contrario, *Python* muy a su estilo (*Pythonic way*) cuenta con una implementación (de las muchas que existen) de las tablas *hash* conocida como **diccionarios**. Esta implementación es muy sencilla e intuitiva de utilizar.\n",
        "\n",
        "La idea detrás de los diccionarios de **Python** es básicamente la misma que la de las tablas *hash*, con la peculiaridad de que el usuario no esta obligado a definir la funcion *hash*.\n",
        "\n",
        "Es decir que es suficiente con proporcionar la llave y el valor asociado a esta y *Python* se encarga de relacionarlos."
      ]
    },
    {
      "cell_type": "markdown",
      "metadata": {
        "id": "SUGzOiL6qJaQ"
      },
      "source": [
        "## Sintaxis de los diccionarios\n",
        "\n",
        "Este tipo de estructuras se emplea principalmente en *data mining* o *big data*, pero no es su único uso, también se puede usar en áreas como *deep learning* o incluso en *natural language processing*. A continuación se muestra un ejemplo de como usar los diccionarios de *Python*.\n",
        "\n",
        "* `diccionario = {}`: instrucción para crear un diccionario vacío.\n",
        "\n",
        "* `diccionario['llave'] = valor`: insertamos una llave y un valor en caso de no existir ó se actualiza el valor asociado a la llave.\n",
        "\n",
        "* `print(diccionario)`: se imprime el diccionario.\n",
        "\n",
        "* `del(diccionario[llave])`: borra la llave y valor asociado a esta.\n",
        "\n",
        "* `diccionario.clear()`: borra todas las llaves y valores dentro del diccionario."
      ]
    },
    {
      "cell_type": "markdown",
      "metadata": {
        "id": "gFt6GN82iXx1"
      },
      "source": [
        "## Ejemplo diccionarios *Python*\n",
        "\n",
        "Para el siguiente ejemplo vamos a usar el archivo *ManejoDatos9180.txt* que hemos usado en ocasiones previas.\n",
        "\n",
        "La diferencia principal es que en esta ocasión vamos a usar diccionarios para almacenar los datos de los alumnos, en lugar de usar una clase para almacenar estos datos."
      ]
    },
    {
      "cell_type": "code",
      "metadata": {
        "id": "5mS23fksi108",
        "colab": {
          "base_uri": "https://localhost:8080/"
        },
        "outputId": "4b99e8b8-de4e-47c6-9560-6b62ea33fe1d"
      },
      "source": [
        "from pathlib import Path\n",
        "manejo = Path(\"ManejodeDatos9180.txt\")\n",
        "\n",
        "if not manejo.is_file():\n",
        "    !wget https://raw.githubusercontent.com/jugernaut/ManejoDatos/desarrollo/utils/ManejodeDatos9180.txt"
      ],
      "execution_count": 3,
      "outputs": [
        {
          "output_type": "stream",
          "name": "stdout",
          "text": [
            "--2025-05-30 20:05:13--  https://raw.githubusercontent.com/jugernaut/ManejoDatos/desarrollo/utils/ManejodeDatos9180.txt\n",
            "Resolving raw.githubusercontent.com (raw.githubusercontent.com)... 185.199.108.133, 185.199.109.133, 185.199.110.133, ...\n",
            "Connecting to raw.githubusercontent.com (raw.githubusercontent.com)|185.199.108.133|:443... connected.\n",
            "HTTP request sent, awaiting response... 200 OK\n",
            "Length: 3103 (3.0K) [text/plain]\n",
            "Saving to: ‘ManejodeDatos9180.txt’\n",
            "\n",
            "ManejodeDatos9180.t 100%[===================>]   3.03K  --.-KB/s    in 0s      \n",
            "\n",
            "2025-05-30 20:05:13 (27.8 MB/s) - ‘ManejodeDatos9180.txt’ saved [3103/3103]\n",
            "\n"
          ]
        }
      ]
    },
    {
      "cell_type": "markdown",
      "metadata": {
        "id": "tCcpuWwti2vC"
      },
      "source": [
        "Una vez que tenemos el archivo en la sesión de *Google Colab*, ahora necesitamos leerlo y usando *regex* vamos a capturar los datos de los alumnos en un diccionario y posteriormente mostramos el contenido de los diccionarios."
      ]
    },
    {
      "cell_type": "code",
      "metadata": {
        "id": "JbVooa3TjFQP",
        "colab": {
          "base_uri": "https://localhost:8080/"
        },
        "outputId": "0938618d-8f24-404e-c00d-4133b3c32c6f"
      },
      "source": [
        "import re\n",
        "# se abre el archivo\n",
        "archivo = open(\"ManejodeDatos9180.txt\")\n",
        "# patron para el nombre\n",
        "apellido1 = \"\\d+\\s+[áéíóúA-Za-zñÑ]+\"\n",
        "# patron para telefono\n",
        "telefono = \"\\d+-\\d*-\\d*-*\\d*\"\n",
        "\n",
        "# eliminamos la prime linea del archivo\n",
        "archivo.readline()\n",
        "\n",
        "# creamos una lista vacia donde guardaremos los diccionarios\n",
        "alumnos = []\n",
        "\n",
        "# leemos cada una de las lineas y usando un determinado patron\n",
        "# se capturan numbre completo, carrera, correo y telefono\n",
        "for linea in archivo:\n",
        "  alumnos.append({\"nombre\":re.findall(apellido1, linea), \"telefono\":re.findall(telefono, linea)})\n",
        "\n",
        "# imprimimos cada uno de los diccionarios que representa a cada alumno\n",
        "for alumno in alumnos:\n",
        "  print(alumno)"
      ],
      "execution_count": null,
      "outputs": [
        {
          "output_type": "stream",
          "name": "stdout",
          "text": [
            "{'nombre': ['1\\tAlemán'], 'telefono': ['44-635-28-288']}\n",
            "{'nombre': ['2\\tAmador'], 'telefono': ['55-640-83-871']}\n",
            "{'nombre': ['3\\tAmaro'], 'telefono': ['55-4977-6159']}\n",
            "{'nombre': ['4\\tCabrera'], 'telefono': ['55-477-61-948']}\n",
            "{'nombre': ['5\\tCazares'], 'telefono': ['55-539-42-382']}\n",
            "{'nombre': ['6\\tContreras'], 'telefono': ['55-399-75-350']}\n",
            "{'nombre': ['7\\tDorantes'], 'telefono': ['55-128-98-209']}\n",
            "{'nombre': ['8\\tDurán'], 'telefono': ['333-72-554-55']}\n",
            "{'nombre': ['9\\tEnríquez'], 'telefono': ['55-782-67-957']}\n",
            "{'nombre': ['10\\tFlores'], 'telefono': ['55-665-72-227']}\n",
            "{'nombre': ['11\\tGarcés'], 'telefono': ['55-244-10-361']}\n",
            "{'nombre': ['12\\tGarcía'], 'telefono': ['46-928-422-65']}\n",
            "{'nombre': ['13\\tGarcía'], 'telefono': ['55-580-24-293']}\n",
            "{'nombre': ['14\\tGómez'], 'telefono': ['55-789-33-403']}\n",
            "{'nombre': ['15\\tGónzalez'], 'telefono': ['55-907-91-129']}\n",
            "{'nombre': ['16\\tGuevara'], 'telefono': ['55-121-67-977']}\n",
            "{'nombre': ['17\\tGúzman'], 'telefono': ['55-970-28-624']}\n",
            "{'nombre': ['18\\tHérnandez'], 'telefono': ['55-161-68-809']}\n",
            "{'nombre': ['19\\tJuárez'], 'telefono': ['55-497-22-370']}\n",
            "{'nombre': ['20\\tLerdo'], 'telefono': ['55-7190-3848']}\n",
            "{'nombre': ['21\\tNuñez'], 'telefono': ['5554-72-20-63']}\n",
            "{'nombre': ['22\\tNúñez'], 'telefono': ['55-660-99-872']}\n",
            "{'nombre': ['23\\tPérez'], 'telefono': ['55-376-26-789']}\n",
            "{'nombre': ['24\\tRamírez'], 'telefono': ['55-812-56-695']}\n",
            "{'nombre': ['25\\tReséndiz'], 'telefono': ['55-583-43-525']}\n",
            "{'nombre': ['26\\tRivera'], 'telefono': ['55-489-59-362']}\n",
            "{'nombre': ['27\\tRodríguez'], 'telefono': ['888-314-46-780']}\n",
            "{'nombre': ['28\\tRodríguez'], 'telefono': ['55-931-23-412']}\n",
            "{'nombre': ['29\\tRodríguez'], 'telefono': ['55-366-59-591']}\n",
            "{'nombre': ['30\\tSalas'], 'telefono': ['55-276-13-206']}\n",
            "{'nombre': ['31\\tSalinas'], 'telefono': ['55-626-14-760']}\n",
            "{'nombre': ['32\\tSánchez'], 'telefono': ['55-461-15-303']}\n",
            "{'nombre': ['33\\tSánchez'], 'telefono': ['77-174-67-488']}\n",
            "{'nombre': ['34\\tTéllez'], 'telefono': ['55-93680-510']}\n",
            "{'nombre': ['35\\tVásquez'], 'telefono': ['55-687-34366']}\n",
            "{'nombre': ['36\\tZamarripa'], 'telefono': ['55-458-69-357']}\n"
          ]
        }
      ]
    },
    {
      "cell_type": "markdown",
      "source": [
        "# Vector Característico\n",
        "\n",
        "Supongamos que uno de los documentos que necesitamos clasificar de manera automática es el documento \"inteligencia.txt\".\n",
        "\n",
        "Para poder clasificarlo de manera tradicional (a mano) una forma de hacerlo es, leer palabra por palabra y contar la **frecuencia** de cada una de estas palabras. Probablemente para un par de documentos sea algo asequible procesarlos de esta forma pero para miles de documentos, estos se vuelve una tarea imposible.\n",
        "\n",
        "Lo ideal es usar los diccionarios de *pthon* y dejar que ellos se encarguen."
      ],
      "metadata": {
        "id": "AfbNdN54Nz3x"
      }
    },
    {
      "cell_type": "markdown",
      "metadata": {
        "id": "_n6-EsdTb3zI"
      },
      "source": [
        "## Contador de palabras\n",
        "\n",
        "En esta ocasión vamos a usar los diccionarios de *Python* para contar la frecuencia de las palabras en un determinado texto.\n",
        "\n",
        "Para tal fin vamos a agregar descarar el texto del cual queremos contar la aparición de las palabras.\n",
        "\n"
      ]
    },
    {
      "cell_type": "code",
      "metadata": {
        "id": "vZ8Uy7fPcF9A",
        "outputId": "303f6bbd-23c5-4563-94db-ea474a7b6f9b",
        "colab": {
          "base_uri": "https://localhost:8080/"
        }
      },
      "source": [
        "texto = Path(\"inteligencia.txt\")\n",
        "\n",
        "if not texto.is_file():\n",
        "    !wget https://raw.githubusercontent.com/jugernaut/ManejoDatos/desarrollo/utils/inteligencia.txt"
      ],
      "execution_count": 4,
      "outputs": [
        {
          "output_type": "stream",
          "name": "stdout",
          "text": [
            "--2025-05-30 20:05:55--  https://raw.githubusercontent.com/jugernaut/ManejoDatos/desarrollo/utils/inteligencia.txt\n",
            "Resolving raw.githubusercontent.com (raw.githubusercontent.com)... 185.199.110.133, 185.199.109.133, 185.199.111.133, ...\n",
            "Connecting to raw.githubusercontent.com (raw.githubusercontent.com)|185.199.110.133|:443... connected.\n",
            "HTTP request sent, awaiting response... 200 OK\n",
            "Length: 3439 (3.4K) [text/plain]\n",
            "Saving to: ‘inteligencia.txt’\n",
            "\n",
            "\rinteligencia.txt      0%[                    ]       0  --.-KB/s               \rinteligencia.txt    100%[===================>]   3.36K  --.-KB/s    in 0s      \n",
            "\n",
            "2025-05-30 20:05:55 (43.0 MB/s) - ‘inteligencia.txt’ saved [3439/3439]\n",
            "\n"
          ]
        }
      ]
    },
    {
      "cell_type": "markdown",
      "metadata": {
        "id": "BlwqaYwScayd"
      },
      "source": [
        "Ya con el texto en la sesión de lo siguiente es utilizar los diccionarios de *Python* para usar las palabras dentro del texto como llaves y la aparición de las palabras en el texto como valores."
      ]
    },
    {
      "cell_type": "code",
      "metadata": {
        "id": "vzjDRv9Hc3pS",
        "outputId": "7357d398-6c3e-41ba-e9b8-740db109c4cd",
        "colab": {
          "base_uri": "https://localhost:8080/"
        }
      },
      "source": [
        "# bibliotecas utilizadas\n",
        "import re\n",
        "from collections import Counter\n",
        "\n",
        "def data_mining(ruta):\n",
        "  #abrimos el archivo a leer\n",
        "  archivo = open(ruta)\n",
        "\n",
        "  # se gudarda en una variable el resultado de leer el archivo\n",
        "  cadenota = archivo.read()\n",
        "\n",
        "  # generamos una lista con las palabaras utilizando el espacio en blanco\n",
        "  # como patron delimitador para obtener cada una de las palabras\n",
        "  lista_palabras = re.split('\\s+', cadenota)\n",
        "\n",
        "  # se crea un diccionario para contar la frecuencia de las palabras\n",
        "  diccionario = {}\n",
        "\n",
        "  # contamos la frecuencia de cada palabra\n",
        "  for palabra in lista_palabras:\n",
        "    # cada palabra es agregada al diccionario, si ya se tiene tal llave se suma 1\n",
        "    # en caso de no existir dicha palabra se devuelve cero. En cualquier caso\n",
        "    # se suma uno por cada vez que aparezca dicha palabra\n",
        "    diccionario[palabra] = diccionario.get(palabra, 0) + 1\n",
        "\n",
        "  # antes de procesar la cadenota deberia pasar un proceso de limpieza en el\n",
        "  # cual mediante regex se eliminaran palabras muy frecuentes como articulos\n",
        "  print(diccionario)\n",
        "\n",
        "  # usando el paquete collections podemos ordenar el diccionario, a pesar\n",
        "  # de que no es una cualidad de los diccionaros\n",
        "  contador = Counter(diccionario)\n",
        "  diccionarioOrdenado = contador.most_common()\n",
        "\n",
        "  # Se imprime el diccionario ordenado para saber facilmente de que trato el\n",
        "  # el texto de la cadenota\n",
        "  print(diccionarioOrdenado)\n",
        "\n",
        "if __name__ == \"__main__\":\n",
        "  # ruta donde se ubica el texto a analiza\n",
        "  data_mining(\"inteligencia.txt\")"
      ],
      "execution_count": null,
      "outputs": [
        {
          "output_type": "stream",
          "name": "stdout",
          "text": [
            "{'Ahora': 1, 'que': 17, 'ya': 1, 'conoce': 1, 'la': 14, 'definición': 1, 'de': 51, 'IA': 2, 'y': 12, 'más': 2, 'su': 4, 'historia,': 1, 'mejor': 1, 'forma': 1, 'profundizar': 1, 'en': 15, 'el': 9, 'tema': 1, 'es': 5, 'conocer': 1, 'las': 5, 'principales': 1, 'técnicas': 1, 'IA,': 1, 'específicamente,': 1, 'los': 10, 'casos': 2, 'Inteligencia': 1, 'artificial': 1, 'se': 9, 'utiliza': 2, 'para': 6, 'negocios.': 1, 'Aprendizaje': 10, 'automático': 6, 'Generalmente,': 1, 'concepto': 3, 'confunde': 1, 'con': 3, '“IA': 1, 'débil”.': 1, 'Es': 3, 'este': 1, 'campo': 1, 'donde': 1, 'avances': 1, 'importantes': 1, 'están': 2, 'llevando': 1, 'a': 4, 'cabo.': 1, 'En': 1, 'términos': 1, 'prácticos,': 1, '“el': 1, 'ciencia': 1, 'encarga': 1, 'hacer': 2, 'computadoras': 1, 'realicen': 1, 'acciones': 1, 'sin': 1, 'necesidad': 1, 'programación': 1, 'explícita”.': 1, 'La': 3, 'idea': 2, 'principal': 2, 'aquí': 1, 'les': 1, 'puede': 2, 'proporcionar': 1, 'datos': 3, 'algoritmos': 4, 'luego': 1, 'usarlos': 1, 'saber': 1, 'cómo': 1, 'predicciones': 1, 'o': 3, 'guiar': 1, 'decisiones.': 1, 'Algunos': 2, 'ejemplos': 2, 'incluyen': 1, 'siguientes:': 2, 'diagramas': 1, 'decisiones,': 1, 'agrupamiento,': 1, 'genéticos,': 1, 'redes': 2, 'Bayesianas': 1, 'profundo.': 1, 'profundo': 2, '¿Recuerda': 1, 'cuando': 1, 'Google': 1, 'anunció': 1, 'un': 10, 'algoritmo': 1, 'encontraba': 1, 'videos': 1, 'gatos': 1, 'Youtube?': 1, '(Si': 1, 'desea': 1, 'refrescar': 1, 'memoria': 1, 'haga': 1, 'clic': 1, 'aquí).': 1, 'Pues': 1, 'bien,': 1, 'esto': 1, 'profundo,': 1, 'una': 4, 'técnica': 1, 'neuronales': 1, '(el': 1, 'neuronas': 1, 'pueden': 1, 'simular': 1, 'mediante': 1, 'unidades': 1, 'computacionales)': 1, 'realizar': 1, 'tareas': 1, 'clasificación': 1, '(piense': 1, 'clasificar': 1, 'imagen': 1, 'gato,': 1, 'perro': 1, 'personas,': 1, 'por': 1, 'ejemplo).': 1, 'aplicaciones': 1, 'prácticas': 1, 'del': 2, 'son': 2, 'identificación': 2, 'vehículos,': 1, 'peatones': 1, 'placas': 1, 'matrícula': 1, 'vehículos': 1, 'autónomos,': 1, 'reconocimiento': 1, 'imagen,': 1, 'traducción': 1, 'procesamiento': 1, 'lenguaje': 1, 'natural.': 1, 'Descubrimiento': 1, 'inteligentes': 2, 'próximo': 1, 'paso': 1, 'soluciones': 1, 'IE': 2, '(Inteligencia': 1, 'empresarial).': 1, 'consiste': 1, 'permitir': 1, 'automatización': 1, 'total': 1, 'ciclo': 1, 'IE:': 1, 'incorporación': 1, 'preparación': 1, 'datos,': 1, 'análisis': 2, 'predictivo': 4, 'patrones': 1, 'hipótesis.': 1, 'Este': 1, 'ejemplo': 1, 'interesante': 1, 'recuperación': 1, 'acción.': 1, 'información': 1, 'ninguna': 1, 'herramienta': 1, 'había': 1, 'descubierto.': 1, 'Análisis': 1, 'Piense': 1, 'ese': 1, 'momento': 1, 'está': 1, 'contratando': 1, 'seguro': 1, 'auto': 1, 'agente': 1, 'le': 1, 'hace': 1, 'serie': 1, 'preguntas': 3, 'Estas': 1, 'relacionadas': 1, 'variables': 2, 'influyen': 1, 'riesgo.': 1, 'Detrás': 1, 'estas': 1, 'encuentra': 1, 'modelo': 2, 'informa': 1, 'sobre': 1, 'probabilidad': 3, 'ocurra': 1, 'accidente': 1, 'base': 1, 'edad,': 2, 'código': 2, 'postal,': 2, 'género,': 1, 'marca': 1, 'auto,': 1, 'etc.': 1, 'mismo': 1, 'principio': 1, 'emplea': 1, 'modelos': 5, 'predictivos': 1, 'crédito': 1, 'identificar': 1, 'buenos': 1, 'malos': 1, 'pagadores.': 1, 'Por': 1, 'lo': 1, 'tanto,': 1, '(o': 1, 'modelado)': 1, 'significa': 1, 'utilizar': 1, 'número': 2, '(ingresos,': 1, 'etc.)': 1, 'combinadas': 1, 'resultados': 1, '(por': 2, 'ejemplo,': 2, 'buen': 1, 'mal': 1, 'pagador)': 1, 'generar': 1, 'proporcione': 1, 'puntuación': 1, '(un': 1, 'entre': 2, '0': 1, '1)': 1, 'representa': 1, 'evento': 1, 'pago,': 1, 'migración': 2, 'clientes,': 2, 'accidente,': 1, 'etc.).': 1, 'Los': 1, 'uso': 1, 'negocios': 1, 'amplios:': 1, 'crédito,': 1, 'segmentación': 1, 'clientes': 1, '(agrupamiento),': 1, 'compra': 1, 'otros.': 1, '': 1}\n",
            "[('de', 51), ('que', 17), ('en', 15), ('la', 14), ('y', 12), ('los', 10), ('Aprendizaje', 10), ('un', 10), ('el', 9), ('se', 9), ('para', 6), ('automático', 6), ('es', 5), ('las', 5), ('modelos', 5), ('su', 4), ('a', 4), ('algoritmos', 4), ('una', 4), ('predictivo', 4), ('concepto', 3), ('con', 3), ('Es', 3), ('La', 3), ('datos', 3), ('o', 3), ('preguntas', 3), ('probabilidad', 3), ('IA', 2), ('más', 2), ('casos', 2), ('utiliza', 2), ('están', 2), ('hacer', 2), ('idea', 2), ('principal', 2), ('puede', 2), ('Algunos', 2), ('ejemplos', 2), ('siguientes:', 2), ('redes', 2), ('profundo', 2), ('del', 2), ('son', 2), ('identificación', 2), ('inteligentes', 2), ('IE', 2), ('análisis', 2), ('variables', 2), ('modelo', 2), ('edad,', 2), ('código', 2), ('postal,', 2), ('número', 2), ('(por', 2), ('ejemplo,', 2), ('entre', 2), ('migración', 2), ('clientes,', 2), ('Ahora', 1), ('ya', 1), ('conoce', 1), ('definición', 1), ('historia,', 1), ('mejor', 1), ('forma', 1), ('profundizar', 1), ('tema', 1), ('conocer', 1), ('principales', 1), ('técnicas', 1), ('IA,', 1), ('específicamente,', 1), ('Inteligencia', 1), ('artificial', 1), ('negocios.', 1), ('Generalmente,', 1), ('confunde', 1), ('“IA', 1), ('débil”.', 1), ('este', 1), ('campo', 1), ('donde', 1), ('avances', 1), ('importantes', 1), ('llevando', 1), ('cabo.', 1), ('En', 1), ('términos', 1), ('prácticos,', 1), ('“el', 1), ('ciencia', 1), ('encarga', 1), ('computadoras', 1), ('realicen', 1), ('acciones', 1), ('sin', 1), ('necesidad', 1), ('programación', 1), ('explícita”.', 1), ('aquí', 1), ('les', 1), ('proporcionar', 1), ('luego', 1), ('usarlos', 1), ('saber', 1), ('cómo', 1), ('predicciones', 1), ('guiar', 1), ('decisiones.', 1), ('incluyen', 1), ('diagramas', 1), ('decisiones,', 1), ('agrupamiento,', 1), ('genéticos,', 1), ('Bayesianas', 1), ('profundo.', 1), ('¿Recuerda', 1), ('cuando', 1), ('Google', 1), ('anunció', 1), ('algoritmo', 1), ('encontraba', 1), ('videos', 1), ('gatos', 1), ('Youtube?', 1), ('(Si', 1), ('desea', 1), ('refrescar', 1), ('memoria', 1), ('haga', 1), ('clic', 1), ('aquí).', 1), ('Pues', 1), ('bien,', 1), ('esto', 1), ('profundo,', 1), ('técnica', 1), ('neuronales', 1), ('(el', 1), ('neuronas', 1), ('pueden', 1), ('simular', 1), ('mediante', 1), ('unidades', 1), ('computacionales)', 1), ('realizar', 1), ('tareas', 1), ('clasificación', 1), ('(piense', 1), ('clasificar', 1), ('imagen', 1), ('gato,', 1), ('perro', 1), ('personas,', 1), ('por', 1), ('ejemplo).', 1), ('aplicaciones', 1), ('prácticas', 1), ('vehículos,', 1), ('peatones', 1), ('placas', 1), ('matrícula', 1), ('vehículos', 1), ('autónomos,', 1), ('reconocimiento', 1), ('imagen,', 1), ('traducción', 1), ('procesamiento', 1), ('lenguaje', 1), ('natural.', 1), ('Descubrimiento', 1), ('próximo', 1), ('paso', 1), ('soluciones', 1), ('(Inteligencia', 1), ('empresarial).', 1), ('consiste', 1), ('permitir', 1), ('automatización', 1), ('total', 1), ('ciclo', 1), ('IE:', 1), ('incorporación', 1), ('preparación', 1), ('datos,', 1), ('patrones', 1), ('hipótesis.', 1), ('Este', 1), ('ejemplo', 1), ('interesante', 1), ('recuperación', 1), ('acción.', 1), ('información', 1), ('ninguna', 1), ('herramienta', 1), ('había', 1), ('descubierto.', 1), ('Análisis', 1), ('Piense', 1), ('ese', 1), ('momento', 1), ('está', 1), ('contratando', 1), ('seguro', 1), ('auto', 1), ('agente', 1), ('le', 1), ('hace', 1), ('serie', 1), ('Estas', 1), ('relacionadas', 1), ('influyen', 1), ('riesgo.', 1), ('Detrás', 1), ('estas', 1), ('encuentra', 1), ('informa', 1), ('sobre', 1), ('ocurra', 1), ('accidente', 1), ('base', 1), ('género,', 1), ('marca', 1), ('auto,', 1), ('etc.', 1), ('mismo', 1), ('principio', 1), ('emplea', 1), ('predictivos', 1), ('crédito', 1), ('identificar', 1), ('buenos', 1), ('malos', 1), ('pagadores.', 1), ('Por', 1), ('lo', 1), ('tanto,', 1), ('(o', 1), ('modelado)', 1), ('significa', 1), ('utilizar', 1), ('(ingresos,', 1), ('etc.)', 1), ('combinadas', 1), ('resultados', 1), ('buen', 1), ('mal', 1), ('pagador)', 1), ('generar', 1), ('proporcione', 1), ('puntuación', 1), ('(un', 1), ('0', 1), ('1)', 1), ('representa', 1), ('evento', 1), ('pago,', 1), ('accidente,', 1), ('etc.).', 1), ('Los', 1), ('uso', 1), ('negocios', 1), ('amplios:', 1), ('crédito,', 1), ('segmentación', 1), ('clientes', 1), ('(agrupamiento),', 1), ('compra', 1), ('otros.', 1), ('', 1)]\n"
          ]
        }
      ]
    },
    {
      "cell_type": "markdown",
      "metadata": {
        "id": "MMOa0DdUdoyA"
      },
      "source": [
        "La primera lista representa el diccionario con el siguiente formato *'palabra':frecuencia* y la segunda lista, es el diccionario en forma de tuplas pero ya ordenadas de por frecuencia en orden decreciente.\n",
        "\n",
        "De tal manera que podemos apreciar que la palabra que más aparece en el texto *inteligencia.txt* (descontando artículos, pronombres y preposiciones) es **Aprendizaje**.\n",
        "\n",
        "Dependiendo de como haya sido definido el diccionario global, esta lista sería el **vector caractistico** de este documento, es decir es un vector que lo representa y mediante el cual puede ser procesado por un *SOM*(igual que los colores) como se vio en la presentación pasada."
      ]
    },
    {
      "cell_type": "markdown",
      "metadata": {
        "id": "mE-_tFNJfwkZ"
      },
      "source": [
        "## Ley de Zipf\n",
        "\n",
        "La ley de Zipf es una ley empírica que describe la relación entre la frecuencia y el rango de las palabras en un texto o en un idioma. Según esta ley, la frecuencia de una palabra es inversamente proporcional a su rango, es decir, la palabra más usada tiene una frecuencia dos veces mayor que la segunda más usada, tres veces mayor que la tercera más usada, y así sucesivamente. Esta ley se cumple en la mayoría de las lenguas naturales y artificiales, y también se aplica a otros fenómenos sociales y matemáticos ."
      ]
    },
    {
      "cell_type": "markdown",
      "source": [
        "# Preprocesamiento de datos\n",
        "\n",
        "Siempre es muy útil \"eliminar el ruido\" que pueda haber en los datos a procesar. Con los documentos diitalizados, eso significa eliminar las palabras que no sean legibles y para las imagenes eso significa eliminar los pixeles que no puedan ser identificados.\n",
        "\n",
        "El preprocesamiento puede ser de diferentes formas, en el caso de las imágenes eso significa pasarlas a escala de grises para que puedan ser procesadas de mejor manera."
      ],
      "metadata": {
        "id": "qmstd-_3Q7D6"
      }
    },
    {
      "cell_type": "markdown",
      "metadata": {
        "id": "HzT2Ru3rqGhW"
      },
      "source": [
        "# Referencias\n",
        "\n",
        "*  Thomas H. Cormen: Introduction to Algorithms.\n",
        "* Libro Web: Introduccion a Python.\n",
        "* Daniel T. Joyce: Object-Oriented Data Structures.\n",
        "* John C. Mitchell: Concepts in programing Languages."
      ]
    }
  ]
}