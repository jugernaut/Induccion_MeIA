{
 "cells": [
  {
   "cell_type": "markdown",
   "id": "07a9ce4b-93a5-4dee-8ebe-cce66f7647fb",
   "metadata": {},
   "source": [
    "<a href=\"https://colab.research.google.com/github/jugernaut/Induccion_MeIA/blob/angel/4_IntroduccionAA/04_RegresionLineal.ipynb\" target=\"_parent\"><img src=\"https://colab.research.google.com/assets/colab-badge.svg\" alt=\"Open In Colab\"/></a>"
   ]
  },
  {
   "cell_type": "markdown",
   "id": "a208dee5-6b62-49b0-be10-833031908622",
   "metadata": {},
   "source": [
    "# Métodos de clasificación\n",
    "\n",
    "Verónica E. Arriola  \n",
    "[Licencia CC BY-NC 4.0](https://creativecommons.org/licenses/by-nc/4.0/)"
   ]
  },
  {
   "cell_type": "markdown",
   "id": "583c50ed-eb6e-4bd2-86c3-da4247fb80ae",
   "metadata": {},
   "source": [
    "## Árboles de decisión\n",
    "\n",
    "[Decision Trees](https://scikit-learn.org/stable/modules/tree.html)"
   ]
  },
  {
   "cell_type": "markdown",
   "id": "a67883b7-b105-4ce1-ab56-93aedd94918c",
   "metadata": {},
   "source": [
    "<div class=\"alert alert-success\">\n",
    "    La complejidad al utilizar el árbol para realizar una predicción es <b>logarítimica</b> en el número de datos utilizados para entrenar el árbol.\n",
    "</div>"
   ]
  },
  {
   "cell_type": "code",
   "execution_count": 1,
   "id": "84224bc5-7514-4f73-84ca-a49ffbacc897",
   "metadata": {
    "tags": []
   },
   "outputs": [],
   "source": [
    "import numpy as np\n",
    "from scipy.stats import entropy\n",
    "import pandas as pd\n",
    "from matplotlib import pyplot as plt\n",
    "\n",
    "from sklearn.model_selection import train_test_split\n",
    "from sklearn.datasets import load_iris\n",
    "\n",
    "# Sólo para variables continuas, aún no soporta categorías\n",
    "from sklearn.tree import DecisionTreeClassifier\n",
    "from sklearn import tree\n",
    "\n",
    "from ipywidgets import interact, interactive, fixed\n",
    "import ipywidgets as widgets\n",
    "from IPython.display import display"
   ]
  },
  {
   "cell_type": "markdown",
   "id": "889fecc5-5035-4317-8886-df6edeb77770",
   "metadata": {},
   "source": [
    "## ID3\n",
    "\n",
    "El agoritmo ID3 crea árboles con variables **categóricas** eligiendo preguntar primero por el atributo que produce la mayor **ganancia** de información, pues reduce más la **entropía** del conjunto tras haberlo subdivido con esta categoría.\n",
    "\n",
    "Tom Mitchell, _\"Machine Learning\"_, McGrawHill."
   ]
  },
  {
   "cell_type": "code",
   "execution_count": 2,
   "id": "afeb2629-d981-4c40-adbd-4d987889644a",
   "metadata": {
    "tags": []
   },
   "outputs": [
    {
     "data": {
      "text/html": [
       "<div>\n",
       "<style scoped>\n",
       "    .dataframe tbody tr th:only-of-type {\n",
       "        vertical-align: middle;\n",
       "    }\n",
       "\n",
       "    .dataframe tbody tr th {\n",
       "        vertical-align: top;\n",
       "    }\n",
       "\n",
       "    .dataframe thead th {\n",
       "        text-align: right;\n",
       "    }\n",
       "</style>\n",
       "<table border=\"1\" class=\"dataframe\">\n",
       "  <thead>\n",
       "    <tr style=\"text-align: right;\">\n",
       "      <th></th>\n",
       "      <th>Clima</th>\n",
       "      <th>Temperatura</th>\n",
       "      <th>Humedad</th>\n",
       "      <th>Viento</th>\n",
       "      <th>¿Jugar tenis?</th>\n",
       "    </tr>\n",
       "  </thead>\n",
       "  <tbody>\n",
       "    <tr>\n",
       "      <th>0</th>\n",
       "      <td>Soleado</td>\n",
       "      <td>Cálido</td>\n",
       "      <td>Alta</td>\n",
       "      <td>Débil</td>\n",
       "      <td>0</td>\n",
       "    </tr>\n",
       "    <tr>\n",
       "      <th>1</th>\n",
       "      <td>Soleado</td>\n",
       "      <td>Cálido</td>\n",
       "      <td>Alta</td>\n",
       "      <td>Fuerte</td>\n",
       "      <td>0</td>\n",
       "    </tr>\n",
       "    <tr>\n",
       "      <th>2</th>\n",
       "      <td>Nublado</td>\n",
       "      <td>Cálido</td>\n",
       "      <td>Alta</td>\n",
       "      <td>Débil</td>\n",
       "      <td>1</td>\n",
       "    </tr>\n",
       "    <tr>\n",
       "      <th>3</th>\n",
       "      <td>Lluvioso</td>\n",
       "      <td>Templado</td>\n",
       "      <td>Alta</td>\n",
       "      <td>Débil</td>\n",
       "      <td>1</td>\n",
       "    </tr>\n",
       "    <tr>\n",
       "      <th>4</th>\n",
       "      <td>Lluvioso</td>\n",
       "      <td>Frío</td>\n",
       "      <td>Normal</td>\n",
       "      <td>Débil</td>\n",
       "      <td>1</td>\n",
       "    </tr>\n",
       "    <tr>\n",
       "      <th>5</th>\n",
       "      <td>Lluvioso</td>\n",
       "      <td>Frío</td>\n",
       "      <td>Normal</td>\n",
       "      <td>Fuerte</td>\n",
       "      <td>0</td>\n",
       "    </tr>\n",
       "    <tr>\n",
       "      <th>6</th>\n",
       "      <td>Nublado</td>\n",
       "      <td>Frío</td>\n",
       "      <td>Normal</td>\n",
       "      <td>Fuerte</td>\n",
       "      <td>1</td>\n",
       "    </tr>\n",
       "    <tr>\n",
       "      <th>7</th>\n",
       "      <td>Soleado</td>\n",
       "      <td>Templado</td>\n",
       "      <td>Alta</td>\n",
       "      <td>Débil</td>\n",
       "      <td>0</td>\n",
       "    </tr>\n",
       "    <tr>\n",
       "      <th>8</th>\n",
       "      <td>Soleado</td>\n",
       "      <td>Frío</td>\n",
       "      <td>Normal</td>\n",
       "      <td>Débil</td>\n",
       "      <td>1</td>\n",
       "    </tr>\n",
       "    <tr>\n",
       "      <th>9</th>\n",
       "      <td>Lluvioso</td>\n",
       "      <td>Templado</td>\n",
       "      <td>Normal</td>\n",
       "      <td>Débil</td>\n",
       "      <td>1</td>\n",
       "    </tr>\n",
       "    <tr>\n",
       "      <th>10</th>\n",
       "      <td>Soleado</td>\n",
       "      <td>Templado</td>\n",
       "      <td>Normal</td>\n",
       "      <td>Fuerte</td>\n",
       "      <td>1</td>\n",
       "    </tr>\n",
       "    <tr>\n",
       "      <th>11</th>\n",
       "      <td>Nublado</td>\n",
       "      <td>Templado</td>\n",
       "      <td>Alta</td>\n",
       "      <td>Fuerte</td>\n",
       "      <td>1</td>\n",
       "    </tr>\n",
       "    <tr>\n",
       "      <th>12</th>\n",
       "      <td>Nublado</td>\n",
       "      <td>Cálido</td>\n",
       "      <td>Normal</td>\n",
       "      <td>Débil</td>\n",
       "      <td>1</td>\n",
       "    </tr>\n",
       "    <tr>\n",
       "      <th>13</th>\n",
       "      <td>Lluvioso</td>\n",
       "      <td>Templado</td>\n",
       "      <td>Alta</td>\n",
       "      <td>Fuerte</td>\n",
       "      <td>0</td>\n",
       "    </tr>\n",
       "  </tbody>\n",
       "</table>\n",
       "</div>"
      ],
      "text/plain": [
       "       Clima Temperatura Humedad  Viento  ¿Jugar tenis?\n",
       "0    Soleado      Cálido    Alta   Débil              0\n",
       "1    Soleado      Cálido    Alta  Fuerte              0\n",
       "2    Nublado      Cálido    Alta   Débil              1\n",
       "3   Lluvioso    Templado    Alta   Débil              1\n",
       "4   Lluvioso        Frío  Normal   Débil              1\n",
       "5   Lluvioso        Frío  Normal  Fuerte              0\n",
       "6    Nublado        Frío  Normal  Fuerte              1\n",
       "7    Soleado    Templado    Alta   Débil              0\n",
       "8    Soleado        Frío  Normal   Débil              1\n",
       "9   Lluvioso    Templado  Normal   Débil              1\n",
       "10   Soleado    Templado  Normal  Fuerte              1\n",
       "11   Nublado    Templado    Alta  Fuerte              1\n",
       "12   Nublado      Cálido  Normal   Débil              1\n",
       "13  Lluvioso    Templado    Alta  Fuerte              0"
      ]
     },
     "execution_count": 2,
     "metadata": {},
     "output_type": "execute_result"
    }
   ],
   "source": [
    "# Implementación del ejemplo descrito por Tom Mitchell.\n",
    "\n",
    "data = [['Soleado', 'Cálido', 'Alta', 'Débil', 0],\n",
    "        ['Soleado', 'Cálido', 'Alta', 'Fuerte', 0],\n",
    "        ['Nublado', 'Cálido', 'Alta', 'Débil', 1],\n",
    "        ['Lluvioso', 'Templado', 'Alta', 'Débil', 1],\n",
    "        ['Lluvioso', 'Frío', 'Normal', 'Débil', 1],\n",
    "        ['Lluvioso', 'Frío', 'Normal', 'Fuerte', 0],\n",
    "        ['Nublado', 'Frío', 'Normal', 'Fuerte', 1],\n",
    "        ['Soleado', 'Templado', 'Alta', 'Débil', 0],\n",
    "        ['Soleado', 'Frío', 'Normal', 'Débil', 1],\n",
    "        ['Lluvioso', 'Templado', 'Normal', 'Débil', 1],\n",
    "        ['Soleado', 'Templado', 'Normal', 'Fuerte', 1],\n",
    "        ['Nublado', 'Templado', 'Alta', 'Fuerte', 1],\n",
    "        ['Nublado', 'Cálido', 'Normal', 'Débil', 1],\n",
    "        ['Lluvioso', 'Templado', 'Alta', 'Fuerte', 0],\n",
    "       ]\n",
    "df = pd.DataFrame(data, columns=['Clima', 'Temperatura', 'Humedad', 'Viento', '¿Jugar tenis?'])\n",
    "df"
   ]
  },
  {
   "cell_type": "markdown",
   "id": "ff948a96-02ea-4a3a-8f2e-921958033f44",
   "metadata": {},
   "source": [
    "### Entropía"
   ]
  },
  {
   "cell_type": "code",
   "execution_count": 3,
   "id": "7cd2582d-354d-4432-bd8c-257bd8b7ab48",
   "metadata": {
    "tags": []
   },
   "outputs": [],
   "source": [
    "def entropía(df, nombre_característica):\n",
    "    \"\"\"\n",
    "    Calcula la entropía de la característica discreta indicada en el dataFrame.\n",
    "    \"\"\"\n",
    "    col = df[nombre_característica]\n",
    "    \n",
    "    elems_por_clase = col.value_counts().values\n",
    "    elems_por_clase = elems_por_clase[elems_por_clase != 0] # Evitamos 0*log2(0)\n",
    "    total = elems_por_clase.sum()\n",
    "    \n",
    "    pk = elems_por_clase / total  # Ejemplares por clase\n",
    "    \n",
    "    return -np.sum(pk * np.log2(pk))"
   ]
  },
  {
   "cell_type": "code",
   "execution_count": 4,
   "id": "0003c9e7-29a4-488b-83b3-795ad204dee1",
   "metadata": {
    "tags": []
   },
   "outputs": [
    {
     "data": {
      "text/plain": [
       "np.float64(0.9402859586706311)"
      ]
     },
     "execution_count": 4,
     "metadata": {},
     "output_type": "execute_result"
    }
   ],
   "source": [
    "# Entropía inicial del conjunto\n",
    "entropía(df, '¿Jugar tenis?')"
   ]
  },
  {
   "cell_type": "markdown",
   "id": "5500927a-3f43-4e6e-8295-74ec8751cd71",
   "metadata": {},
   "source": [
    "### Árbol de decisión"
   ]
  },
  {
   "cell_type": "code",
   "execution_count": 5,
   "id": "f96f898c-ee3a-4d4d-b878-38c2e16167bd",
   "metadata": {
    "tags": []
   },
   "outputs": [
    {
     "name": "stdout",
     "output_type": "stream",
     "text": [
      "Raíz : entropía:  0.9402859586706311\n",
      "\n",
      "Clima\n",
      "Lluvioso\n",
      "   Temperatura Humedad  Viento  ¿Jugar tenis?\n",
      "3     Templado    Alta   Débil              1\n",
      "4         Frío  Normal   Débil              1\n",
      "5         Frío  Normal  Fuerte              0\n",
      "9     Templado  Normal   Débil              1\n",
      "13    Templado    Alta  Fuerte              0\n",
      "Lluvioso : entropía:  0.9709505944546686\n",
      "\n",
      "Viento\n",
      "Débil\n",
      "  Temperatura Humedad  ¿Jugar tenis?\n",
      "3    Templado    Alta              1\n",
      "4        Frío  Normal              1\n",
      "9    Templado  Normal              1\n",
      "Débil : entropía:  -0.0\n",
      "\n",
      "Fuerte\n",
      "   Temperatura Humedad  ¿Jugar tenis?\n",
      "5         Frío  Normal              0\n",
      "13    Templado    Alta              0\n",
      "Fuerte : entropía:  -0.0\n",
      "\n",
      "Nublado\n",
      "   Temperatura Humedad  Viento  ¿Jugar tenis?\n",
      "2       Cálido    Alta   Débil              1\n",
      "6         Frío  Normal  Fuerte              1\n",
      "11    Templado    Alta  Fuerte              1\n",
      "12      Cálido  Normal   Débil              1\n",
      "Nublado : entropía:  -0.0\n",
      "\n",
      "Soleado\n",
      "   Temperatura Humedad  Viento  ¿Jugar tenis?\n",
      "0       Cálido    Alta   Débil              0\n",
      "1       Cálido    Alta  Fuerte              0\n",
      "7     Templado    Alta   Débil              0\n",
      "8         Frío  Normal   Débil              1\n",
      "10    Templado  Normal  Fuerte              1\n",
      "Soleado : entropía:  0.9709505944546686\n",
      "\n",
      "Humedad\n",
      "Alta\n",
      "  Temperatura  Viento  ¿Jugar tenis?\n",
      "0      Cálido   Débil              0\n",
      "1      Cálido  Fuerte              0\n",
      "7    Templado   Débil              0\n",
      "Alta : entropía:  -0.0\n",
      "\n",
      "Normal\n",
      "   Temperatura  Viento  ¿Jugar tenis?\n",
      "8         Frío   Débil              1\n",
      "10    Templado  Fuerte              1\n",
      "Normal : entropía:  -0.0\n",
      "\n"
     ]
    }
   ],
   "source": [
    "class Nodo:\n",
    "    def __init__(self, nombre, df, col_objetivo_y):\n",
    "        \"\"\"\n",
    "        df: DataFrame con los datos asignados a este nodo\n",
    "        \"\"\"\n",
    "        self._nombre = nombre\n",
    "        self._df = df\n",
    "        self._col_objetivo = col_objetivo_y\n",
    "        \n",
    "        self._entropía = entropía(df, col_objetivo_y)\n",
    "        print(self._nombre, \": entropía: \", self._entropía)\n",
    "        print()\n",
    "        \n",
    "        # Condición estricta\n",
    "        if self._entropía > 0.0001:\n",
    "            self._genera_hijos()\n",
    "            self._es_hoja = False\n",
    "        else:\n",
    "            self._es_hoja = True\n",
    "            \n",
    "    def _genera_hijos(self):\n",
    "        # Probar a cada característica para dividir el conjunto de datos\n",
    "        candidatos = {}\n",
    "        for h in list(self._df.columns):\n",
    "            if h == self._col_objetivo:\n",
    "                continue\n",
    "            candidatos[h] = self._divide(h)\n",
    "        #print(candidatos)\n",
    "        #print()\n",
    "        #for car, (ganancia, hijos) in candidatos.items():\n",
    "        #    print(car, ganancia)\n",
    "            \n",
    "        # Obtener la característica con mayor ganancia\n",
    "        car, (ganancia, hijos) = max(candidatos.items(), key = lambda tupla: tupla[1][0])\n",
    "        self._pregunta = car\n",
    "        self._ganancia = ganancia\n",
    "        self._hijos = {}\n",
    "        \n",
    "        print(car)\n",
    "        for dict in hijos:\n",
    "            valor = dict['valor']\n",
    "            data = dict['data']\n",
    "            print(valor)\n",
    "            print(data)\n",
    "            self._hijos[valor] = Nodo(valor, data, self._col_objetivo)\n",
    "\n",
    "    def _divide(self, característica):\n",
    "        \"\"\"\n",
    "        Divide el DataFrame según los valores de la característica\n",
    "        indicada, devuelve la ganancia y los nodos resultantes.\n",
    "        \"\"\"\n",
    "        grp = self._df.groupby(característica)\n",
    "        lista_hijos = []\n",
    "        entropía_hijos = 0\n",
    "        cuenta = len(self._df)\n",
    "        for valor, data in grp:\n",
    "            data = data.drop(columns=característica)\n",
    "            d = {}\n",
    "            d['valor'] = valor\n",
    "            d['data'] = data\n",
    "            entropía_hijo = entropía(data, self._col_objetivo)\n",
    "            cuenta_hijo = len(data)\n",
    "            entropía_hijos += (cuenta_hijo * entropía_hijo) / cuenta\n",
    "            lista_hijos.append(d)\n",
    "        \n",
    "        ganancia = self.entropía - entropía_hijos\n",
    "        return (ganancia, lista_hijos)\n",
    "        \n",
    "    \n",
    "    @property\n",
    "    def entropía(self):\n",
    "        return self._entropía\n",
    "        \n",
    "class Árbol:\n",
    "    def ajústate(self, df, col_objetivo_y):\n",
    "        \"\"\"\n",
    "        df: DataFrame con los datos a analizar\n",
    "        col_objetivo_y: Nombre de la columna con el concepto a aprender\n",
    "        \"\"\"\n",
    "        self._df = df\n",
    "        self._col_objetivo = col_objetivo_y\n",
    "        self.raíz = Nodo('Raíz', df, col_objetivo_y)\n",
    "\n",
    "árbol = Árbol()\n",
    "árbol.ajústate(df, '¿Jugar tenis?')"
   ]
  },
  {
   "cell_type": "markdown",
   "id": "f1946e5c-eea9-43a0-8f21-25c6121b6486",
   "metadata": {
    "tags": []
   },
   "source": [
    "## CART\n",
    "\n",
    "Permite que los atributos de entrada sean categóricos o continuos. [Decision Trees, scikit](https://scikit-learn.org/stable/modules/tree.html#tree-algorithms-id3-c4-5-c5-0-and-cart).  La implementación de scikit por el momento sólo cubre variables continuas."
   ]
  },
  {
   "cell_type": "markdown",
   "id": "1aa89c91-39d7-4064-a52d-58776bbc1d83",
   "metadata": {
    "tags": []
   },
   "source": [
    "### Datos\n",
    "\n",
    "Clasificación de flores Iris."
   ]
  },
  {
   "cell_type": "code",
   "execution_count": 6,
   "id": "70b21636-53d3-4e40-a39b-dc236f10a6ce",
   "metadata": {
    "tags": []
   },
   "outputs": [],
   "source": [
    "# Datos\n",
    "\n",
    "iris = load_iris()\n",
    "X = iris.data\n",
    "y = iris.target\n",
    "\n",
    "# Entrenamiento, validación y prueba\n",
    "X_train, X_temp, y_train, y_temp = train_test_split(X, y, train_size=0.7, random_state=0)\n",
    "X_val, X_test, y_val, y_test = train_test_split(X_temp, y_temp, train_size=0.6, random_state=0)"
   ]
  },
  {
   "cell_type": "code",
   "execution_count": 7,
   "id": "f083cdc2-1990-41ec-a3c0-e8c9b0b9a5f6",
   "metadata": {
    "tags": []
   },
   "outputs": [
    {
     "name": "stdout",
     "output_type": "stream",
     "text": [
      ".. _iris_dataset:\n",
      "\n",
      "Iris plants dataset\n",
      "--------------------\n",
      "\n",
      "**Data Set Characteristics:**\n",
      "\n",
      ":Number of Instances: 150 (50 in each of three classes)\n",
      ":Number of Attributes: 4 numeric, predictive attributes and the class\n",
      ":Attribute Information:\n",
      "    - sepal length in cm\n",
      "    - sepal width in cm\n",
      "    - petal length in cm\n",
      "    - petal width in cm\n",
      "    - class:\n",
      "            - Iris-Setosa\n",
      "            - Iris-Versicolour\n",
      "            - Iris-Virginica\n",
      "\n",
      ":Summary Statistics:\n",
      "\n",
      "============== ==== ==== ======= ===== ====================\n",
      "                Min  Max   Mean    SD   Class Correlation\n",
      "============== ==== ==== ======= ===== ====================\n",
      "sepal length:   4.3  7.9   5.84   0.83    0.7826\n",
      "sepal width:    2.0  4.4   3.05   0.43   -0.4194\n",
      "petal length:   1.0  6.9   3.76   1.76    0.9490  (high!)\n",
      "petal width:    0.1  2.5   1.20   0.76    0.9565  (high!)\n",
      "============== ==== ==== ======= ===== ====================\n",
      "\n",
      ":Missing Attribute Values: None\n",
      ":Class Distribution: 33.3% for each of 3 classes.\n",
      ":Creator: R.A. Fisher\n",
      ":Donor: Michael Marshall (MARSHALL%PLU@io.arc.nasa.gov)\n",
      ":Date: July, 1988\n",
      "\n",
      "The famous Iris database, first used by Sir R.A. Fisher. The dataset is taken\n",
      "from Fisher's paper. Note that it's the same as in R, but not as in the UCI\n",
      "Machine Learning Repository, which has two wrong data points.\n",
      "\n",
      "This is perhaps the best known database to be found in the\n",
      "pattern recognition literature.  Fisher's paper is a classic in the field and\n",
      "is referenced frequently to this day.  (See Duda & Hart, for example.)  The\n",
      "data set contains 3 classes of 50 instances each, where each class refers to a\n",
      "type of iris plant.  One class is linearly separable from the other 2; the\n",
      "latter are NOT linearly separable from each other.\n",
      "\n",
      ".. dropdown:: References\n",
      "\n",
      "  - Fisher, R.A. \"The use of multiple measurements in taxonomic problems\"\n",
      "    Annual Eugenics, 7, Part II, 179-188 (1936); also in \"Contributions to\n",
      "    Mathematical Statistics\" (John Wiley, NY, 1950).\n",
      "  - Duda, R.O., & Hart, P.E. (1973) Pattern Classification and Scene Analysis.\n",
      "    (Q327.D83) John Wiley & Sons.  ISBN 0-471-22361-1.  See page 218.\n",
      "  - Dasarathy, B.V. (1980) \"Nosing Around the Neighborhood: A New System\n",
      "    Structure and Classification Rule for Recognition in Partially Exposed\n",
      "    Environments\".  IEEE Transactions on Pattern Analysis and Machine\n",
      "    Intelligence, Vol. PAMI-2, No. 1, 67-71.\n",
      "  - Gates, G.W. (1972) \"The Reduced Nearest Neighbor Rule\".  IEEE Transactions\n",
      "    on Information Theory, May 1972, 431-433.\n",
      "  - See also: 1988 MLC Proceedings, 54-64.  Cheeseman et al\"s AUTOCLASS II\n",
      "    conceptual clustering system finds 3 classes in the data.\n",
      "  - Many, many more ...\n",
      "\n"
     ]
    }
   ],
   "source": [
    "print(iris['DESCR'])"
   ]
  },
  {
   "cell_type": "code",
   "execution_count": 8,
   "id": "986d39c1-697e-4d34-963e-8322716467fe",
   "metadata": {
    "tags": []
   },
   "outputs": [
    {
     "name": "stdout",
     "output_type": "stream",
     "text": [
      "Características:  ['sepal length (cm)', 'sepal width (cm)', 'petal length (cm)', 'petal width (cm)']\n",
      "                  ['        0        ', '        1        ', '        2        ', '        3        ']\n",
      "Clases:           ['setosa' 'versicolor' 'virginica']\n"
     ]
    }
   ],
   "source": [
    "print(\"Características: \", iris.feature_names)\n",
    "print(\"                 \", [\"        \" + str(i) + \"        \"  for i in range(len(iris.feature_names))])\n",
    "print(\"Clases:          \", iris.target_names)"
   ]
  },
  {
   "cell_type": "markdown",
   "id": "906ebb2d-b23b-44a2-b821-547fc5d3aec6",
   "metadata": {},
   "source": [
    "### Espacio de hipótesis"
   ]
  },
  {
   "cell_type": "markdown",
   "id": "0002f6a3-9d09-4042-87e2-23561fd2992c",
   "metadata": {},
   "source": [
    "A partir del ejemplo [Understanding the decision tree structure](https://scikit-learn.org/stable/auto_examples/tree/plot_unveil_tree_structure.html#sphx-glr-auto-examples-tree-plot-unveil-tree-structure-py) podemos visualizar fácilmente el resultado de aplicar CART a nuestro conjunto de datos."
   ]
  },
  {
   "cell_type": "code",
   "execution_count": 9,
   "id": "84dc7e2f-a89e-477c-8f37-e90f147c6966",
   "metadata": {
    "tags": []
   },
   "outputs": [
    {
     "data": {
      "application/vnd.jupyter.widget-view+json": {
       "model_id": "f7ecd58b33d24b3c818065fb7d81466c",
       "version_major": 2,
       "version_minor": 0
      },
      "text/plain": [
       "interactive(children=(IntSlider(value=3, description='max_num_hojas', max=10, min=2), Output()), _dom_classes=…"
      ]
     },
     "metadata": {},
     "output_type": "display_data"
    }
   ],
   "source": [
    "clf = None\n",
    "@interact(max_num_hojas = widgets.IntSlider(min=2, max=10, value=3))\n",
    "def árboles_para_iris(max_num_hojas):\n",
    "    global clf\n",
    "    clf = DecisionTreeClassifier(max_leaf_nodes=max_num_hojas, random_state=0)\n",
    "    clf.fit(X_train, y_train)\n",
    "    tree.plot_tree(clf,\n",
    "                   feature_names=iris.feature_names,\n",
    "                   class_names=iris.target_names,\n",
    "                   rounded=True, filled=True, # Añade color dependiendo de la clase\n",
    "                  )\n",
    "    plt.show()"
   ]
  },
  {
   "cell_type": "code",
   "execution_count": 10,
   "id": "749ca78a-916c-4855-b2ed-adbe1b80055f",
   "metadata": {
    "tags": []
   },
   "outputs": [
    {
     "data": {
      "text/html": [
       "<style>#sk-container-id-1 {\n",
       "  /* Definition of color scheme common for light and dark mode */\n",
       "  --sklearn-color-text: #000;\n",
       "  --sklearn-color-text-muted: #666;\n",
       "  --sklearn-color-line: gray;\n",
       "  /* Definition of color scheme for unfitted estimators */\n",
       "  --sklearn-color-unfitted-level-0: #fff5e6;\n",
       "  --sklearn-color-unfitted-level-1: #f6e4d2;\n",
       "  --sklearn-color-unfitted-level-2: #ffe0b3;\n",
       "  --sklearn-color-unfitted-level-3: chocolate;\n",
       "  /* Definition of color scheme for fitted estimators */\n",
       "  --sklearn-color-fitted-level-0: #f0f8ff;\n",
       "  --sklearn-color-fitted-level-1: #d4ebff;\n",
       "  --sklearn-color-fitted-level-2: #b3dbfd;\n",
       "  --sklearn-color-fitted-level-3: cornflowerblue;\n",
       "\n",
       "  /* Specific color for light theme */\n",
       "  --sklearn-color-text-on-default-background: var(--sg-text-color, var(--theme-code-foreground, var(--jp-content-font-color1, black)));\n",
       "  --sklearn-color-background: var(--sg-background-color, var(--theme-background, var(--jp-layout-color0, white)));\n",
       "  --sklearn-color-border-box: var(--sg-text-color, var(--theme-code-foreground, var(--jp-content-font-color1, black)));\n",
       "  --sklearn-color-icon: #696969;\n",
       "\n",
       "  @media (prefers-color-scheme: dark) {\n",
       "    /* Redefinition of color scheme for dark theme */\n",
       "    --sklearn-color-text-on-default-background: var(--sg-text-color, var(--theme-code-foreground, var(--jp-content-font-color1, white)));\n",
       "    --sklearn-color-background: var(--sg-background-color, var(--theme-background, var(--jp-layout-color0, #111)));\n",
       "    --sklearn-color-border-box: var(--sg-text-color, var(--theme-code-foreground, var(--jp-content-font-color1, white)));\n",
       "    --sklearn-color-icon: #878787;\n",
       "  }\n",
       "}\n",
       "\n",
       "#sk-container-id-1 {\n",
       "  color: var(--sklearn-color-text);\n",
       "}\n",
       "\n",
       "#sk-container-id-1 pre {\n",
       "  padding: 0;\n",
       "}\n",
       "\n",
       "#sk-container-id-1 input.sk-hidden--visually {\n",
       "  border: 0;\n",
       "  clip: rect(1px 1px 1px 1px);\n",
       "  clip: rect(1px, 1px, 1px, 1px);\n",
       "  height: 1px;\n",
       "  margin: -1px;\n",
       "  overflow: hidden;\n",
       "  padding: 0;\n",
       "  position: absolute;\n",
       "  width: 1px;\n",
       "}\n",
       "\n",
       "#sk-container-id-1 div.sk-dashed-wrapped {\n",
       "  border: 1px dashed var(--sklearn-color-line);\n",
       "  margin: 0 0.4em 0.5em 0.4em;\n",
       "  box-sizing: border-box;\n",
       "  padding-bottom: 0.4em;\n",
       "  background-color: var(--sklearn-color-background);\n",
       "}\n",
       "\n",
       "#sk-container-id-1 div.sk-container {\n",
       "  /* jupyter's `normalize.less` sets `[hidden] { display: none; }`\n",
       "     but bootstrap.min.css set `[hidden] { display: none !important; }`\n",
       "     so we also need the `!important` here to be able to override the\n",
       "     default hidden behavior on the sphinx rendered scikit-learn.org.\n",
       "     See: https://github.com/scikit-learn/scikit-learn/issues/21755 */\n",
       "  display: inline-block !important;\n",
       "  position: relative;\n",
       "}\n",
       "\n",
       "#sk-container-id-1 div.sk-text-repr-fallback {\n",
       "  display: none;\n",
       "}\n",
       "\n",
       "div.sk-parallel-item,\n",
       "div.sk-serial,\n",
       "div.sk-item {\n",
       "  /* draw centered vertical line to link estimators */\n",
       "  background-image: linear-gradient(var(--sklearn-color-text-on-default-background), var(--sklearn-color-text-on-default-background));\n",
       "  background-size: 2px 100%;\n",
       "  background-repeat: no-repeat;\n",
       "  background-position: center center;\n",
       "}\n",
       "\n",
       "/* Parallel-specific style estimator block */\n",
       "\n",
       "#sk-container-id-1 div.sk-parallel-item::after {\n",
       "  content: \"\";\n",
       "  width: 100%;\n",
       "  border-bottom: 2px solid var(--sklearn-color-text-on-default-background);\n",
       "  flex-grow: 1;\n",
       "}\n",
       "\n",
       "#sk-container-id-1 div.sk-parallel {\n",
       "  display: flex;\n",
       "  align-items: stretch;\n",
       "  justify-content: center;\n",
       "  background-color: var(--sklearn-color-background);\n",
       "  position: relative;\n",
       "}\n",
       "\n",
       "#sk-container-id-1 div.sk-parallel-item {\n",
       "  display: flex;\n",
       "  flex-direction: column;\n",
       "}\n",
       "\n",
       "#sk-container-id-1 div.sk-parallel-item:first-child::after {\n",
       "  align-self: flex-end;\n",
       "  width: 50%;\n",
       "}\n",
       "\n",
       "#sk-container-id-1 div.sk-parallel-item:last-child::after {\n",
       "  align-self: flex-start;\n",
       "  width: 50%;\n",
       "}\n",
       "\n",
       "#sk-container-id-1 div.sk-parallel-item:only-child::after {\n",
       "  width: 0;\n",
       "}\n",
       "\n",
       "/* Serial-specific style estimator block */\n",
       "\n",
       "#sk-container-id-1 div.sk-serial {\n",
       "  display: flex;\n",
       "  flex-direction: column;\n",
       "  align-items: center;\n",
       "  background-color: var(--sklearn-color-background);\n",
       "  padding-right: 1em;\n",
       "  padding-left: 1em;\n",
       "}\n",
       "\n",
       "\n",
       "/* Toggleable style: style used for estimator/Pipeline/ColumnTransformer box that is\n",
       "clickable and can be expanded/collapsed.\n",
       "- Pipeline and ColumnTransformer use this feature and define the default style\n",
       "- Estimators will overwrite some part of the style using the `sk-estimator` class\n",
       "*/\n",
       "\n",
       "/* Pipeline and ColumnTransformer style (default) */\n",
       "\n",
       "#sk-container-id-1 div.sk-toggleable {\n",
       "  /* Default theme specific background. It is overwritten whether we have a\n",
       "  specific estimator or a Pipeline/ColumnTransformer */\n",
       "  background-color: var(--sklearn-color-background);\n",
       "}\n",
       "\n",
       "/* Toggleable label */\n",
       "#sk-container-id-1 label.sk-toggleable__label {\n",
       "  cursor: pointer;\n",
       "  display: flex;\n",
       "  width: 100%;\n",
       "  margin-bottom: 0;\n",
       "  padding: 0.5em;\n",
       "  box-sizing: border-box;\n",
       "  text-align: center;\n",
       "  align-items: start;\n",
       "  justify-content: space-between;\n",
       "  gap: 0.5em;\n",
       "}\n",
       "\n",
       "#sk-container-id-1 label.sk-toggleable__label .caption {\n",
       "  font-size: 0.6rem;\n",
       "  font-weight: lighter;\n",
       "  color: var(--sklearn-color-text-muted);\n",
       "}\n",
       "\n",
       "#sk-container-id-1 label.sk-toggleable__label-arrow:before {\n",
       "  /* Arrow on the left of the label */\n",
       "  content: \"▸\";\n",
       "  float: left;\n",
       "  margin-right: 0.25em;\n",
       "  color: var(--sklearn-color-icon);\n",
       "}\n",
       "\n",
       "#sk-container-id-1 label.sk-toggleable__label-arrow:hover:before {\n",
       "  color: var(--sklearn-color-text);\n",
       "}\n",
       "\n",
       "/* Toggleable content - dropdown */\n",
       "\n",
       "#sk-container-id-1 div.sk-toggleable__content {\n",
       "  max-height: 0;\n",
       "  max-width: 0;\n",
       "  overflow: hidden;\n",
       "  text-align: left;\n",
       "  /* unfitted */\n",
       "  background-color: var(--sklearn-color-unfitted-level-0);\n",
       "}\n",
       "\n",
       "#sk-container-id-1 div.sk-toggleable__content.fitted {\n",
       "  /* fitted */\n",
       "  background-color: var(--sklearn-color-fitted-level-0);\n",
       "}\n",
       "\n",
       "#sk-container-id-1 div.sk-toggleable__content pre {\n",
       "  margin: 0.2em;\n",
       "  border-radius: 0.25em;\n",
       "  color: var(--sklearn-color-text);\n",
       "  /* unfitted */\n",
       "  background-color: var(--sklearn-color-unfitted-level-0);\n",
       "}\n",
       "\n",
       "#sk-container-id-1 div.sk-toggleable__content.fitted pre {\n",
       "  /* unfitted */\n",
       "  background-color: var(--sklearn-color-fitted-level-0);\n",
       "}\n",
       "\n",
       "#sk-container-id-1 input.sk-toggleable__control:checked~div.sk-toggleable__content {\n",
       "  /* Expand drop-down */\n",
       "  max-height: 200px;\n",
       "  max-width: 100%;\n",
       "  overflow: auto;\n",
       "}\n",
       "\n",
       "#sk-container-id-1 input.sk-toggleable__control:checked~label.sk-toggleable__label-arrow:before {\n",
       "  content: \"▾\";\n",
       "}\n",
       "\n",
       "/* Pipeline/ColumnTransformer-specific style */\n",
       "\n",
       "#sk-container-id-1 div.sk-label input.sk-toggleable__control:checked~label.sk-toggleable__label {\n",
       "  color: var(--sklearn-color-text);\n",
       "  background-color: var(--sklearn-color-unfitted-level-2);\n",
       "}\n",
       "\n",
       "#sk-container-id-1 div.sk-label.fitted input.sk-toggleable__control:checked~label.sk-toggleable__label {\n",
       "  background-color: var(--sklearn-color-fitted-level-2);\n",
       "}\n",
       "\n",
       "/* Estimator-specific style */\n",
       "\n",
       "/* Colorize estimator box */\n",
       "#sk-container-id-1 div.sk-estimator input.sk-toggleable__control:checked~label.sk-toggleable__label {\n",
       "  /* unfitted */\n",
       "  background-color: var(--sklearn-color-unfitted-level-2);\n",
       "}\n",
       "\n",
       "#sk-container-id-1 div.sk-estimator.fitted input.sk-toggleable__control:checked~label.sk-toggleable__label {\n",
       "  /* fitted */\n",
       "  background-color: var(--sklearn-color-fitted-level-2);\n",
       "}\n",
       "\n",
       "#sk-container-id-1 div.sk-label label.sk-toggleable__label,\n",
       "#sk-container-id-1 div.sk-label label {\n",
       "  /* The background is the default theme color */\n",
       "  color: var(--sklearn-color-text-on-default-background);\n",
       "}\n",
       "\n",
       "/* On hover, darken the color of the background */\n",
       "#sk-container-id-1 div.sk-label:hover label.sk-toggleable__label {\n",
       "  color: var(--sklearn-color-text);\n",
       "  background-color: var(--sklearn-color-unfitted-level-2);\n",
       "}\n",
       "\n",
       "/* Label box, darken color on hover, fitted */\n",
       "#sk-container-id-1 div.sk-label.fitted:hover label.sk-toggleable__label.fitted {\n",
       "  color: var(--sklearn-color-text);\n",
       "  background-color: var(--sklearn-color-fitted-level-2);\n",
       "}\n",
       "\n",
       "/* Estimator label */\n",
       "\n",
       "#sk-container-id-1 div.sk-label label {\n",
       "  font-family: monospace;\n",
       "  font-weight: bold;\n",
       "  display: inline-block;\n",
       "  line-height: 1.2em;\n",
       "}\n",
       "\n",
       "#sk-container-id-1 div.sk-label-container {\n",
       "  text-align: center;\n",
       "}\n",
       "\n",
       "/* Estimator-specific */\n",
       "#sk-container-id-1 div.sk-estimator {\n",
       "  font-family: monospace;\n",
       "  border: 1px dotted var(--sklearn-color-border-box);\n",
       "  border-radius: 0.25em;\n",
       "  box-sizing: border-box;\n",
       "  margin-bottom: 0.5em;\n",
       "  /* unfitted */\n",
       "  background-color: var(--sklearn-color-unfitted-level-0);\n",
       "}\n",
       "\n",
       "#sk-container-id-1 div.sk-estimator.fitted {\n",
       "  /* fitted */\n",
       "  background-color: var(--sklearn-color-fitted-level-0);\n",
       "}\n",
       "\n",
       "/* on hover */\n",
       "#sk-container-id-1 div.sk-estimator:hover {\n",
       "  /* unfitted */\n",
       "  background-color: var(--sklearn-color-unfitted-level-2);\n",
       "}\n",
       "\n",
       "#sk-container-id-1 div.sk-estimator.fitted:hover {\n",
       "  /* fitted */\n",
       "  background-color: var(--sklearn-color-fitted-level-2);\n",
       "}\n",
       "\n",
       "/* Specification for estimator info (e.g. \"i\" and \"?\") */\n",
       "\n",
       "/* Common style for \"i\" and \"?\" */\n",
       "\n",
       ".sk-estimator-doc-link,\n",
       "a:link.sk-estimator-doc-link,\n",
       "a:visited.sk-estimator-doc-link {\n",
       "  float: right;\n",
       "  font-size: smaller;\n",
       "  line-height: 1em;\n",
       "  font-family: monospace;\n",
       "  background-color: var(--sklearn-color-background);\n",
       "  border-radius: 1em;\n",
       "  height: 1em;\n",
       "  width: 1em;\n",
       "  text-decoration: none !important;\n",
       "  margin-left: 0.5em;\n",
       "  text-align: center;\n",
       "  /* unfitted */\n",
       "  border: var(--sklearn-color-unfitted-level-1) 1pt solid;\n",
       "  color: var(--sklearn-color-unfitted-level-1);\n",
       "}\n",
       "\n",
       ".sk-estimator-doc-link.fitted,\n",
       "a:link.sk-estimator-doc-link.fitted,\n",
       "a:visited.sk-estimator-doc-link.fitted {\n",
       "  /* fitted */\n",
       "  border: var(--sklearn-color-fitted-level-1) 1pt solid;\n",
       "  color: var(--sklearn-color-fitted-level-1);\n",
       "}\n",
       "\n",
       "/* On hover */\n",
       "div.sk-estimator:hover .sk-estimator-doc-link:hover,\n",
       ".sk-estimator-doc-link:hover,\n",
       "div.sk-label-container:hover .sk-estimator-doc-link:hover,\n",
       ".sk-estimator-doc-link:hover {\n",
       "  /* unfitted */\n",
       "  background-color: var(--sklearn-color-unfitted-level-3);\n",
       "  color: var(--sklearn-color-background);\n",
       "  text-decoration: none;\n",
       "}\n",
       "\n",
       "div.sk-estimator.fitted:hover .sk-estimator-doc-link.fitted:hover,\n",
       ".sk-estimator-doc-link.fitted:hover,\n",
       "div.sk-label-container:hover .sk-estimator-doc-link.fitted:hover,\n",
       ".sk-estimator-doc-link.fitted:hover {\n",
       "  /* fitted */\n",
       "  background-color: var(--sklearn-color-fitted-level-3);\n",
       "  color: var(--sklearn-color-background);\n",
       "  text-decoration: none;\n",
       "}\n",
       "\n",
       "/* Span, style for the box shown on hovering the info icon */\n",
       ".sk-estimator-doc-link span {\n",
       "  display: none;\n",
       "  z-index: 9999;\n",
       "  position: relative;\n",
       "  font-weight: normal;\n",
       "  right: .2ex;\n",
       "  padding: .5ex;\n",
       "  margin: .5ex;\n",
       "  width: min-content;\n",
       "  min-width: 20ex;\n",
       "  max-width: 50ex;\n",
       "  color: var(--sklearn-color-text);\n",
       "  box-shadow: 2pt 2pt 4pt #999;\n",
       "  /* unfitted */\n",
       "  background: var(--sklearn-color-unfitted-level-0);\n",
       "  border: .5pt solid var(--sklearn-color-unfitted-level-3);\n",
       "}\n",
       "\n",
       ".sk-estimator-doc-link.fitted span {\n",
       "  /* fitted */\n",
       "  background: var(--sklearn-color-fitted-level-0);\n",
       "  border: var(--sklearn-color-fitted-level-3);\n",
       "}\n",
       "\n",
       ".sk-estimator-doc-link:hover span {\n",
       "  display: block;\n",
       "}\n",
       "\n",
       "/* \"?\"-specific style due to the `<a>` HTML tag */\n",
       "\n",
       "#sk-container-id-1 a.estimator_doc_link {\n",
       "  float: right;\n",
       "  font-size: 1rem;\n",
       "  line-height: 1em;\n",
       "  font-family: monospace;\n",
       "  background-color: var(--sklearn-color-background);\n",
       "  border-radius: 1rem;\n",
       "  height: 1rem;\n",
       "  width: 1rem;\n",
       "  text-decoration: none;\n",
       "  /* unfitted */\n",
       "  color: var(--sklearn-color-unfitted-level-1);\n",
       "  border: var(--sklearn-color-unfitted-level-1) 1pt solid;\n",
       "}\n",
       "\n",
       "#sk-container-id-1 a.estimator_doc_link.fitted {\n",
       "  /* fitted */\n",
       "  border: var(--sklearn-color-fitted-level-1) 1pt solid;\n",
       "  color: var(--sklearn-color-fitted-level-1);\n",
       "}\n",
       "\n",
       "/* On hover */\n",
       "#sk-container-id-1 a.estimator_doc_link:hover {\n",
       "  /* unfitted */\n",
       "  background-color: var(--sklearn-color-unfitted-level-3);\n",
       "  color: var(--sklearn-color-background);\n",
       "  text-decoration: none;\n",
       "}\n",
       "\n",
       "#sk-container-id-1 a.estimator_doc_link.fitted:hover {\n",
       "  /* fitted */\n",
       "  background-color: var(--sklearn-color-fitted-level-3);\n",
       "}\n",
       "</style><div id=\"sk-container-id-1\" class=\"sk-top-container\"><div class=\"sk-text-repr-fallback\"><pre>DecisionTreeClassifier(max_leaf_nodes=3, random_state=0)</pre><b>In a Jupyter environment, please rerun this cell to show the HTML representation or trust the notebook. <br />On GitHub, the HTML representation is unable to render, please try loading this page with nbviewer.org.</b></div><div class=\"sk-container\" hidden><div class=\"sk-item\"><div class=\"sk-estimator fitted sk-toggleable\"><input class=\"sk-toggleable__control sk-hidden--visually\" id=\"sk-estimator-id-1\" type=\"checkbox\" checked><label for=\"sk-estimator-id-1\" class=\"sk-toggleable__label fitted sk-toggleable__label-arrow\"><div><div>DecisionTreeClassifier</div></div><div><a class=\"sk-estimator-doc-link fitted\" rel=\"noreferrer\" target=\"_blank\" href=\"https://scikit-learn.org/1.6/modules/generated/sklearn.tree.DecisionTreeClassifier.html\">?<span>Documentation for DecisionTreeClassifier</span></a><span class=\"sk-estimator-doc-link fitted\">i<span>Fitted</span></span></div></label><div class=\"sk-toggleable__content fitted\"><pre>DecisionTreeClassifier(max_leaf_nodes=3, random_state=0)</pre></div> </div></div></div></div>"
      ],
      "text/plain": [
       "DecisionTreeClassifier(max_leaf_nodes=3, random_state=0)"
      ]
     },
     "execution_count": 10,
     "metadata": {},
     "output_type": "execute_result"
    }
   ],
   "source": [
    "clf"
   ]
  },
  {
   "cell_type": "code",
   "execution_count": 11,
   "id": "6a15e371-c79f-4403-bbb0-5810b273d787",
   "metadata": {
    "tags": []
   },
   "outputs": [
    {
     "name": "stdout",
     "output_type": "stream",
     "text": [
      "Árbol:  <sklearn.tree._tree.Tree object at 0x7fc495014420>\n",
      "El árbol tiene 5 nodos\n",
      "Hijos izquierdos:  [ 1 -1  3 -1 -1]\n",
      "Hijos derechos:  [ 2 -1  4 -1 -1]\n",
      "Características que dividen al nodo i:  [ 3 -2  2 -2 -2] -> ['petal width (cm)', 'petal length (cm)', 'petal length (cm)', 'petal length (cm)', 'petal length (cm)']\n"
     ]
    }
   ],
   "source": [
    "print(\"Árbol: \", clf.tree_)\n",
    "print(f\"El árbol tiene {clf.tree_.node_count} nodos\")\n",
    "print(\"Hijos izquierdos: \", clf.tree_.children_left)\n",
    "print(\"Hijos derechos: \", clf.tree_.children_right)\n",
    "print(\"Características que dividen al nodo i: \", clf.tree_.feature, \"->\",\n",
    "      [iris.feature_names[i] for i in clf.tree_.feature])\n",
    "#dir(clf.tree_)\n",
    "#help(tree._tree.Tree)"
   ]
  },
  {
   "cell_type": "markdown",
   "id": "d4245dc6-195f-410d-82ae-3fdd5ebc6c69",
   "metadata": {},
   "source": [
    "#### Explicaciones"
   ]
  },
  {
   "cell_type": "code",
   "execution_count": 12,
   "id": "8f84b1f9-5413-4867-9621-aef9d7a8a272",
   "metadata": {
    "tags": []
   },
   "outputs": [
    {
     "data": {
      "application/vnd.jupyter.widget-view+json": {
       "model_id": "0d483c16d01b41b2b8e901896a50752e",
       "version_major": 2,
       "version_minor": 0
      },
      "text/plain": [
       "interactive(children=(IntSlider(value=0, description='num_ejemplar', max=17), Output()), _dom_classes=('widget…"
      ]
     },
     "metadata": {},
     "output_type": "display_data"
    }
   ],
   "source": [
    "# Adaptado de 'Understanding the decision tree structure'\n",
    "\n",
    "# Devuelve la clase asignada\n",
    "clase = clf.predict(X_test)\n",
    "\n",
    "# Devuelve el camino recorrido en una matriz de indicadores\n",
    "node_indicator = clf.decision_path(X_test)\n",
    "#print(\"Matrices indicadoras:\")\n",
    "#print(node_indicator)\n",
    "\n",
    "# Devuelve las hojas de los caminos\n",
    "leaf_id = clf.apply(X_test)\n",
    "#print(leaf_id)\n",
    "    \n",
    "@interact(num_ejemplar = widgets.IntSlider(min=0, max=len(X_test)-1))\n",
    "def obtén_explicación(num_ejemplar):\n",
    "    # Obtiene los índices identificadores  de los nodos por los que pasa\n",
    "    # `num_ejemplar`, que se encuentran en el renglón `num_ejemplar`\n",
    "    node_index = node_indicator.indices[\n",
    "        node_indicator.indptr[num_ejemplar] : node_indicator.indptr[num_ejemplar + 1]\n",
    "    ]\n",
    "\n",
    "    print(\"Reglas usadas para predecir la muestra {id}:\\n\".format(id=num_ejemplar))\n",
    "    for node_id in node_index:\n",
    "        # Detecta si el nodo es hoja\n",
    "        nodo_final = leaf_id[num_ejemplar] == node_id\n",
    "\n",
    "        # Revisa si el valor de la caracterítisca de división para el ejemplar se encuentra\n",
    "        # debajo del umbral aprendido por el nodo\n",
    "        if X_test[num_ejemplar, clf.tree_.feature[node_id]] <= clf.tree_.threshold[node_id]:\n",
    "            threshold_sign = \"<=\"\n",
    "        else:\n",
    "            threshold_sign = \">\"\n",
    "\n",
    "        print(\n",
    "            \"Nodo {node_type} {node} : {feature_name} (X_test[{sample}, {feature}] = {value}) \"\n",
    "            \"{inequality} {threshold})\".format(\n",
    "                node_type= 'final' if nodo_final else 'de decisión',\n",
    "                node=node_id,\n",
    "                feature_name=iris.feature_names[clf.tree_.feature[node_id]],\n",
    "                sample=num_ejemplar,\n",
    "                feature=clf.tree_.feature[node_id],\n",
    "                value=X_test[num_ejemplar, clf.tree_.feature[node_id]],\n",
    "                inequality=threshold_sign,\n",
    "                threshold=clf.tree_.threshold[node_id],\n",
    "            )\n",
    "        )\n",
    "    print(\"Clase: \", iris.target_names[clase[num_ejemplar]])"
   ]
  },
  {
   "cell_type": "markdown",
   "id": "b2d164a0-5e61-4141-8758-68660eac82a1",
   "metadata": {},
   "source": [
    "#### Matriz de confusión"
   ]
  },
  {
   "cell_type": "code",
   "execution_count": 13,
   "id": "9773c078-3009-4c41-a379-192db2697b3d",
   "metadata": {
    "tags": []
   },
   "outputs": [],
   "source": [
    "from sklearn.metrics import confusion_matrix\n",
    "from sklearn.metrics import accuracy_score\n",
    "import seaborn as sns"
   ]
  },
  {
   "cell_type": "code",
   "execution_count": 14,
   "id": "ab3391f1-6d0a-4566-beb1-619128b6d129",
   "metadata": {
    "tags": []
   },
   "outputs": [],
   "source": [
    "y_pred_idx = clf.predict(X_train)"
   ]
  },
  {
   "cell_type": "code",
   "execution_count": 15,
   "id": "0153baaf-4f72-4d2b-ab03-ace2cd9f6184",
   "metadata": {
    "tags": []
   },
   "outputs": [],
   "source": [
    "y_true = [iris.target_names[y] for y in y_train]\n",
    "y_pred = [iris.target_names[y] for y in y_pred_idx]\n",
    "labels = iris.target_names.tolist()"
   ]
  },
  {
   "cell_type": "code",
   "execution_count": 17,
   "id": "0696f551-24f0-4078-bd7f-7fd05e255281",
   "metadata": {
    "tags": []
   },
   "outputs": [],
   "source": [
    "conf = confusion_matrix(y_true, y_pred, labels=labels)\n",
    "accuracy = round(accuracy_score(y_train, y_pred_idx), 2)"
   ]
  },
  {
   "cell_type": "code",
   "execution_count": 18,
   "id": "93fecff7-dfed-4baf-9447-aeeff1dd11ff",
   "metadata": {
    "tags": []
   },
   "outputs": [
    {
     "data": {
      "text/plain": [
       "Text(0.5, 1.0, 'Matriz de confusión entrenamiento')"
      ]
     },
     "execution_count": 18,
     "metadata": {},
     "output_type": "execute_result"
    },
    {
     "data": {
      "image/png": "[encoded data removed]",
      "text/plain": [
       "<Figure size 400x300 with 2 Axes>"
      ]
     },
     "metadata": {},
     "output_type": "display_data"
    }
   ],
   "source": [
    "plt.figure(figsize=(4,3), dpi=100)\n",
    "ax = sns.heatmap(conf/np.sum(conf),\n",
    "            annot=True, cmap='Blues')\n",
    "plt.tick_params(axis='both', which='major', labelsize=10, labelbottom = False, bottom=False, top = False, labeltop=True)\n",
    "ax.xaxis.set_ticklabels(labels)\n",
    "ax.yaxis.set_ticklabels(labels)\n",
    "ax.set_title(\"Matriz de confusión entrenamiento\")"
   ]
  },
  {
   "cell_type": "markdown",
   "id": "6e745a86-b9ef-49ec-b78c-9c9c91e64247",
   "metadata": {},
   "source": [
    "<div class=\"alert alert-block alert-info\">\n",
    "  <b>Ejercicio 1:</b><br/>\n",
    "    Grafica la <b>matriz de confusión</b> para el conjunto de <b>validación</b>.\n",
    "</div>"
   ]
  },
  {
   "cell_type": "code",
   "execution_count": 20,
   "id": "2961fbc6-b603-4085-8422-598da038c9d1",
   "metadata": {
    "tags": []
   },
   "outputs": [],
   "source": [
    "# TODO: Agrega las celdas que necesites con tu código"
   ]
  },
  {
   "cell_type": "markdown",
   "id": "c5c9b782-3dd4-4d79-95e4-3213577b8633",
   "metadata": {},
   "source": [
    "### Entrenamiento"
   ]
  },
  {
   "cell_type": "markdown",
   "id": "0378f235-7830-4c74-a222-e4f1aae60daa",
   "metadata": {},
   "source": [
    "<div class=\"alert alert-block alert-info\">\n",
    "  <b>Ejercicio 2:</b><br/>\n",
    "    Utiliza ahora el conjunto de <b>validación</b> para decidir cuál es el mejor valor para el <b>máximo número de hojas</b>.\n",
    "</div>"
   ]
  },
  {
   "cell_type": "code",
   "execution_count": 21,
   "id": "e789dda3-c1fe-4c5d-b957-79460c5e0c59",
   "metadata": {
    "tags": []
   },
   "outputs": [],
   "source": [
    "# TODO: Agrega las celdas que necesites con tu código"
   ]
  },
  {
   "cell_type": "markdown",
   "id": "b2761d7c-90d2-4a3a-92b1-7ee3546040ee",
   "metadata": {},
   "source": [
    "<div class=\"alert alert-block alert-info\">\n",
    "  <b>Ejercicio 3:</b><br/>\n",
    "    Utiliza el conjunto de <b>prueba</b> para evaluar el desempeño del valor que elegiste.\n",
    "</div>"
   ]
  },
  {
   "cell_type": "code",
   "execution_count": 22,
   "id": "dcf7af30-417c-41e0-8c85-6e1468a6e7c4",
   "metadata": {
    "tags": []
   },
   "outputs": [],
   "source": [
    "# TODO: Agrega las celdas que necesites con tu código"
   ]
  },
  {
   "cell_type": "markdown",
   "id": "c1a0c077-6a75-4d92-b96e-11289e4aacdf",
   "metadata": {},
   "source": [
    "### Regresión\n",
    "\n",
    "También es posible utilizar estos árboles para aproximar funciones como un problema de regresión, aunque no suele ser tan eficiente como otras técnicas. [Decision Tree Regression](https://scikit-learn.org/stable/auto_examples/tree/plot_tree_regression.html#sphx-glr-auto-examples-tree-plot-tree-regression-py)\n",
    "<figure>\n",
    " <center>\n",
    "  <img src=\"https://scikit-learn.org/stable/_images/sphx_glr_plot_tree_regression_001.png\" alt=\"Uso en regresión\">\n",
    " <figcaption>Ejemplo tomado de la documentaciónd de scikit</figcaption>\n",
    " </center>    \n",
    "</figure>"
   ]
  },
  {
   "cell_type": "markdown",
   "id": "811b3c2f-afed-44eb-96cd-54439ad79c7a",
   "metadata": {},
   "source": [
    "# Bosques aleatorios"
   ]
  },
  {
   "cell_type": "code",
   "execution_count": 19,
   "id": "9d0d56e7-efaa-4baf-bc91-61649e72e6bf",
   "metadata": {
    "tags": []
   },
   "outputs": [],
   "source": [
    "from sklearn.ensemble import RandomForestClassifier"
   ]
  },
  {
   "cell_type": "code",
   "execution_count": 20,
   "id": "a21d33ad-4a62-48d0-818d-100b5cc07d39",
   "metadata": {
    "tags": []
   },
   "outputs": [
    {
     "name": "stdout",
     "output_type": "stream",
     "text": [
      "Exactitud al entrenar = 1.0\n"
     ]
    }
   ],
   "source": [
    "forest = RandomForestClassifier(n_estimators=3)\n",
    "\n",
    "forest.fit(X_train, y_train)\n",
    "forest_y_pred_idx = forest.predict(X_train)\n",
    "ac = round(accuracy_score(y_train, forest_y_pred_idx), 2)\n",
    "print(\"Exactitud al entrenar =\", ac)"
   ]
  },
  {
   "cell_type": "markdown",
   "id": "503f0e5f-aec7-4df2-bd7e-d0cc0d9c071b",
   "metadata": {
    "tags": []
   },
   "source": [
    "<div class=\"alert alert-block alert-warning\">\n",
    "  Como este conjunto de datos fue hecho a modo, no contamos con ejemplares para validar.\n",
    "</div>"
   ]
  },
  {
   "cell_type": "markdown",
   "id": "348eb6fc-2732-4078-863b-eb06d7130398",
   "metadata": {},
   "source": [
    "## Conjunto de datos artificial\n",
    "\n",
    "Esta función de ```sklearn``` genera muestras simulando bolsas de palabras para diferentes clases de documentos.  Aunque el modelo contiene varias imprecisiones será útil para ilustrar el funcionamiento del algoritmo.\n",
    "\n",
    "**Documentación:** [make_classification](https://scikit-learn.org/stable/modules/generated/sklearn.datasets.make_classification.html#sklearn.datasets.make_classification\n",
    ")"
   ]
  },
  {
   "cell_type": "code",
   "execution_count": 21,
   "id": "80ae986b-3edc-45bb-ad40-ece207f80760",
   "metadata": {
    "tags": []
   },
   "outputs": [],
   "source": [
    "from sklearn.datasets import make_classification"
   ]
  },
  {
   "cell_type": "code",
   "execution_count": 22,
   "id": "9b7600a6-4511-45d7-bfdd-09308ec04b28",
   "metadata": {
    "tags": []
   },
   "outputs": [],
   "source": [
    "X1, Y1 = make_classification(\n",
    "    n_samples = 1000,\n",
    "    n_features=20, n_classes=5,\n",
    "    n_redundant=4, n_informative=16, n_clusters_per_class=3\n",
    ")"
   ]
  },
  {
   "cell_type": "code",
   "execution_count": 23,
   "id": "82e36028-4115-4a49-965d-a1e2a532c2ad",
   "metadata": {
    "tags": []
   },
   "outputs": [
    {
     "data": {
      "image/png": "[encoded data removed]",
      "text/plain": [
       "<Figure size 640x480 with 1 Axes>"
      ]
     },
     "metadata": {},
     "output_type": "display_data"
    }
   ],
   "source": [
    "# Eligiendo dos características al azar para visualizar\n",
    "sc = plt.scatter(X1[:, 0], X1[:, 1], marker=\".\", c=Y1, s=25)\n",
    "plt.xlabel('Característica 0')\n",
    "plt.ylabel('Característica 1')\n",
    "\n",
    "lp = lambda i: plt.plot([], color=sc.cmap(sc.norm(i)), mec=\"none\",\n",
    "                        label=\"Clase {:g}\".format(i), ls=\"\", marker=\"o\")[0]\n",
    "handles = [lp(i) for i in np.unique(Y1)]\n",
    "v = plt.legend(handles=handles)"
   ]
  },
  {
   "cell_type": "markdown",
   "id": "7ffd677f-5069-4925-bb30-77a713873b85",
   "metadata": {},
   "source": [
    "## Bosque"
   ]
  },
  {
   "cell_type": "code",
   "execution_count": 24,
   "id": "ef289e24-1cab-400c-95d6-1caccb2dfbef",
   "metadata": {
    "tags": []
   },
   "outputs": [],
   "source": [
    "# Entrenamiento, validación y prueba\n",
    "F_X_train, F_X_temp, F_y_train, F_y_temp = train_test_split(X1, Y1, train_size=0.7, random_state=0)\n",
    "F_X_val, F_X_test, F_y_val, F_y_test = train_test_split(F_X_temp, F_y_temp, train_size=0.6, random_state=0)"
   ]
  },
  {
   "cell_type": "code",
   "execution_count": 26,
   "id": "59d51b7c-9cf4-4eb7-93b7-f2b46fe13472",
   "metadata": {
    "tags": []
   },
   "outputs": [
    {
     "data": {
      "application/vnd.jupyter.widget-view+json": {
       "model_id": "631a25a56387456488cc2096d6dbb6c0",
       "version_major": 2,
       "version_minor": 0
      },
      "text/plain": [
       "interactive(children=(IntSlider(value=5, description='num_árboles', max=20, min=2), IntSlider(value=5, descrip…"
      ]
     },
     "metadata": {},
     "output_type": "display_data"
    }
   ],
   "source": [
    "# Entrenar un bosque\n",
    "\n",
    "# Guardarán los datos del último árbol obtenido\n",
    "art_forest = None\n",
    "@interact(\n",
    "    num_árboles = widgets.IntSlider(min=2, max=20, value=5),\n",
    "    max_profunidad = widgets.IntSlider(min=0, max=20, value=5),\n",
    ")\n",
    "def árboles_para_iris(num_árboles, max_profunidad):\n",
    "    global art_forest\n",
    "    if max_profunidad == 0:\n",
    "        max_profunidad = None   # Árboles con hojas puras\n",
    "    art_forest = RandomForestClassifier(\n",
    "        n_estimators=num_árboles,\n",
    "        max_depth=max_profunidad,\n",
    "    )\n",
    "    art_forest.fit(F_X_train, F_y_train)\n",
    "    F_y_pred_idx = art_forest.predict(F_X_train)\n",
    "    ac = round(accuracy_score(F_y_train, F_y_pred_idx), 2)\n",
    "    print(\"Exactitud al entrenar =\", ac)\n",
    "\n",
    "    F_y_pred_idx = art_forest.predict(F_X_val)\n",
    "    ac = round(accuracy_score(F_y_val, F_y_pred_idx), 2)\n",
    "    print(\"Exactitud al validar =\", ac)"
   ]
  },
  {
   "cell_type": "code",
   "execution_count": 27,
   "id": "94f7baa0-bcee-4181-af91-7ab93fd62276",
   "metadata": {
    "tags": []
   },
   "outputs": [
    {
     "name": "stdout",
     "output_type": "stream",
     "text": [
      "Exactitud al probar = 0.42\n"
     ]
    }
   ],
   "source": [
    "F_y_pred_idx = art_forest.predict(F_X_test)\n",
    "ac = round(accuracy_score(F_y_test, F_y_pred_idx), 2)\n",
    "print(\"Exactitud al probar =\", ac)"
   ]
  },
  {
   "cell_type": "code",
   "execution_count": 29,
   "id": "95530165-be44-4f5a-839b-f39ebb7edfb4",
   "metadata": {
    "tags": []
   },
   "outputs": [
    {
     "data": {
      "application/vnd.jupyter.widget-view+json": {
       "model_id": "37da0e7f5dda42ea9e5d191a9fab22bc",
       "version_major": 2,
       "version_minor": 0
      },
      "text/plain": [
       "interactive(children=(IntSlider(value=3, description='max_num_hojas', max=10, min=2), Output()), _dom_classes=…"
      ]
     },
     "metadata": {},
     "output_type": "display_data"
    }
   ],
   "source": [
    "# Comparando con un solo árbol\n",
    "\n",
    "art_clf = None\n",
    "@interact(max_num_hojas = widgets.IntSlider(min=2, max=10, value=3))\n",
    "def árboles_para_iris(max_num_hojas):\n",
    "    global art_clf\n",
    "    art_clf = DecisionTreeClassifier(max_leaf_nodes=max_num_hojas, random_state=0)\n",
    "    art_clf.fit(F_X_train, F_y_train)\n",
    "    clf_y_pred_idx = art_clf.predict(F_X_train)\n",
    "    ac = round(accuracy_score(F_y_train, clf_y_pred_idx), 2)\n",
    "    print(\"Exactitud al entrenar =\", ac)\n",
    "\n",
    "    clf_y_pred_idx = art_clf.predict(F_X_val)\n",
    "    ac = round(accuracy_score(F_y_val, clf_y_pred_idx), 2)\n",
    "    print(\"Exactitud al validar =\", ac)"
   ]
  },
  {
   "cell_type": "code",
   "execution_count": 30,
   "id": "d14e4655-18c2-4ec9-9990-7fcfda707f77",
   "metadata": {
    "tags": []
   },
   "outputs": [
    {
     "data": {
      "image/png": "[encoded data removed]",
      "text/plain": [
       "<Figure size 640x480 with 1 Axes>"
      ]
     },
     "metadata": {},
     "output_type": "display_data"
    }
   ],
   "source": [
    "p = tree.plot_tree(art_clf)"
   ]
  },
  {
   "cell_type": "markdown",
   "id": "a22005a4-9f51-47f7-8cc5-f61fd6d9c03a",
   "metadata": {},
   "source": [
    "## Importancia de las características\n",
    "\n",
    "La **importancia** de cada característica se calcula como la _media_ y la _desviación estándar_ de la acumulación del decremento de la impureza en cada árbol. [Pixel importances with a parallel forest of trees](https://scikit-learn.org/stable/auto_examples/ensemble/plot_forest_importances_faces.html#sphx-glr-auto-examples-ensemble-plot-forest-importances-faces-py)"
   ]
  },
  {
   "cell_type": "code",
   "execution_count": 31,
   "id": "29623446-78c2-499a-8761-332f6470801d",
   "metadata": {
    "tags": []
   },
   "outputs": [
    {
     "name": "stdout",
     "output_type": "stream",
     "text": [
      "Importancias:  [0.04767212 0.09413153 0.02717418 0.02599431 0.10974981 0.04256394\n",
      " 0.0581882  0.03381467 0.05449904 0.05209242 0.03835521 0.05076774\n",
      " 0.02308329 0.02646542 0.03387969 0.03058967 0.03548327 0.05816144\n",
      " 0.10231601 0.05501804]\n",
      "Orden de importancia:  [12  3 13  2 15  7 14 16 10  5  0 11  9  8 19 17  6  1 18  4]\n"
     ]
    }
   ],
   "source": [
    "importances = art_forest.feature_importances_\n",
    "print(\"Importancias: \", importances)\n",
    "\n",
    "orden_importancia = np.argsort(importances)\n",
    "print(\"Orden de importancia: \", orden_importancia)"
   ]
  },
  {
   "cell_type": "markdown",
   "id": "676176e8-4443-4ee9-876d-a2f9955c9344",
   "metadata": {},
   "source": [
    "# Bayes ingénuo\n",
    "\n",
    "<figure>\n",
    " <center>\n",
    "  <img src=\"figuras/BayesIng.png\" style=\"width:40%\"/>\n",
    " </center>    \n",
    "</figure>\n",
    "\n",
    "En general, el teorema de Bayes afirma que dadas variables aleatorias para representar a las clases $y$ y las caracterísicas $x_i$:\n",
    "\n",
    "\\begin{align}\n",
    " P(y|x_1,...,x_n) = \\frac{P(y) P(x_1,...,x_n|y)}{P(x_1,...,x_n)}\n",
    "\\end{align}\n",
    "\n",
    "si asumimos que dada la clase $y$, las características son **condicionalmente independientes**, es posible simplificar lo anterior a:\n",
    "\\begin{align}\n",
    " P(y|x_1,...,x_n) = \\frac{P(y) \\prod_{i=1}^n P(x_i|y)}{P(x_1,...,x_n)}\n",
    "\\end{align}\n",
    "\n",
    "Entonces podemos asignar como clase al ejemplar con características $x_1,...,x_n$ aquella que maximice el producto siguiente:\n",
    "\\begin{align}\n",
    " \\hat{y} = \\arg \\operatorname*{max}_y P(y) \\prod_{i=1}^n P(x_i|y)\n",
    "\\end{align}\n",
    "\n",
    "\n",
    "**Nota**: Existen ejemplos que muestran como calcular la constante de normalización $P(x_1,...,x_n)$ sí puede mejorar el desempeño de un clasificador bayesiano, pues incluye información del ambiente."
   ]
  },
  {
   "cell_type": "markdown",
   "id": "692e8695-171a-4bcb-97dc-819543681e7a",
   "metadata": {},
   "source": [
    "Diferentes formas de aproximar $P(x_i|y)$ están implementadas en scikit. [Naive Bayes](https://scikit-learn.org/stable/modules/naive_bayes.html)\n",
    "\n",
    "Por ejemplo, si las variables son **categóricas**, se puede utilizar [CategoricalNB](https://scikit-learn.org/stable/modules/generated/sklearn.naive_bayes.CategoricalNB.html#sklearn.naive_bayes.CategoricalNB). Este es el caso del problema del día para jugar tenis."
   ]
  },
  {
   "cell_type": "code",
   "execution_count": 32,
   "id": "b5324ff0-260f-4057-ade6-f2d49a7b78c6",
   "metadata": {
    "tags": []
   },
   "outputs": [],
   "source": [
    "from sklearn.naive_bayes import GaussianNB"
   ]
  },
  {
   "cell_type": "markdown",
   "id": "af2b7d52-9f3c-4521-8df1-dc8e4f474093",
   "metadata": {},
   "source": [
    "## Ejemplo con Iris\n",
    "\n",
    "Se asume que la **verosimilitud** de las características es una Gaussiana:\n",
    "\\begin{align*}\n",
    " P(x_i|y) = \\frac{1}{\\sqrt{2\\pi\\sigma_y^2}}\\exp\\left(-\\frac{(x_i - \\mu_y)^2}{2\\sigma_y^2}\\right)\n",
    "\\end{align*}\n",
    "Durante el entrenamiento se calculan los valores para $\\mu_y$ y $\\sigma_y$ que maximicen este valor para el conjunto de entrenamiento, a este método se le llama **máxima verosimilitud**."
   ]
  },
  {
   "cell_type": "code",
   "execution_count": 33,
   "id": "d84be3d8-c4eb-4327-a1c8-f649ef37acba",
   "metadata": {
    "tags": []
   },
   "outputs": [
    {
     "name": "stdout",
     "output_type": "stream",
     "text": [
      "Entrenamiento: número de ejemplares mal etiquetados de un total de 105 points : 6\n",
      "Prueba:        número de ejemplares mal etiquetados de un total de 18 points : 0\n"
     ]
    }
   ],
   "source": [
    "gnb = GaussianNB()\n",
    "y_pred = gnb.fit(X_train, y_train).predict(X_train)\n",
    "print(\"Entrenamiento: número de ejemplares mal etiquetados de un total de %d points : %d\"\n",
    "      % (X_train.shape[0], (y_train != y_pred).sum()))\n",
    "y_pred = gnb.predict(X_test)\n",
    "print(\"Prueba:        número de ejemplares mal etiquetados de un total de %d points : %d\"\n",
    "      % (X_test.shape[0], (y_test != y_pred).sum()))"
   ]
  }
 ],
 "metadata": {
  "kernelspec": {
   "display_name": "Python 3 (ipykernel)",
   "language": "python",
   "name": "python3"
  },
  "language_info": {
   "codemirror_mode": {
    "name": "ipython",
    "version": 3
   },
   "file_extension": ".py",
   "mimetype": "text/x-python",
   "name": "python",
   "nbconvert_exporter": "python",
   "pygments_lexer": "ipython3",
   "version": "3.11.6"
  }
 },
 "nbformat": 4,
 "nbformat_minor": 5
}
