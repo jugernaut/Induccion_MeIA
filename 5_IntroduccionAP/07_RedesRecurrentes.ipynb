{
 "cells": [
  {
   "cell_type": "markdown",
   "id": "5b14de52-b10a-41f1-a95d-c9b71dd262eb",
   "metadata": {},
   "source": [
    "# Redes recurrentes\n",
    "\n",
    "Proyecto PAPIME PE102723\n",
    "\n",
    "Esta red aprenderá un patrón subyacente a los nombres que se les dan a los dinosaurios, utilizaremos esto para pedirle que genere nombre nuevos.\n",
    "\n",
    "## Datos\n",
    "Usaremos los nombres de dinosarios descargados de [este repo](https://github.com/codificandobits/Generacion_de_nombres_con_Redes_Recurrentes/blob/master/nombres_dinosaurios.txt), incluímos aquí ya la copia por practicidad.  Este ejercicio se basa en [Tutorial: generación de texto con Redes Recurrentes en Python](https://www.codificandobits.com/blog/tutorial-generacion-de-texto-con-redes-recurrentes-python/)."
   ]
  },
  {
   "cell_type": "code",
   "execution_count": 1,
   "id": "6b8ff3c0-acc0-4a3a-a5b3-b42601f9f524",
   "metadata": {
    "tags": []
   },
   "outputs": [],
   "source": [
    "import numpy as np\n",
    "import matplotlib.pyplot as plt\n",
    "plt.style.use('ggplot')\n",
    "from ipywidgets import interact, interact_manual\n",
    "import ipywidgets as widgets"
   ]
  },
  {
   "cell_type": "code",
   "execution_count": 2,
   "id": "663be07b-dc61-49da-8106-8f49d0796e82",
   "metadata": {
    "tags": []
   },
   "outputs": [],
   "source": [
    "import torch\n",
    "from torch import nn"
   ]
  },
  {
   "cell_type": "code",
   "execution_count": 3,
   "id": "7e036751-4505-4d6f-b934-e0f46fd08e10",
   "metadata": {
    "tags": []
   },
   "outputs": [],
   "source": [
    "# Path for saving the network\n",
    "PATH = 'data/dinos.pth'"
   ]
  },
  {
   "cell_type": "code",
   "execution_count": 4,
   "id": "1c889b18-6087-43e9-9577-1f455a47b4c8",
   "metadata": {
    "tags": []
   },
   "outputs": [],
   "source": [
    "# Se carga todo el archivo como una sola cadena muy larga\n",
    "nombres = open('data/nombres_dinosaurios.txt','r').read()\n",
    "# nombres"
   ]
  },
  {
   "cell_type": "code",
   "execution_count": 5,
   "id": "ad7f4916-7cd7-4986-80a7-e14ddfd27af8",
   "metadata": {
    "tags": []
   },
   "outputs": [
    {
     "name": "stdout",
     "output_type": "stream",
     "text": [
      "Número de entradas posibles: 54\n",
      "Número de ejemplares: 19909\n",
      "Entradas: ['.', '\\n', 'A', 'B', 'C', 'D', 'E', 'F', 'G', 'H', 'I', 'J', 'K', 'L', 'M', 'N', 'O', 'P', 'Q', 'R', 'S', 'T', 'U', 'V', 'W', 'X', 'Y', 'Z', 'a', 'b', 'c', 'd', 'e', 'f', 'g', 'h', 'i', 'j', 'k', 'l', 'm', 'n', 'o', 'p', 'q', 'r', 's', 't', 'u', 'v', 'w', 'x', 'y', 'z']\n"
     ]
    }
   ],
   "source": [
    "# Entradas: caracteres\n",
    "\n",
    "alfabeto = ['.'] + sorted(list(set(nombres)))\n",
    "tam_datos, tam_alfabeto = len(nombres), len(alfabeto)\n",
    "\n",
    "print(\"Número de entradas posibles:\", tam_alfabeto)\n",
    "print(\"Número de ejemplares:\", tam_datos)\n",
    "print(\"Entradas:\", alfabeto)"
   ]
  },
  {
   "cell_type": "code",
   "execution_count": 6,
   "id": "8fcdf957-62d9-4a74-83cc-bef9d77e32da",
   "metadata": {
    "tags": []
   },
   "outputs": [],
   "source": [
    "# Mapeo de caracter a posición\n",
    "car_a_ind = { car:ind for ind,car in enumerate(alfabeto)}"
   ]
  },
  {
   "cell_type": "code",
   "execution_count": 7,
   "id": "58d38d34-f689-487b-82d3-1489663a1736",
   "metadata": {
    "tags": []
   },
   "outputs": [],
   "source": [
    "def one_hot(car):\n",
    "    \"\"\"\n",
    "    Devuelve la codificación one hot para el caracter según el\n",
    "    alfabeto de este problema\n",
    "    \"\"\"\n",
    "    ceros = np.zeros(tam_alfabeto)\n",
    "    ceros[car_a_ind[car]] = 1\n",
    "    return ceros"
   ]
  },
  {
   "cell_type": "code",
   "execution_count": 8,
   "id": "1fdc4e2a-2ec6-4cc7-bbdb-f3d16e684d47",
   "metadata": {
    "tags": []
   },
   "outputs": [],
   "source": [
    "def a_car(one_hot):\n",
    "    \"\"\"\n",
    "    Devuelve el caracter representado por el vector one hot.\n",
    "    \"\"\"\n",
    "    índice = np.argmax(one_hot)\n",
    "    return alfabeto[índice]"
   ]
  },
  {
   "cell_type": "code",
   "execution_count": 9,
   "id": "51f122bc-9bdf-4961-af68-5acc7b562f0d",
   "metadata": {
    "tags": []
   },
   "outputs": [
    {
     "data": {
      "application/vnd.jupyter.widget-view+json": {
       "model_id": "731e217d544b429c8c90c68a1239002d",
       "version_major": 2,
       "version_minor": 0
      },
      "text/plain": [
       "interactive(children=(IntSlider(value=26, description='index', max=53), Output()), _dom_classes=('widget-inter…"
      ]
     },
     "metadata": {},
     "output_type": "display_data"
    }
   ],
   "source": [
    "@interact(index = (0, tam_alfabeto - 1) )\n",
    "def test_one_hot(index):\n",
    "    c = alfabeto[index]\n",
    "    print(\"Caracter =\", c)\n",
    "    return one_hot(c)"
   ]
  },
  {
   "cell_type": "code",
   "execution_count": 10,
   "id": "0ded8295-d560-40ad-82d6-d9da4e8903b0",
   "metadata": {
    "tags": []
   },
   "outputs": [
    {
     "name": "stdout",
     "output_type": "stream",
     "text": [
      "Ejemplo del formato de entrada:\n"
     ]
    },
    {
     "data": {
      "text/plain": [
       "'.Aachenosaurus'"
      ]
     },
     "execution_count": 10,
     "metadata": {},
     "output_type": "execute_result"
    }
   ],
   "source": [
    "# Separación de palabras\n",
    "\n",
    "nombres_separados = nombres.split('\\n')\n",
    "nombres_separados = ['.' + nom for nom in nombres_separados]  # . indica el inicio\n",
    "print('Ejemplo del formato de entrada:')\n",
    "nombres_separados[0]"
   ]
  },
  {
   "cell_type": "code",
   "execution_count": 11,
   "id": "2cae7b41-c727-4985-8b22-d7d410cd24af",
   "metadata": {
    "tags": []
   },
   "outputs": [],
   "source": [
    "# Entradas\n",
    "\n",
    "X_list = []\n",
    "for nombre in nombres_separados:\n",
    "    lm = []\n",
    "    for c in nombre:\n",
    "        lm.append(one_hot(c))\n",
    "    m = np.vstack(lm)\n",
    "    X_list.append(m)\n",
    "# X_list[0]    # (L,H_{in})"
   ]
  },
  {
   "cell_type": "code",
   "execution_count": 12,
   "id": "5e31969e-cfb5-4305-8a9b-1371f0b70d5b",
   "metadata": {
    "tags": []
   },
   "outputs": [],
   "source": [
    "# Salidas, los caracteres se recorren uno a la izquierda\n",
    "\n",
    "Y_list = [np.vstack((m_nombre[1:], one_hot('\\n'))) for m_nombre in X_list]\n",
    "#Y_list[0]"
   ]
  },
  {
   "cell_type": "code",
   "execution_count": 13,
   "id": "ed0747ac-079d-40c3-b5ae-b422b0d946e8",
   "metadata": {
    "tags": []
   },
   "outputs": [
    {
     "data": {
      "application/vnd.jupyter.widget-view+json": {
       "model_id": "ff3b03cf54614c2aab7a0cd3b4da4a84",
       "version_major": 2,
       "version_minor": 0
      },
      "text/plain": [
       "interactive(children=(IntSlider(value=767, description='index', max=1535), Output()), _dom_classes=('widget-in…"
      ]
     },
     "metadata": {},
     "output_type": "display_data"
    }
   ],
   "source": [
    "@interact(index = (0, len(X_list) - 1) )\n",
    "def test_XY(index):\n",
    "    print([a_car(oh) for oh in X_list[index]])\n",
    "    print([a_car(oh) for oh in Y_list[index]])"
   ]
  },
  {
   "cell_type": "code",
   "execution_count": 14,
   "id": "f88a443c-5ae3-487e-95b6-410a327100e9",
   "metadata": {
    "tags": []
   },
   "outputs": [],
   "source": [
    "# Cada palabra tiene una longitud distinta\n",
    "X = np.array(X_list, dtype=object)  # Arreglo de objetos\n",
    "Y = np.array(Y_list, dtype=object)\n",
    "\n",
    "t_indices = np.arange(len(X_list))\n",
    "np.random.shuffle(t_indices)\n",
    "t_i1 = int(len(X) * 0.7)\n",
    "i_train = t_indices[:t_i1]\n",
    "i_test = t_indices[t_i1:]\n",
    "\n",
    "# Entrenamiento\n",
    "X_train = X[i_train]\n",
    "Y_train = Y[i_train]\n",
    "\n",
    "# Prueba\n",
    "X_test = X[i_test]\n",
    "Y_test = Y[i_test]\n",
    "\n",
    "#X_train"
   ]
  },
  {
   "cell_type": "markdown",
   "id": "9dcff231-eacd-4c72-98e5-7cfa19384998",
   "metadata": {},
   "source": [
    "# Red recurrente\n",
    "\n",
    "Para cada elemento en la secuencia, cada capa calcula:\n",
    "\\begin{align}\n",
    "  h_t = \\tanh(x_t W_{ih}^T + b_{ih} + h_{t-1} W_{hh}^T + b_{hh})\n",
    "\\end{align}\n",
    "con $x_t$ la entrada y $h_t$ el estado oculto al tiempo $t$, $h_(t-1)$ es el estado oculto de la capa anterior al tiempo $t-1$ o el estado oculto inicial."
   ]
  },
  {
   "cell_type": "code",
   "execution_count": 15,
   "id": "3bb5ea94-bc10-4663-ad25-47dbbe5d0228",
   "metadata": {},
   "outputs": [],
   "source": [
    "NUM_OCULTAS = 25\n",
    "NUM_CAPAS_RNN = 1\n",
    "BIDIRECCIONAL = False\n",
    "D = 2 if BIDIRECCIONAL else 1\n",
    "class Dinosauriólogo(nn.Module):\n",
    "    \"\"\"\n",
    "    Red recurrente para generar nombres de dinosaurios.\n",
    "    \"\"\"\n",
    "    def __init__(self, n_entrada=tam_alfabeto, n_oculta=NUM_OCULTAS):\n",
    "        super(Dinosauriólogo, self).__init__()\n",
    "        self.rnn = nn.RNN(input_size=n_entrada,\n",
    "                          hidden_size=n_oculta,\n",
    "                          num_layers=NUM_CAPAS_RNN,\n",
    "                          nonlinearity='tanh',\n",
    "                          bias=True,\n",
    "                          bidirectional=BIDIRECCIONAL)\n",
    "        self.ffn = nn.Linear(n_oculta, tam_alfabeto, bias=True)\n",
    "        self.smax = nn.Softmax(dim=1)\n",
    "        \n",
    "    def forward(self, x):\n",
    "        salida, oculta = self.rnn(x)  #h_0 son ceros por defecto\n",
    "        salida = self.smax(self.ffn(salida))\n",
    "        return salida"
   ]
  },
  {
   "cell_type": "code",
   "execution_count": 16,
   "id": "68fe9296-e57d-41b4-87a3-5db39929d0f7",
   "metadata": {
    "tags": []
   },
   "outputs": [],
   "source": [
    "RR_0 = Dinosauriólogo()"
   ]
  },
  {
   "cell_type": "markdown",
   "id": "7679d2ef-77ec-46ee-a4f2-b0d344f0c5b2",
   "metadata": {},
   "source": [
    "## Uso"
   ]
  },
  {
   "cell_type": "code",
   "execution_count": 17,
   "id": "6deff024-2112-4f7f-8a21-5852ea2e7485",
   "metadata": {
    "tags": []
   },
   "outputs": [],
   "source": [
    "def nombre_a_cadena(narr):\n",
    "    \"\"\"\n",
    "    Obtiene el nombre codificado en la matriz de vectores one hot.\n",
    "    \"\"\"\n",
    "    return ''.join([a_car(oh) for oh in narr])"
   ]
  },
  {
   "cell_type": "code",
   "execution_count": 18,
   "id": "a97e15bf-9a27-4810-bc9f-b31a73b45b2b",
   "metadata": {
    "tags": []
   },
   "outputs": [
    {
     "data": {
      "application/vnd.jupyter.widget-view+json": {
       "model_id": "4e0f9415f671436f9bbc7ed2456ecec6",
       "version_major": 2,
       "version_minor": 0
      },
      "text/plain": [
       "interactive(children=(IntSlider(value=537, description='index', max=1074), Output()), _dom_classes=('widget-in…"
      ]
     },
     "metadata": {},
     "output_type": "display_data"
    }
   ],
   "source": [
    "# https://pytorch.org/docs/stable/generated/torch.nn.RNN.html#torch.nn.RNN\n",
    "# Estado oculto inicial (1, H_{out})\n",
    "@interact(index = (0, len(i_train) - 1) )\n",
    "def predicción(index):\n",
    "    # Ejemplar (L,H_{in})\n",
    "    x = torch.tensor(X_train[index], dtype=torch.float32)\n",
    "\n",
    "    # Evaluación de la red\n",
    "    salida = RR_0(x)\n",
    "    \n",
    "    print(nombre_a_cadena(X_train[index]),\n",
    "          '->',\n",
    "          nombre_a_cadena(salida.detach().numpy()))"
   ]
  },
  {
   "cell_type": "markdown",
   "id": "db23f4c9-d293-4153-8126-560d1845b541",
   "metadata": {},
   "source": [
    "# Entrenamiento"
   ]
  },
  {
   "cell_type": "code",
   "execution_count": 19,
   "id": "35e667d6-44d9-4597-a171-2808bebdf20f",
   "metadata": {
    "tags": []
   },
   "outputs": [],
   "source": [
    "def train(model, X, Y, X_test, Y_test, learning_rate=0.01, momentum=0.5, weight_decay=0, num_steps=500, alpha=0.75):\n",
    "    \"\"\"\n",
    "    Recibe el modelo de red neuronal a entrenar,\n",
    "    los datos de entrada X y los valores de salida deseados Y\n",
    "    en tensores de PyTorch\n",
    "    \"\"\"\n",
    "    errores = np.zeros(num_steps)\n",
    "    errores_test = np.zeros(num_steps)\n",
    "    \n",
    "    #optimizer = torch.optim.SGD(model.parameters(), lr=learning_rate, momentum=momentum, dampening=0, weight_decay=weight_decay, nesterov=True)\n",
    "    #optimizer = torch.optim.ASGD(model.parameters(), lr=learning_rate, lambd=0.0001, alpha=alpha, weight_decay=weight_decay) # Averaged Stochastic Gradient Descent\n",
    "    #optimizer = torch.optim.RMSprop(model.parameters(), lr=learning_rate, alpha=0.99, weight_decay=weight_decay, momentum=0.5) # Adaptive lr\n",
    "    #optimizer = torch.optim.Adadelta(model.parameters(), lr=1.0, weight_decay=weight_decay) # Adaptive lr\n",
    "    #optimizer = torch.optim.Adagrad(model.parameters(), lr=0.01,lr_decay=0,weight_decay=weight_decay) # Adaptive subgradient\n",
    "    optimizer = torch.optim.Adam(model.parameters(), lr=learning_rate)\n",
    "    #criterion = torch.nn.MSELoss()       # Mean Squared Error\n",
    "    #criterion = nn.CrossEntropyLoss()\n",
    "    criterion = nn.BCELoss()\n",
    "    \n",
    "    for t in range(num_steps):\n",
    "        \n",
    "        # Entrena\n",
    "        for i in range(len(X)):\n",
    "            # Forward pass: Compute predicted y by passing x to the model\n",
    "            y_pred = model(X[i])\n",
    "\n",
    "            # Compute and print loss\n",
    "            loss = criterion(y_pred, Y[i])\n",
    "            errores[t] += loss.item()\n",
    "            #print(loss, \":\", y_pred, Y[i])\n",
    "\n",
    "            # Zero gradients, perform a backward pass, and update the weights.\n",
    "            optimizer.zero_grad()\n",
    "            loss.backward()\n",
    "            optimizer.step()\n",
    "        \n",
    "        # Prueba\n",
    "        for i in range(len(X_test)):\n",
    "            # Forward pass: Compute predicted y by passing x to the model\n",
    "            y_pred = model(X_test[i])\n",
    "\n",
    "            # Compute and print loss\n",
    "            test_loss = criterion(y_pred, Y_test[i])\n",
    "            errores_test[t] += test_loss.item()\n",
    "    if num_steps > 1:\n",
    "        # Grafica error\n",
    "        steps = np.arange(num_steps)\n",
    "        plt.plot(steps, errores, label='Entrenamiento')\n",
    "        plt.plot(steps, errores_test, label='Prueba') # A veces estorba\n",
    "        plt.legend()\n",
    "        plt.title(\"Error\")\n",
    "        plt.ylabel(\"Error\" + str(optimizer))\n",
    "        plt.xlabel(\"Iteración\")\n",
    "    print(\"Final error = \", errores[-1])"
   ]
  },
  {
   "cell_type": "code",
   "execution_count": 20,
   "id": "25447ed4-91e2-4a60-83d1-885a71d18a88",
   "metadata": {
    "tags": []
   },
   "outputs": [
    {
     "data": {
      "application/vnd.jupyter.widget-view+json": {
       "model_id": "b49c43ab1f9042cdb51025235b768abb",
       "version_major": 2,
       "version_minor": 0
      },
      "text/plain": [
       "interactive(children=(Button(description='Run Interact', style=ButtonStyle()), Output()), _dom_classes=('widge…"
      ]
     },
     "metadata": {},
     "output_type": "display_data"
    }
   ],
   "source": [
    "num_clicks = 0\n",
    "@interact_manual()\n",
    "def mini_entrena():\n",
    "    torch_X_train = [torch.tensor(x, dtype=torch.float32) for x in X_train]\n",
    "    torch_Y_train = [torch.tensor(y, dtype=torch.float32) for y in Y_train]\n",
    "    torch_X_test = [torch.tensor(x, dtype=torch.float32) for x in X_test]\n",
    "    torch_Y_test = [torch.tensor(y, dtype=torch.float32) for y in Y_test]\n",
    "    train(RR_0, torch_X_train, torch_Y_train, torch_X_test, torch_Y_test,\n",
    "          learning_rate=0.01, num_steps=50)\n",
    "    global num_clicks\n",
    "    num_clicks += 1\n",
    "    print(\"Run:\", num_clicks)"
   ]
  },
  {
   "cell_type": "code",
   "execution_count": 21,
   "id": "65424090-ce6a-4321-b738-e5e52f976150",
   "metadata": {},
   "outputs": [
    {
     "data": {
      "application/vnd.jupyter.widget-view+json": {
       "model_id": "fddf28be78e9439ab13c65ec79223136",
       "version_major": 2,
       "version_minor": 0
      },
      "text/plain": [
       "interactive(children=(Button(description='Run Interact', style=ButtonStyle()), Output()), _dom_classes=('widge…"
      ]
     },
     "metadata": {},
     "output_type": "display_data"
    }
   ],
   "source": [
    "@interact_manual()\n",
    "def save_network():\n",
    "    torch.save(RR_0.state_dict(), PATH)"
   ]
  },
  {
   "cell_type": "code",
   "execution_count": 22,
   "id": "8b73beb7-f3b9-4e3f-978e-2d3031cd2995",
   "metadata": {
    "tags": []
   },
   "outputs": [
    {
     "data": {
      "application/vnd.jupyter.widget-view+json": {
       "model_id": "3d2ee7b873f044aea281237e8fac4f2c",
       "version_major": 2,
       "version_minor": 0
      },
      "text/plain": [
       "interactive(children=(Button(description='Run Interact', style=ButtonStyle()), Output()), _dom_classes=('widge…"
      ]
     },
     "metadata": {},
     "output_type": "display_data"
    }
   ],
   "source": [
    "@interact_manual()\n",
    "def load_network():\n",
    "    global RR_0\n",
    "    RR_0 = Dinosauriólogo()\n",
    "    state_dict = torch.load(PATH)\n",
    "    RR_0.load_state_dict(state_dict)\n",
    "    print(\"Se cargó el archivo con los pesos de la red\")"
   ]
  },
  {
   "cell_type": "markdown",
   "id": "265899de-7a8a-4c36-be7a-1ca78b18d8b2",
   "metadata": {},
   "source": [
    "# Producción\n",
    "\n",
    "Se utiliza la red para producir el caracter por caracter.  Se alimenta inicialmente con '.' y luego se utiliza su salida como entrada siguiente hasta que produzca el caracter '\\n' o haya alcanzado el número límite de caracteres."
   ]
  },
  {
   "cell_type": "code",
   "execution_count": 23,
   "id": "3a787aff-e255-4ae0-a048-0a22cab578a9",
   "metadata": {
    "tags": []
   },
   "outputs": [
    {
     "data": {
      "application/vnd.jupyter.widget-view+json": {
       "model_id": "15a5ca3a5d4a4cb5ba9c34239fa6a0d9",
       "version_major": 2,
       "version_minor": 0
      },
      "text/plain": [
       "interactive(children=(Output(),), _dom_classes=('widget-interact',))"
      ]
     },
     "metadata": {},
     "output_type": "display_data"
    }
   ],
   "source": [
    "@interact\n",
    "def produce():\n",
    "    # Ejemplar (L,H_{in})\n",
    "    x = torch.tensor(one_hot('.').reshape(1,tam_alfabeto), dtype=torch.float32)\n",
    "    num = 0\n",
    "    dino = ''\n",
    "    c = ''\n",
    "    \n",
    "    while c != '\\n' and num < 20:\n",
    "        # Evaluación de la red\n",
    "        salida = RR_0(x)\n",
    "        c = nombre_a_cadena(salida.detach().numpy()) \n",
    "        dino += c\n",
    "        \n",
    "        print(nombre_a_cadena(x), '->', c)\n",
    "        x = torch.tensor(one_hot(c).reshape(1,tam_alfabeto), dtype=torch.float32)\n",
    "        num += 1\n",
    "    print(\"Dino se llama \", dino)"
   ]
  },
  {
   "cell_type": "code",
   "execution_count": null,
   "id": "4ba96733-6a81-4163-b998-8f79bc5bc7d4",
   "metadata": {},
   "outputs": [],
   "source": []
  }
 ],
 "metadata": {
  "kernelspec": {
   "display_name": "Python 3 (ipykernel)",
   "language": "python",
   "name": "python3"
  },
  "language_info": {
   "codemirror_mode": {
    "name": "ipython",
    "version": 3
   },
   "file_extension": ".py",
   "mimetype": "text/x-python",
   "name": "python",
   "nbconvert_exporter": "python",
   "pygments_lexer": "ipython3",
   "version": "3.12.3"
  }
 },
 "nbformat": 4,
 "nbformat_minor": 5
}
